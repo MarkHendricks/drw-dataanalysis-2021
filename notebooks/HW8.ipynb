{
 "cells": [
  {
   "cell_type": "code",
   "execution_count": 1,
   "id": "25fbb3dd",
   "metadata": {
    "ExecuteTime": {
     "end_time": "2021-06-30T18:55:18.087170Z",
     "start_time": "2021-06-30T18:55:18.081336Z"
    },
    "id": "25fbb3dd"
   },
   "outputs": [],
   "source": [
    "import pandas as pd\n",
    "import numpy as np\n",
    "import statsmodels.api as sm\n",
    "from statsmodels.graphics.tsaplots import plot_acf\n",
    "import matplotlib.pyplot as plt\n",
    "from matplotlib.pyplot import figure\n",
    "import seaborn as sns\n",
    "from arch import arch_model\n",
    "sns.set()"
   ]
  },
  {
   "cell_type": "code",
   "execution_count": 2,
   "id": "2b2305e0",
   "metadata": {
    "ExecuteTime": {
     "end_time": "2021-06-30T18:55:18.143219Z",
     "start_time": "2021-06-30T18:55:18.090676Z"
    },
    "colab": {
     "base_uri": "https://localhost:8080/",
     "height": 235
    },
    "id": "2b2305e0",
    "outputId": "84878795-6c4d-4119-99c0-90e9c727d15b"
   },
   "outputs": [
    {
     "data": {
      "text/html": [
       "<div>\n",
       "<style scoped>\n",
       "    .dataframe tbody tr th:only-of-type {\n",
       "        vertical-align: middle;\n",
       "    }\n",
       "\n",
       "    .dataframe tbody tr th {\n",
       "        vertical-align: top;\n",
       "    }\n",
       "\n",
       "    .dataframe thead th {\n",
       "        text-align: right;\n",
       "    }\n",
       "</style>\n",
       "<table border=\"1\" class=\"dataframe\">\n",
       "  <thead>\n",
       "    <tr style=\"text-align: right;\">\n",
       "      <th></th>\n",
       "      <th>SPY US Equity</th>\n",
       "      <th>AAPL US Equity</th>\n",
       "      <th>CL1 Comdty</th>\n",
       "      <th>DXY Curncy</th>\n",
       "      <th>HFRIMTI Index</th>\n",
       "      <th>Rate Convexity</th>\n",
       "      <th>Portfolio</th>\n",
       "      <th>10-yr Yields</th>\n",
       "      <th>Dvd-Price Ratio</th>\n",
       "    </tr>\n",
       "    <tr>\n",
       "      <th>Date</th>\n",
       "      <th></th>\n",
       "      <th></th>\n",
       "      <th></th>\n",
       "      <th></th>\n",
       "      <th></th>\n",
       "      <th></th>\n",
       "      <th></th>\n",
       "      <th></th>\n",
       "      <th></th>\n",
       "    </tr>\n",
       "  </thead>\n",
       "  <tbody>\n",
       "    <tr>\n",
       "      <th>1999-10-31</th>\n",
       "      <td>0.064078</td>\n",
       "      <td>0.265523</td>\n",
       "      <td>-0.112607</td>\n",
       "      <td>0.005277</td>\n",
       "      <td>0.0235</td>\n",
       "      <td>0.025013</td>\n",
       "      <td>0.000072</td>\n",
       "      <td>0.06024</td>\n",
       "      <td>0.010868</td>\n",
       "    </tr>\n",
       "    <tr>\n",
       "      <th>1999-11-30</th>\n",
       "      <td>0.016651</td>\n",
       "      <td>0.221519</td>\n",
       "      <td>0.130575</td>\n",
       "      <td>0.029578</td>\n",
       "      <td>0.0250</td>\n",
       "      <td>0.027722</td>\n",
       "      <td>0.105636</td>\n",
       "      <td>0.06191</td>\n",
       "      <td>0.010690</td>\n",
       "    </tr>\n",
       "    <tr>\n",
       "      <th>1999-12-31</th>\n",
       "      <td>0.057089</td>\n",
       "      <td>0.050465</td>\n",
       "      <td>0.041074</td>\n",
       "      <td>-0.001177</td>\n",
       "      <td>0.0509</td>\n",
       "      <td>0.040543</td>\n",
       "      <td>0.042261</td>\n",
       "      <td>0.06442</td>\n",
       "      <td>0.009465</td>\n",
       "    </tr>\n",
       "    <tr>\n",
       "      <th>2000-01-31</th>\n",
       "      <td>-0.049787</td>\n",
       "      <td>0.009123</td>\n",
       "      <td>0.079687</td>\n",
       "      <td>0.032002</td>\n",
       "      <td>0.0155</td>\n",
       "      <td>0.034617</td>\n",
       "      <td>0.031966</td>\n",
       "      <td>0.06665</td>\n",
       "      <td>0.009961</td>\n",
       "    </tr>\n",
       "    <tr>\n",
       "      <th>2000-02-29</th>\n",
       "      <td>-0.015226</td>\n",
       "      <td>0.104820</td>\n",
       "      <td>0.100941</td>\n",
       "      <td>0.007515</td>\n",
       "      <td>0.0596</td>\n",
       "      <td>-0.038410</td>\n",
       "      <td>0.063138</td>\n",
       "      <td>0.06409</td>\n",
       "      <td>0.010792</td>\n",
       "    </tr>\n",
       "  </tbody>\n",
       "</table>\n",
       "</div>"
      ],
      "text/plain": [
       "            SPY US Equity  AAPL US Equity  CL1 Comdty  DXY Curncy  \\\n",
       "Date                                                                \n",
       "1999-10-31       0.064078        0.265523   -0.112607    0.005277   \n",
       "1999-11-30       0.016651        0.221519    0.130575    0.029578   \n",
       "1999-12-31       0.057089        0.050465    0.041074   -0.001177   \n",
       "2000-01-31      -0.049787        0.009123    0.079687    0.032002   \n",
       "2000-02-29      -0.015226        0.104820    0.100941    0.007515   \n",
       "\n",
       "            HFRIMTI Index  Rate Convexity  Portfolio  10-yr Yields  \\\n",
       "Date                                                                 \n",
       "1999-10-31         0.0235        0.025013   0.000072       0.06024   \n",
       "1999-11-30         0.0250        0.027722   0.105636       0.06191   \n",
       "1999-12-31         0.0509        0.040543   0.042261       0.06442   \n",
       "2000-01-31         0.0155        0.034617   0.031966       0.06665   \n",
       "2000-02-29         0.0596       -0.038410   0.063138       0.06409   \n",
       "\n",
       "            Dvd-Price Ratio  \n",
       "Date                         \n",
       "1999-10-31         0.010868  \n",
       "1999-11-30         0.010690  \n",
       "1999-12-31         0.009465  \n",
       "2000-01-31         0.009961  \n",
       "2000-02-29         0.010792  "
      ]
     },
     "execution_count": 2,
     "metadata": {},
     "output_type": "execute_result"
    }
   ],
   "source": [
    "data = pd.read_excel(\"hw_7_data.xlsx\").rename(columns={\"Unnamed: 0\": \"Date\"}).set_index(\"Date\")\n",
    "data.head(5)"
   ]
  },
  {
   "cell_type": "markdown",
   "id": "87248dfb",
   "metadata": {
    "id": "87248dfb"
   },
   "source": [
    "# 1. Forecast Regressions"
   ]
  },
  {
   "cell_type": "code",
   "execution_count": 3,
   "id": "feaf305b",
   "metadata": {
    "ExecuteTime": {
     "end_time": "2021-06-30T18:55:18.147009Z",
     "start_time": "2021-06-30T18:55:18.144931Z"
    },
    "id": "feaf305b"
   },
   "outputs": [],
   "source": [
    "y = data['SPY US Equity']"
   ]
  },
  {
   "cell_type": "markdown",
   "id": "53d9aa79",
   "metadata": {
    "id": "53d9aa79"
   },
   "source": [
    "## 1.1.a"
   ]
  },
  {
   "cell_type": "code",
   "execution_count": 4,
   "id": "831d3bbd",
   "metadata": {
    "ExecuteTime": {
     "end_time": "2021-06-30T18:55:18.158154Z",
     "start_time": "2021-06-30T18:55:18.148500Z"
    },
    "colab": {
     "base_uri": "https://localhost:8080/",
     "height": 444
    },
    "id": "831d3bbd",
    "outputId": "3d0b46e8-1395-44f3-b254-da78f1cdbdf5"
   },
   "outputs": [
    {
     "data": {
      "text/html": [
       "<table class=\"simpletable\">\n",
       "<caption>OLS Regression Results</caption>\n",
       "<tr>\n",
       "  <th>Dep. Variable:</th>      <td>SPY US Equity</td>  <th>  R-squared:         </th> <td>   0.011</td>\n",
       "</tr>\n",
       "<tr>\n",
       "  <th>Model:</th>                   <td>OLS</td>       <th>  Adj. R-squared:    </th> <td>   0.007</td>\n",
       "</tr>\n",
       "<tr>\n",
       "  <th>Method:</th>             <td>Least Squares</td>  <th>  F-statistic:       </th> <td>   2.683</td>\n",
       "</tr>\n",
       "<tr>\n",
       "  <th>Date:</th>             <td>Thu, 08 Jul 2021</td> <th>  Prob (F-statistic):</th>  <td> 0.103</td> \n",
       "</tr>\n",
       "<tr>\n",
       "  <th>Time:</th>                 <td>21:38:14</td>     <th>  Log-Likelihood:    </th> <td>  419.10</td>\n",
       "</tr>\n",
       "<tr>\n",
       "  <th>No. Observations:</th>      <td>   238</td>      <th>  AIC:               </th> <td>  -834.2</td>\n",
       "</tr>\n",
       "<tr>\n",
       "  <th>Df Residuals:</th>          <td>   236</td>      <th>  BIC:               </th> <td>  -827.3</td>\n",
       "</tr>\n",
       "<tr>\n",
       "  <th>Df Model:</th>              <td>     1</td>      <th>                     </th>     <td> </td>   \n",
       "</tr>\n",
       "<tr>\n",
       "  <th>Covariance Type:</th>      <td>nonrobust</td>    <th>                     </th>     <td> </td>   \n",
       "</tr>\n",
       "</table>\n",
       "<table class=\"simpletable\">\n",
       "<tr>\n",
       "         <td></td>            <th>coef</th>     <th>std err</th>      <th>t</th>      <th>P>|t|</th>  <th>[0.025</th>    <th>0.975]</th>  \n",
       "</tr>\n",
       "<tr>\n",
       "  <th>const</th>           <td>   -0.0140</td> <td>    0.012</td> <td>   -1.139</td> <td> 0.256</td> <td>   -0.038</td> <td>    0.010</td>\n",
       "</tr>\n",
       "<tr>\n",
       "  <th>Dvd-Price Ratio</th> <td>    1.0678</td> <td>    0.652</td> <td>    1.638</td> <td> 0.103</td> <td>   -0.217</td> <td>    2.352</td>\n",
       "</tr>\n",
       "</table>\n",
       "<table class=\"simpletable\">\n",
       "<tr>\n",
       "  <th>Omnibus:</th>       <td>24.604</td> <th>  Durbin-Watson:     </th> <td>   1.872</td>\n",
       "</tr>\n",
       "<tr>\n",
       "  <th>Prob(Omnibus):</th> <td> 0.000</td> <th>  Jarque-Bera (JB):  </th> <td>  35.009</td>\n",
       "</tr>\n",
       "<tr>\n",
       "  <th>Skew:</th>          <td>-0.660</td> <th>  Prob(JB):          </th> <td>2.50e-08</td>\n",
       "</tr>\n",
       "<tr>\n",
       "  <th>Kurtosis:</th>      <td> 4.337</td> <th>  Cond. No.          </th> <td>    241.</td>\n",
       "</tr>\n",
       "</table><br/><br/>Notes:<br/>[1] Standard Errors assume that the covariance matrix of the errors is correctly specified."
      ],
      "text/plain": [
       "<class 'statsmodels.iolib.summary.Summary'>\n",
       "\"\"\"\n",
       "                            OLS Regression Results                            \n",
       "==============================================================================\n",
       "Dep. Variable:          SPY US Equity   R-squared:                       0.011\n",
       "Model:                            OLS   Adj. R-squared:                  0.007\n",
       "Method:                 Least Squares   F-statistic:                     2.683\n",
       "Date:                Thu, 08 Jul 2021   Prob (F-statistic):              0.103\n",
       "Time:                        21:38:14   Log-Likelihood:                 419.10\n",
       "No. Observations:                 238   AIC:                            -834.2\n",
       "Df Residuals:                     236   BIC:                            -827.3\n",
       "Df Model:                           1                                         \n",
       "Covariance Type:            nonrobust                                         \n",
       "===================================================================================\n",
       "                      coef    std err          t      P>|t|      [0.025      0.975]\n",
       "-----------------------------------------------------------------------------------\n",
       "const              -0.0140      0.012     -1.139      0.256      -0.038       0.010\n",
       "Dvd-Price Ratio     1.0678      0.652      1.638      0.103      -0.217       2.352\n",
       "==============================================================================\n",
       "Omnibus:                       24.604   Durbin-Watson:                   1.872\n",
       "Prob(Omnibus):                  0.000   Jarque-Bera (JB):               35.009\n",
       "Skew:                          -0.660   Prob(JB):                     2.50e-08\n",
       "Kurtosis:                       4.337   Cond. No.                         241.\n",
       "==============================================================================\n",
       "\n",
       "Notes:\n",
       "[1] Standard Errors assume that the covariance matrix of the errors is correctly specified.\n",
       "\"\"\""
      ]
     },
     "execution_count": 4,
     "metadata": {},
     "output_type": "execute_result"
    }
   ],
   "source": [
    "X = sm.add_constant(data['Dvd-Price Ratio']).shift(1)\n",
    "model1 = sm.OLS(y,X,missing='drop').fit()\n",
    "model1.summary()"
   ]
  },
  {
   "cell_type": "markdown",
   "id": "aeb195e2",
   "metadata": {
    "id": "aeb195e2"
   },
   "source": [
    "## 1.1.b"
   ]
  },
  {
   "cell_type": "code",
   "execution_count": 5,
   "id": "11d5aa61",
   "metadata": {
    "ExecuteTime": {
     "end_time": "2021-06-30T18:55:18.169012Z",
     "start_time": "2021-06-30T18:55:18.158878Z"
    },
    "colab": {
     "base_uri": "https://localhost:8080/",
     "height": 444
    },
    "id": "11d5aa61",
    "outputId": "2332231e-d706-4bcf-dfc4-f3398ed80e16"
   },
   "outputs": [
    {
     "data": {
      "text/html": [
       "<table class=\"simpletable\">\n",
       "<caption>OLS Regression Results</caption>\n",
       "<tr>\n",
       "  <th>Dep. Variable:</th>      <td>SPY US Equity</td>  <th>  R-squared:         </th> <td>   0.027</td>\n",
       "</tr>\n",
       "<tr>\n",
       "  <th>Model:</th>                   <td>OLS</td>       <th>  Adj. R-squared:    </th> <td>   0.023</td>\n",
       "</tr>\n",
       "<tr>\n",
       "  <th>Method:</th>             <td>Least Squares</td>  <th>  F-statistic:       </th> <td>   6.544</td>\n",
       "</tr>\n",
       "<tr>\n",
       "  <th>Date:</th>             <td>Thu, 08 Jul 2021</td> <th>  Prob (F-statistic):</th>  <td>0.0112</td> \n",
       "</tr>\n",
       "<tr>\n",
       "  <th>Time:</th>                 <td>21:38:14</td>     <th>  Log-Likelihood:    </th> <td>  421.01</td>\n",
       "</tr>\n",
       "<tr>\n",
       "  <th>No. Observations:</th>      <td>   238</td>      <th>  AIC:               </th> <td>  -838.0</td>\n",
       "</tr>\n",
       "<tr>\n",
       "  <th>Df Residuals:</th>          <td>   236</td>      <th>  BIC:               </th> <td>  -831.1</td>\n",
       "</tr>\n",
       "<tr>\n",
       "  <th>Df Model:</th>              <td>     1</td>      <th>                     </th>     <td> </td>   \n",
       "</tr>\n",
       "<tr>\n",
       "  <th>Covariance Type:</th>      <td>nonrobust</td>    <th>                     </th>     <td> </td>   \n",
       "</tr>\n",
       "</table>\n",
       "<table class=\"simpletable\">\n",
       "<tr>\n",
       "        <td></td>          <th>coef</th>     <th>std err</th>      <th>t</th>      <th>P>|t|</th>  <th>[0.025</th>    <th>0.975]</th>  \n",
       "</tr>\n",
       "<tr>\n",
       "  <th>const</th>        <td>    0.0246</td> <td>    0.008</td> <td>    3.119</td> <td> 0.002</td> <td>    0.009</td> <td>    0.040</td>\n",
       "</tr>\n",
       "<tr>\n",
       "  <th>10-yr Yields</th> <td>   -0.5483</td> <td>    0.214</td> <td>   -2.558</td> <td> 0.011</td> <td>   -0.971</td> <td>   -0.126</td>\n",
       "</tr>\n",
       "</table>\n",
       "<table class=\"simpletable\">\n",
       "<tr>\n",
       "  <th>Omnibus:</th>       <td>17.307</td> <th>  Durbin-Watson:     </th> <td>   1.906</td>\n",
       "</tr>\n",
       "<tr>\n",
       "  <th>Prob(Omnibus):</th> <td> 0.000</td> <th>  Jarque-Bera (JB):  </th> <td>  22.248</td>\n",
       "</tr>\n",
       "<tr>\n",
       "  <th>Skew:</th>          <td>-0.529</td> <th>  Prob(JB):          </th> <td>1.48e-05</td>\n",
       "</tr>\n",
       "<tr>\n",
       "  <th>Kurtosis:</th>      <td> 4.060</td> <th>  Cond. No.          </th> <td>    79.9</td>\n",
       "</tr>\n",
       "</table><br/><br/>Notes:<br/>[1] Standard Errors assume that the covariance matrix of the errors is correctly specified."
      ],
      "text/plain": [
       "<class 'statsmodels.iolib.summary.Summary'>\n",
       "\"\"\"\n",
       "                            OLS Regression Results                            \n",
       "==============================================================================\n",
       "Dep. Variable:          SPY US Equity   R-squared:                       0.027\n",
       "Model:                            OLS   Adj. R-squared:                  0.023\n",
       "Method:                 Least Squares   F-statistic:                     6.544\n",
       "Date:                Thu, 08 Jul 2021   Prob (F-statistic):             0.0112\n",
       "Time:                        21:38:14   Log-Likelihood:                 421.01\n",
       "No. Observations:                 238   AIC:                            -838.0\n",
       "Df Residuals:                     236   BIC:                            -831.1\n",
       "Df Model:                           1                                         \n",
       "Covariance Type:            nonrobust                                         \n",
       "================================================================================\n",
       "                   coef    std err          t      P>|t|      [0.025      0.975]\n",
       "--------------------------------------------------------------------------------\n",
       "const            0.0246      0.008      3.119      0.002       0.009       0.040\n",
       "10-yr Yields    -0.5483      0.214     -2.558      0.011      -0.971      -0.126\n",
       "==============================================================================\n",
       "Omnibus:                       17.307   Durbin-Watson:                   1.906\n",
       "Prob(Omnibus):                  0.000   Jarque-Bera (JB):               22.248\n",
       "Skew:                          -0.529   Prob(JB):                     1.48e-05\n",
       "Kurtosis:                       4.060   Cond. No.                         79.9\n",
       "==============================================================================\n",
       "\n",
       "Notes:\n",
       "[1] Standard Errors assume that the covariance matrix of the errors is correctly specified.\n",
       "\"\"\""
      ]
     },
     "execution_count": 5,
     "metadata": {},
     "output_type": "execute_result"
    }
   ],
   "source": [
    "X = sm.add_constant(data['10-yr Yields']).shift(1)\n",
    "model2 = sm.OLS(y,X,missing='drop').fit()\n",
    "model2.summary()"
   ]
  },
  {
   "cell_type": "markdown",
   "id": "bbc7540a",
   "metadata": {
    "id": "bbc7540a"
   },
   "source": [
    "## 1.1.c"
   ]
  },
  {
   "cell_type": "code",
   "execution_count": 6,
   "id": "ae723473",
   "metadata": {
    "ExecuteTime": {
     "end_time": "2021-06-30T18:55:18.180297Z",
     "start_time": "2021-06-30T18:55:18.169785Z"
    },
    "colab": {
     "base_uri": "https://localhost:8080/",
     "height": 465
    },
    "id": "ae723473",
    "outputId": "c8505237-e84f-4b52-9c22-677ee6bbac58"
   },
   "outputs": [
    {
     "data": {
      "text/html": [
       "<table class=\"simpletable\">\n",
       "<caption>OLS Regression Results</caption>\n",
       "<tr>\n",
       "  <th>Dep. Variable:</th>      <td>SPY US Equity</td>  <th>  R-squared:         </th> <td>   0.027</td>\n",
       "</tr>\n",
       "<tr>\n",
       "  <th>Model:</th>                   <td>OLS</td>       <th>  Adj. R-squared:    </th> <td>   0.019</td>\n",
       "</tr>\n",
       "<tr>\n",
       "  <th>Method:</th>             <td>Least Squares</td>  <th>  F-statistic:       </th> <td>   3.258</td>\n",
       "</tr>\n",
       "<tr>\n",
       "  <th>Date:</th>             <td>Thu, 08 Jul 2021</td> <th>  Prob (F-statistic):</th>  <td>0.0402</td> \n",
       "</tr>\n",
       "<tr>\n",
       "  <th>Time:</th>                 <td>21:38:14</td>     <th>  Log-Likelihood:    </th> <td>  421.01</td>\n",
       "</tr>\n",
       "<tr>\n",
       "  <th>No. Observations:</th>      <td>   238</td>      <th>  AIC:               </th> <td>  -836.0</td>\n",
       "</tr>\n",
       "<tr>\n",
       "  <th>Df Residuals:</th>          <td>   235</td>      <th>  BIC:               </th> <td>  -825.6</td>\n",
       "</tr>\n",
       "<tr>\n",
       "  <th>Df Model:</th>              <td>     2</td>      <th>                     </th>     <td> </td>   \n",
       "</tr>\n",
       "<tr>\n",
       "  <th>Covariance Type:</th>      <td>nonrobust</td>    <th>                     </th>     <td> </td>   \n",
       "</tr>\n",
       "</table>\n",
       "<table class=\"simpletable\">\n",
       "<tr>\n",
       "         <td></td>            <th>coef</th>     <th>std err</th>      <th>t</th>      <th>P>|t|</th>  <th>[0.025</th>    <th>0.975]</th>  \n",
       "</tr>\n",
       "<tr>\n",
       "  <th>const</th>           <td>    0.0249</td> <td>    0.023</td> <td>    1.065</td> <td> 0.288</td> <td>   -0.021</td> <td>    0.071</td>\n",
       "</tr>\n",
       "<tr>\n",
       "  <th>Dvd-Price Ratio</th> <td>   -0.0127</td> <td>    0.853</td> <td>   -0.015</td> <td> 0.988</td> <td>   -1.693</td> <td>    1.667</td>\n",
       "</tr>\n",
       "<tr>\n",
       "  <th>10-yr Yields</th>    <td>   -0.5510</td> <td>    0.283</td> <td>   -1.950</td> <td> 0.052</td> <td>   -1.108</td> <td>    0.006</td>\n",
       "</tr>\n",
       "</table>\n",
       "<table class=\"simpletable\">\n",
       "<tr>\n",
       "  <th>Omnibus:</th>       <td>17.233</td> <th>  Durbin-Watson:     </th> <td>   1.907</td>\n",
       "</tr>\n",
       "<tr>\n",
       "  <th>Prob(Omnibus):</th> <td> 0.000</td> <th>  Jarque-Bera (JB):  </th> <td>  22.121</td>\n",
       "</tr>\n",
       "<tr>\n",
       "  <th>Skew:</th>          <td>-0.528</td> <th>  Prob(JB):          </th> <td>1.57e-05</td>\n",
       "</tr>\n",
       "<tr>\n",
       "  <th>Kurtosis:</th>      <td> 4.057</td> <th>  Cond. No.          </th> <td>    325.</td>\n",
       "</tr>\n",
       "</table><br/><br/>Notes:<br/>[1] Standard Errors assume that the covariance matrix of the errors is correctly specified."
      ],
      "text/plain": [
       "<class 'statsmodels.iolib.summary.Summary'>\n",
       "\"\"\"\n",
       "                            OLS Regression Results                            \n",
       "==============================================================================\n",
       "Dep. Variable:          SPY US Equity   R-squared:                       0.027\n",
       "Model:                            OLS   Adj. R-squared:                  0.019\n",
       "Method:                 Least Squares   F-statistic:                     3.258\n",
       "Date:                Thu, 08 Jul 2021   Prob (F-statistic):             0.0402\n",
       "Time:                        21:38:14   Log-Likelihood:                 421.01\n",
       "No. Observations:                 238   AIC:                            -836.0\n",
       "Df Residuals:                     235   BIC:                            -825.6\n",
       "Df Model:                           2                                         \n",
       "Covariance Type:            nonrobust                                         \n",
       "===================================================================================\n",
       "                      coef    std err          t      P>|t|      [0.025      0.975]\n",
       "-----------------------------------------------------------------------------------\n",
       "const               0.0249      0.023      1.065      0.288      -0.021       0.071\n",
       "Dvd-Price Ratio    -0.0127      0.853     -0.015      0.988      -1.693       1.667\n",
       "10-yr Yields       -0.5510      0.283     -1.950      0.052      -1.108       0.006\n",
       "==============================================================================\n",
       "Omnibus:                       17.233   Durbin-Watson:                   1.907\n",
       "Prob(Omnibus):                  0.000   Jarque-Bera (JB):               22.121\n",
       "Skew:                          -0.528   Prob(JB):                     1.57e-05\n",
       "Kurtosis:                       4.057   Cond. No.                         325.\n",
       "==============================================================================\n",
       "\n",
       "Notes:\n",
       "[1] Standard Errors assume that the covariance matrix of the errors is correctly specified.\n",
       "\"\"\""
      ]
     },
     "execution_count": 6,
     "metadata": {},
     "output_type": "execute_result"
    }
   ],
   "source": [
    "X = sm.add_constant(data[['Dvd-Price Ratio','10-yr Yields']]).shift(1)\n",
    "model3 = sm.OLS(y,X,missing='drop').fit()\n",
    "model3.summary()"
   ]
  },
  {
   "cell_type": "markdown",
   "id": "75341ed4",
   "metadata": {
    "id": "75341ed4"
   },
   "source": [
    "## 1.2.a"
   ]
  },
  {
   "cell_type": "code",
   "execution_count": 7,
   "id": "d8c5d385",
   "metadata": {
    "ExecuteTime": {
     "end_time": "2021-06-30T18:55:18.191553Z",
     "start_time": "2021-06-30T18:55:18.181270Z"
    },
    "colab": {
     "base_uri": "https://localhost:8080/",
     "height": 444
    },
    "id": "d8c5d385",
    "outputId": "b8a73478-0284-459d-9d5f-f2454b046ec2"
   },
   "outputs": [
    {
     "data": {
      "text/html": [
       "<table class=\"simpletable\">\n",
       "<caption>OLS Regression Results</caption>\n",
       "<tr>\n",
       "  <th>Dep. Variable:</th>     <td>Dvd-Price Ratio</td> <th>  R-squared:         </th> <td>   0.799</td>\n",
       "</tr>\n",
       "<tr>\n",
       "  <th>Model:</th>                   <td>OLS</td>       <th>  Adj. R-squared:    </th> <td>   0.798</td>\n",
       "</tr>\n",
       "<tr>\n",
       "  <th>Method:</th>             <td>Least Squares</td>  <th>  F-statistic:       </th> <td>   935.4</td>\n",
       "</tr>\n",
       "<tr>\n",
       "  <th>Date:</th>             <td>Thu, 08 Jul 2021</td> <th>  Prob (F-statistic):</th> <td>4.56e-84</td>\n",
       "</tr>\n",
       "<tr>\n",
       "  <th>Time:</th>                 <td>21:38:14</td>     <th>  Log-Likelihood:    </th> <td>  1159.7</td>\n",
       "</tr>\n",
       "<tr>\n",
       "  <th>No. Observations:</th>      <td>   238</td>      <th>  AIC:               </th> <td>  -2315.</td>\n",
       "</tr>\n",
       "<tr>\n",
       "  <th>Df Residuals:</th>          <td>   236</td>      <th>  BIC:               </th> <td>  -2309.</td>\n",
       "</tr>\n",
       "<tr>\n",
       "  <th>Df Model:</th>              <td>     1</td>      <th>                     </th>     <td> </td>   \n",
       "</tr>\n",
       "<tr>\n",
       "  <th>Covariance Type:</th>      <td>nonrobust</td>    <th>                     </th>     <td> </td>   \n",
       "</tr>\n",
       "</table>\n",
       "<table class=\"simpletable\">\n",
       "<tr>\n",
       "         <td></td>            <th>coef</th>     <th>std err</th>      <th>t</th>      <th>P>|t|</th>  <th>[0.025</th>    <th>0.975]</th>  \n",
       "</tr>\n",
       "<tr>\n",
       "  <th>const</th>           <td>    0.0021</td> <td>    0.001</td> <td>    3.846</td> <td> 0.000</td> <td>    0.001</td> <td>    0.003</td>\n",
       "</tr>\n",
       "<tr>\n",
       "  <th>Dvd-Price Ratio</th> <td>    0.8876</td> <td>    0.029</td> <td>   30.585</td> <td> 0.000</td> <td>    0.830</td> <td>    0.945</td>\n",
       "</tr>\n",
       "</table>\n",
       "<table class=\"simpletable\">\n",
       "<tr>\n",
       "  <th>Omnibus:</th>       <td>23.824</td> <th>  Durbin-Watson:     </th> <td>   1.864</td>\n",
       "</tr>\n",
       "<tr>\n",
       "  <th>Prob(Omnibus):</th> <td> 0.000</td> <th>  Jarque-Bera (JB):  </th> <td> 105.805</td>\n",
       "</tr>\n",
       "<tr>\n",
       "  <th>Skew:</th>          <td>-0.055</td> <th>  Prob(JB):          </th> <td>1.06e-23</td>\n",
       "</tr>\n",
       "<tr>\n",
       "  <th>Kurtosis:</th>      <td> 6.265</td> <th>  Cond. No.          </th> <td>    241.</td>\n",
       "</tr>\n",
       "</table><br/><br/>Notes:<br/>[1] Standard Errors assume that the covariance matrix of the errors is correctly specified."
      ],
      "text/plain": [
       "<class 'statsmodels.iolib.summary.Summary'>\n",
       "\"\"\"\n",
       "                            OLS Regression Results                            \n",
       "==============================================================================\n",
       "Dep. Variable:        Dvd-Price Ratio   R-squared:                       0.799\n",
       "Model:                            OLS   Adj. R-squared:                  0.798\n",
       "Method:                 Least Squares   F-statistic:                     935.4\n",
       "Date:                Thu, 08 Jul 2021   Prob (F-statistic):           4.56e-84\n",
       "Time:                        21:38:14   Log-Likelihood:                 1159.7\n",
       "No. Observations:                 238   AIC:                            -2315.\n",
       "Df Residuals:                     236   BIC:                            -2309.\n",
       "Df Model:                           1                                         \n",
       "Covariance Type:            nonrobust                                         \n",
       "===================================================================================\n",
       "                      coef    std err          t      P>|t|      [0.025      0.975]\n",
       "-----------------------------------------------------------------------------------\n",
       "const               0.0021      0.001      3.846      0.000       0.001       0.003\n",
       "Dvd-Price Ratio     0.8876      0.029     30.585      0.000       0.830       0.945\n",
       "==============================================================================\n",
       "Omnibus:                       23.824   Durbin-Watson:                   1.864\n",
       "Prob(Omnibus):                  0.000   Jarque-Bera (JB):              105.805\n",
       "Skew:                          -0.055   Prob(JB):                     1.06e-23\n",
       "Kurtosis:                       6.265   Cond. No.                         241.\n",
       "==============================================================================\n",
       "\n",
       "Notes:\n",
       "[1] Standard Errors assume that the covariance matrix of the errors is correctly specified.\n",
       "\"\"\""
      ]
     },
     "execution_count": 7,
     "metadata": {},
     "output_type": "execute_result"
    }
   ],
   "source": [
    "y = data['Dvd-Price Ratio']\n",
    "X = sm.add_constant(data['Dvd-Price Ratio']).shift(1)\n",
    "model4 = sm.OLS(y,X,missing='drop').fit()\n",
    "model4.summary()"
   ]
  },
  {
   "cell_type": "code",
   "execution_count": 8,
   "id": "85118f0a",
   "metadata": {
    "ExecuteTime": {
     "end_time": "2021-06-30T18:55:18.204774Z",
     "start_time": "2021-06-30T18:55:18.194438Z"
    },
    "colab": {
     "base_uri": "https://localhost:8080/",
     "height": 444
    },
    "id": "85118f0a",
    "outputId": "eb4c56e3-a51a-47d7-82e3-2d886bcdb357"
   },
   "outputs": [
    {
     "data": {
      "text/html": [
       "<table class=\"simpletable\">\n",
       "<caption>OLS Regression Results</caption>\n",
       "<tr>\n",
       "  <th>Dep. Variable:</th>      <td>10-yr Yields</td>   <th>  R-squared:         </th> <td>   0.959</td> \n",
       "</tr>\n",
       "<tr>\n",
       "  <th>Model:</th>                   <td>OLS</td>       <th>  Adj. R-squared:    </th> <td>   0.959</td> \n",
       "</tr>\n",
       "<tr>\n",
       "  <th>Method:</th>             <td>Least Squares</td>  <th>  F-statistic:       </th> <td>   5523.</td> \n",
       "</tr>\n",
       "<tr>\n",
       "  <th>Date:</th>             <td>Thu, 08 Jul 2021</td> <th>  Prob (F-statistic):</th> <td>1.01e-165</td>\n",
       "</tr>\n",
       "<tr>\n",
       "  <th>Time:</th>                 <td>21:38:14</td>     <th>  Log-Likelihood:    </th> <td>  1085.7</td> \n",
       "</tr>\n",
       "<tr>\n",
       "  <th>No. Observations:</th>      <td>   238</td>      <th>  AIC:               </th> <td>  -2167.</td> \n",
       "</tr>\n",
       "<tr>\n",
       "  <th>Df Residuals:</th>          <td>   236</td>      <th>  BIC:               </th> <td>  -2160.</td> \n",
       "</tr>\n",
       "<tr>\n",
       "  <th>Df Model:</th>              <td>     1</td>      <th>                     </th>     <td> </td>    \n",
       "</tr>\n",
       "<tr>\n",
       "  <th>Covariance Type:</th>      <td>nonrobust</td>    <th>                     </th>     <td> </td>    \n",
       "</tr>\n",
       "</table>\n",
       "<table class=\"simpletable\">\n",
       "<tr>\n",
       "        <td></td>          <th>coef</th>     <th>std err</th>      <th>t</th>      <th>P>|t|</th>  <th>[0.025</th>    <th>0.975]</th>  \n",
       "</tr>\n",
       "<tr>\n",
       "  <th>const</th>        <td>    0.0007</td> <td>    0.000</td> <td>    1.353</td> <td> 0.177</td> <td>   -0.000</td> <td>    0.002</td>\n",
       "</tr>\n",
       "<tr>\n",
       "  <th>10-yr Yields</th> <td>    0.9756</td> <td>    0.013</td> <td>   74.319</td> <td> 0.000</td> <td>    0.950</td> <td>    1.001</td>\n",
       "</tr>\n",
       "</table>\n",
       "<table class=\"simpletable\">\n",
       "<tr>\n",
       "  <th>Omnibus:</th>       <td> 8.760</td> <th>  Durbin-Watson:     </th> <td>   1.887</td>\n",
       "</tr>\n",
       "<tr>\n",
       "  <th>Prob(Omnibus):</th> <td> 0.013</td> <th>  Jarque-Bera (JB):  </th> <td>  16.652</td>\n",
       "</tr>\n",
       "<tr>\n",
       "  <th>Skew:</th>          <td> 0.017</td> <th>  Prob(JB):          </th> <td>0.000242</td>\n",
       "</tr>\n",
       "<tr>\n",
       "  <th>Kurtosis:</th>      <td> 4.295</td> <th>  Cond. No.          </th> <td>    79.9</td>\n",
       "</tr>\n",
       "</table><br/><br/>Notes:<br/>[1] Standard Errors assume that the covariance matrix of the errors is correctly specified."
      ],
      "text/plain": [
       "<class 'statsmodels.iolib.summary.Summary'>\n",
       "\"\"\"\n",
       "                            OLS Regression Results                            \n",
       "==============================================================================\n",
       "Dep. Variable:           10-yr Yields   R-squared:                       0.959\n",
       "Model:                            OLS   Adj. R-squared:                  0.959\n",
       "Method:                 Least Squares   F-statistic:                     5523.\n",
       "Date:                Thu, 08 Jul 2021   Prob (F-statistic):          1.01e-165\n",
       "Time:                        21:38:14   Log-Likelihood:                 1085.7\n",
       "No. Observations:                 238   AIC:                            -2167.\n",
       "Df Residuals:                     236   BIC:                            -2160.\n",
       "Df Model:                           1                                         \n",
       "Covariance Type:            nonrobust                                         \n",
       "================================================================================\n",
       "                   coef    std err          t      P>|t|      [0.025      0.975]\n",
       "--------------------------------------------------------------------------------\n",
       "const            0.0007      0.000      1.353      0.177      -0.000       0.002\n",
       "10-yr Yields     0.9756      0.013     74.319      0.000       0.950       1.001\n",
       "==============================================================================\n",
       "Omnibus:                        8.760   Durbin-Watson:                   1.887\n",
       "Prob(Omnibus):                  0.013   Jarque-Bera (JB):               16.652\n",
       "Skew:                           0.017   Prob(JB):                     0.000242\n",
       "Kurtosis:                       4.295   Cond. No.                         79.9\n",
       "==============================================================================\n",
       "\n",
       "Notes:\n",
       "[1] Standard Errors assume that the covariance matrix of the errors is correctly specified.\n",
       "\"\"\""
      ]
     },
     "execution_count": 8,
     "metadata": {},
     "output_type": "execute_result"
    }
   ],
   "source": [
    "y = data['10-yr Yields']\n",
    "X = sm.add_constant(data['10-yr Yields']).shift(1)\n",
    "model5 = sm.OLS(y,X,missing='drop').fit()\n",
    "model5.summary()"
   ]
  },
  {
   "cell_type": "markdown",
   "id": "e0b117fa",
   "metadata": {
    "id": "e0b117fa"
   },
   "source": [
    "## 1.2.b"
   ]
  },
  {
   "cell_type": "markdown",
   "id": "qgyVjV2HZTS_",
   "metadata": {
    "id": "qgyVjV2HZTS_"
   },
   "source": [
    "We see that for both the Dividend Ratio and the 10-yr Yield, the R-squared is large and the beta is close to 1 and statistically significant.\n",
    "\n",
    "One of the assumptions for the classic OLS results, (the Gauss-Markov Theorem,) is that epsilon does not have serial correlation. Typically, if we use a regressor such as these two variables, with such high serial correlation, this will induce serial correlation in epsilon. Accordingly, we may not be able to trust the classic t-stats, as noted in the \"Notes\" of the regression tables above.\n",
    "\n",
    "Furthermore, this high serial correlation of X means that in a regression such as that of 1(a), we may have significant small-sample bias.\n",
    "\n",
    "Accordingly, time-series regressions where the X has high serial correlation tend to rely on large-sample properties and adjusted t-stats."
   ]
  },
  {
   "cell_type": "markdown",
   "id": "e656ba9d",
   "metadata": {
    "id": "e656ba9d"
   },
   "source": [
    "# 2. OOS R-squared"
   ]
  },
  {
   "cell_type": "code",
   "execution_count": 9,
   "id": "676746cd",
   "metadata": {
    "ExecuteTime": {
     "end_time": "2021-06-30T18:55:18.210524Z",
     "start_time": "2021-06-30T18:55:18.206174Z"
    },
    "id": "676746cd"
   },
   "outputs": [],
   "source": [
    "X = sm.add_constant(data[['Dvd-Price Ratio','10-yr Yields']]).shift(1)\n",
    "y = data['SPY US Equity']\n",
    "min_obv = 60"
   ]
  },
  {
   "cell_type": "code",
   "execution_count": 10,
   "id": "3fdb1429",
   "metadata": {
    "ExecuteTime": {
     "end_time": "2021-06-30T18:55:18.300147Z",
     "start_time": "2021-06-30T18:55:18.211569Z"
    },
    "colab": {
     "base_uri": "https://localhost:8080/"
    },
    "id": "3fdb1429",
    "outputId": "4730e512-f827-4d16-cc82-ee0374a2f9f8"
   },
   "outputs": [
    {
     "data": {
      "text/plain": [
       "-0.018466188013065432"
      ]
     },
     "execution_count": 10,
     "metadata": {},
     "output_type": "execute_result"
    }
   ],
   "source": [
    "err_x, err_null = [], []\n",
    "\n",
    "for i in range(min_obv, len(y)):\n",
    "    currX = X.iloc[:i]\n",
    "    currY = y.iloc[:i]\n",
    "    model = sm.OLS(currY, currX, missing='drop').fit()\n",
    "    pred = model.predict(X.iloc[[i]])[0]\n",
    "    err_x.append(y.iat[i] - pred)\n",
    "    err_null.append(y.iat[i] - currY.mean())\n",
    "    \n",
    "r_sqr_oos = 1 - np.square(err_x).sum() / np.square(err_null).sum()\n",
    "r_sqr_oos"
   ]
  },
  {
   "cell_type": "markdown",
   "id": "3acddea4",
   "metadata": {
    "id": "3acddea4"
   },
   "source": [
    "# 3. Time-Series Models of Volatility"
   ]
  },
  {
   "cell_type": "code",
   "execution_count": 11,
   "id": "ca431dc9",
   "metadata": {
    "ExecuteTime": {
     "end_time": "2021-06-30T18:55:18.318405Z",
     "start_time": "2021-06-30T18:55:18.300863Z"
    },
    "colab": {
     "base_uri": "https://localhost:8080/",
     "height": 861
    },
    "id": "ca431dc9",
    "outputId": "f0cb05e3-c9f9-4adb-eca8-c520000118cb"
   },
   "outputs": [
    {
     "name": "stdout",
     "output_type": "stream",
     "text": [
      "Iteration:      1,   Func. Count:      6,   Neg. LLF: 92833052.22133186\n",
      "Iteration:      2,   Func. Count:     17,   Neg. LLF: 1063997.6442647872\n",
      "Iteration:      3,   Func. Count:     28,   Neg. LLF: 302317.4667210068\n",
      "Iteration:      4,   Func. Count:     35,   Neg. LLF: -440.7194977840106\n",
      "Iteration:      5,   Func. Count:     41,   Neg. LLF: -250.59297134941357\n",
      "Iteration:      6,   Func. Count:     48,   Neg. LLF: -426.5000613722011\n",
      "Iteration:      7,   Func. Count:     54,   Neg. LLF: -441.40217780705615\n",
      "Iteration:      8,   Func. Count:     60,   Neg. LLF: -264.50527141058546\n",
      "Iteration:      9,   Func. Count:     68,   Neg. LLF: -442.0670124116405\n",
      "Iteration:     10,   Func. Count:     74,   Neg. LLF: -442.0688871123682\n",
      "Iteration:     11,   Func. Count:     79,   Neg. LLF: -442.06918117935584\n",
      "Iteration:     12,   Func. Count:     83,   Neg. LLF: -442.06918117915114\n",
      "Optimization terminated successfully    (Exit mode 0)\n",
      "            Current function value: -442.06918117935584\n",
      "            Iterations: 13\n",
      "            Function evaluations: 83\n",
      "            Gradient evaluations: 12\n"
     ]
    },
    {
     "name": "stderr",
     "output_type": "stream",
     "text": [
      "/Users/markhendricks/Projects/FINM/DataAnalysis/venv/lib/python3.8/site-packages/arch/univariate/base.py:316: DataScaleWarning: y is poorly scaled, which may affect convergence of the optimizer when\n",
      "estimating the model parameters. The scale of y is 0.001756. Parameter\n",
      "estimation work better when this value is between 1 and 1000. The recommended\n",
      "rescaling is 10 * y.\n",
      "\n",
      "This warning can be disabled by either rescaling y before initializing the\n",
      "model or by setting rescale=False.\n",
      "\n",
      "  warnings.warn(\n"
     ]
    },
    {
     "data": {
      "text/html": [
       "<table class=\"simpletable\">\n",
       "<caption>Constant Mean - GARCH Model Results</caption>\n",
       "<tr>\n",
       "  <th>Dep. Variable:</th>    <td>SPY US Equity</td>   <th>  R-squared:         </th>  <td>   0.000</td> \n",
       "</tr>\n",
       "<tr>\n",
       "  <th>Mean Model:</th>       <td>Constant Mean</td>   <th>  Adj. R-squared:    </th>  <td>   0.000</td> \n",
       "</tr>\n",
       "<tr>\n",
       "  <th>Vol Model:</th>            <td>GARCH</td>       <th>  Log-Likelihood:    </th> <td>   442.069</td>\n",
       "</tr>\n",
       "<tr>\n",
       "  <th>Distribution:</th>        <td>Normal</td>       <th>  AIC:               </th> <td>  -876.138</td>\n",
       "</tr>\n",
       "<tr>\n",
       "  <th>Method:</th>        <td>Maximum Likelihood</td> <th>  BIC:               </th> <td>  -862.233</td>\n",
       "</tr>\n",
       "<tr>\n",
       "  <th></th>                        <td></td>          <th>  No. Observations:  </th>     <td>239</td>   \n",
       "</tr>\n",
       "<tr>\n",
       "  <th>Date:</th>           <td>Thu, Jul 08 2021</td>  <th>  Df Residuals:      </th>     <td>238</td>   \n",
       "</tr>\n",
       "<tr>\n",
       "  <th>Time:</th>               <td>21:38:15</td>      <th>  Df Model:          </th>      <td>1</td>    \n",
       "</tr>\n",
       "</table>\n",
       "<table class=\"simpletable\">\n",
       "<caption>Mean Model</caption>\n",
       "<tr>\n",
       "   <td></td>     <th>coef</th>     <th>std err</th>      <th>t</th>       <th>P>|t|</th>     <th>95.0% Conf. Int.</th>   \n",
       "</tr>\n",
       "<tr>\n",
       "  <th>mu</th> <td>9.1736e-03</td> <td>1.982e-03</td> <td>    4.628</td> <td>3.696e-06</td> <td>[5.288e-03,1.306e-02]</td>\n",
       "</tr>\n",
       "</table>\n",
       "<table class=\"simpletable\">\n",
       "<caption>Volatility Model</caption>\n",
       "<tr>\n",
       "      <td></td>        <th>coef</th>     <th>std err</th>      <th>t</th>       <th>P>|t|</th>     <th>95.0% Conf. Int.</th>   \n",
       "</tr>\n",
       "<tr>\n",
       "  <th>omega</th>    <td>8.8245e-05</td> <td>4.073e-05</td> <td>    2.167</td> <td>3.025e-02</td> <td>[8.422e-06,1.681e-04]</td>\n",
       "</tr>\n",
       "<tr>\n",
       "  <th>alpha[1]</th> <td>    0.2199</td> <td>6.464e-02</td> <td>    3.402</td> <td>6.684e-04</td>  <td>[9.323e-02,  0.347]</td> \n",
       "</tr>\n",
       "<tr>\n",
       "  <th>beta[1]</th>  <td>    0.7408</td> <td>5.213e-02</td> <td>   14.209</td> <td>8.085e-46</td>   <td>[  0.639,  0.843]</td>  \n",
       "</tr>\n",
       "</table><br/><br/>Covariance estimator: robust"
      ],
      "text/plain": [
       "<class 'statsmodels.iolib.summary.Summary'>\n",
       "\"\"\"\n",
       "                     Constant Mean - GARCH Model Results                      \n",
       "==============================================================================\n",
       "Dep. Variable:          SPY US Equity   R-squared:                       0.000\n",
       "Mean Model:             Constant Mean   Adj. R-squared:                  0.000\n",
       "Vol Model:                      GARCH   Log-Likelihood:                442.069\n",
       "Distribution:                  Normal   AIC:                          -876.138\n",
       "Method:            Maximum Likelihood   BIC:                          -862.233\n",
       "                                        No. Observations:                  239\n",
       "Date:                Thu, Jul 08 2021   Df Residuals:                      238\n",
       "Time:                        21:38:15   Df Model:                            1\n",
       "                                 Mean Model                                 \n",
       "============================================================================\n",
       "                 coef    std err          t      P>|t|      95.0% Conf. Int.\n",
       "----------------------------------------------------------------------------\n",
       "mu         9.1736e-03  1.982e-03      4.628  3.696e-06 [5.288e-03,1.306e-02]\n",
       "                              Volatility Model                              \n",
       "============================================================================\n",
       "                 coef    std err          t      P>|t|      95.0% Conf. Int.\n",
       "----------------------------------------------------------------------------\n",
       "omega      8.8245e-05  4.073e-05      2.167  3.025e-02 [8.422e-06,1.681e-04]\n",
       "alpha[1]       0.2199  6.464e-02      3.402  6.684e-04   [9.323e-02,  0.347]\n",
       "beta[1]        0.7408  5.213e-02     14.209  8.085e-46     [  0.639,  0.843]\n",
       "============================================================================\n",
       "\n",
       "Covariance estimator: robust\n",
       "\"\"\""
      ]
     },
     "execution_count": 11,
     "metadata": {},
     "output_type": "execute_result"
    }
   ],
   "source": [
    "spy = data['SPY US Equity']\n",
    "garch = arch_model(spy).fit()\n",
    "garch.summary()"
   ]
  },
  {
   "cell_type": "code",
   "execution_count": 12,
   "id": "sG3UH43wo28P",
   "metadata": {
    "ExecuteTime": {
     "end_time": "2021-06-30T18:55:18.322534Z",
     "start_time": "2021-06-30T18:55:18.319520Z"
    },
    "colab": {
     "base_uri": "https://localhost:8080/"
    },
    "id": "sG3UH43wo28P",
    "outputId": "f4ae0fac-94e2-4445-9cd0-abe04d3072f6"
   },
   "outputs": [
    {
     "data": {
      "text/plain": [
       "mu          0.009174\n",
       "omega       0.000088\n",
       "alpha[1]    0.219919\n",
       "beta[1]     0.740770\n",
       "Name: params, dtype: float64"
      ]
     },
     "execution_count": 12,
     "metadata": {},
     "output_type": "execute_result"
    }
   ],
   "source": [
    "garch.params"
   ]
  },
  {
   "cell_type": "code",
   "execution_count": 13,
   "id": "Cr3Jfi6XohS6",
   "metadata": {
    "ExecuteTime": {
     "end_time": "2021-06-30T18:55:18.405541Z",
     "start_time": "2021-06-30T18:55:18.323774Z"
    },
    "id": "Cr3Jfi6XohS6"
   },
   "outputs": [],
   "source": [
    "vol = pd.DataFrame(index=spy.index, columns=[\"Expanding Window\", \"Rolling Window\", \"IGARCH\", \"GARCH(1,1)\"])\n",
    "\n",
    "for i, t in enumerate(spy.index[59:-1]):\n",
    "    vol.iloc[i+60, 0] = np.square(spy.loc[:t]).mean()\n",
    "    vol.iloc[i+60, 1] = np.square(spy.iloc[i:i+60]).mean()\n",
    "# vol['Rolling'] = spy.shift(1).rolling(window=60).std()\n",
    "\n",
    "vol.iloc[0, 2] = (0.15 * (1 / (12**0.5)))**2\n",
    "vol.iloc[0, 3] = (0.15 * (1 / (12**0.5)))**2\n",
    "for i in range(1, len(spy)):\n",
    "    vol.iloc[i, 2] = vol.iloc[i-1, 2] * 0.97 + np.square(spy.iloc[i-1]) * (1-0.97)\n",
    "    vol.iloc[i, 3] = garch.params[1] + garch.params[2] * np.square(spy.iloc[i-1]) + garch.params[3] * vol.iloc[i-1, 3]\n",
    "\n",
    "vol = vol.dropna()"
   ]
  },
  {
   "cell_type": "code",
   "execution_count": 14,
   "id": "87a0beaf",
   "metadata": {},
   "outputs": [
    {
     "data": {
      "image/png": "[encoded data removed]",
      "text/plain": [
       "<Figure size 1080x576 with 1 Axes>"
      ]
     },
     "metadata": {},
     "output_type": "display_data"
    }
   ],
   "source": [
    "ax = vol.plot(figsize=(15,8), title='Volatility')"
   ]
  },
  {
   "cell_type": "code",
   "execution_count": 15,
   "id": "RxvQOls-sDyD",
   "metadata": {
    "ExecuteTime": {
     "end_time": "2021-06-30T18:55:18.516159Z",
     "start_time": "2021-06-30T18:55:18.510992Z"
    },
    "colab": {
     "base_uri": "https://localhost:8080/",
     "height": 111
    },
    "id": "RxvQOls-sDyD",
    "outputId": "af77f3eb-4579-49f4-e35c-efe035e9137d"
   },
   "outputs": [
    {
     "data": {
      "text/html": [
       "<div>\n",
       "<style scoped>\n",
       "    .dataframe tbody tr th:only-of-type {\n",
       "        vertical-align: middle;\n",
       "    }\n",
       "\n",
       "    .dataframe tbody tr th {\n",
       "        vertical-align: top;\n",
       "    }\n",
       "\n",
       "    .dataframe thead th {\n",
       "        text-align: right;\n",
       "    }\n",
       "</style>\n",
       "<table border=\"1\" class=\"dataframe\">\n",
       "  <thead>\n",
       "    <tr style=\"text-align: right;\">\n",
       "      <th></th>\n",
       "      <th>Expanding Window</th>\n",
       "      <th>Rolling Window</th>\n",
       "      <th>IGARCH</th>\n",
       "      <th>GARCH(1,1)</th>\n",
       "    </tr>\n",
       "    <tr>\n",
       "      <th>Date</th>\n",
       "      <th></th>\n",
       "      <th></th>\n",
       "      <th></th>\n",
       "      <th></th>\n",
       "    </tr>\n",
       "  </thead>\n",
       "  <tbody>\n",
       "    <tr>\n",
       "      <th>2018-10-31</th>\n",
       "      <td>0.001738</td>\n",
       "      <td>0.000874</td>\n",
       "      <td>0.000969</td>\n",
       "      <td>0.000873</td>\n",
       "    </tr>\n",
       "  </tbody>\n",
       "</table>\n",
       "</div>"
      ],
      "text/plain": [
       "           Expanding Window Rolling Window    IGARCH GARCH(1,1)\n",
       "Date                                                           \n",
       "2018-10-31         0.001738       0.000874  0.000969   0.000873"
      ]
     },
     "execution_count": 15,
     "metadata": {},
     "output_type": "execute_result"
    }
   ],
   "source": [
    "vol.loc[\"2018-10\"]"
   ]
  },
  {
   "cell_type": "code",
   "execution_count": 16,
   "id": "vWN7qArWu2P7",
   "metadata": {
    "ExecuteTime": {
     "end_time": "2021-06-30T18:55:18.522501Z",
     "start_time": "2021-06-30T18:55:18.517343Z"
    },
    "colab": {
     "base_uri": "https://localhost:8080/",
     "height": 111
    },
    "id": "vWN7qArWu2P7",
    "outputId": "af32f7ad-bd1d-42eb-e95a-858a9f038e93"
   },
   "outputs": [
    {
     "data": {
      "text/html": [
       "<div>\n",
       "<style scoped>\n",
       "    .dataframe tbody tr th:only-of-type {\n",
       "        vertical-align: middle;\n",
       "    }\n",
       "\n",
       "    .dataframe tbody tr th {\n",
       "        vertical-align: top;\n",
       "    }\n",
       "\n",
       "    .dataframe thead th {\n",
       "        text-align: right;\n",
       "    }\n",
       "</style>\n",
       "<table border=\"1\" class=\"dataframe\">\n",
       "  <thead>\n",
       "    <tr style=\"text-align: right;\">\n",
       "      <th></th>\n",
       "      <th>Expanding Window</th>\n",
       "      <th>Rolling Window</th>\n",
       "      <th>IGARCH</th>\n",
       "      <th>GARCH(1,1)</th>\n",
       "    </tr>\n",
       "    <tr>\n",
       "      <th>Date</th>\n",
       "      <th></th>\n",
       "      <th></th>\n",
       "      <th></th>\n",
       "      <th></th>\n",
       "    </tr>\n",
       "  </thead>\n",
       "  <tbody>\n",
       "    <tr>\n",
       "      <th>2018-12-31</th>\n",
       "      <td>0.001745</td>\n",
       "      <td>0.000909</td>\n",
       "      <td>0.001061</td>\n",
       "      <td>0.001486</td>\n",
       "    </tr>\n",
       "  </tbody>\n",
       "</table>\n",
       "</div>"
      ],
      "text/plain": [
       "           Expanding Window Rolling Window    IGARCH GARCH(1,1)\n",
       "Date                                                           \n",
       "2018-12-31         0.001745       0.000909  0.001061   0.001486"
      ]
     },
     "execution_count": 16,
     "metadata": {},
     "output_type": "execute_result"
    }
   ],
   "source": [
    "vol.loc[\"2018-12\"]"
   ]
  }
 ],
 "metadata": {
  "colab": {
   "collapsed_sections": [],
   "name": "HW8.ipynb",
   "provenance": [],
   "toc_visible": true
  },
  "kernelspec": {
   "display_name": "Python 3",
   "language": "python",
   "name": "python3"
  },
  "language_info": {
   "codemirror_mode": {
    "name": "ipython",
    "version": 3
   },
   "file_extension": ".py",
   "mimetype": "text/x-python",
   "name": "python",
   "nbconvert_exporter": "python",
   "pygments_lexer": "ipython3",
   "version": "3.8.2"
  },
  "toc": {
   "base_numbering": 1,
   "nav_menu": {},
   "number_sections": true,
   "sideBar": true,
   "skip_h1_title": false,
   "title_cell": "Table of Contents",
   "title_sidebar": "Contents",
   "toc_cell": false,
   "toc_position": {},
   "toc_section_display": true,
   "toc_window_display": false
  },
  "varInspector": {
   "cols": {
    "lenName": 16,
    "lenType": 16,
    "lenVar": 40
   },
   "kernels_config": {
    "python": {
     "delete_cmd_postfix": "",
     "delete_cmd_prefix": "del ",
     "library": "var_list.py",
     "varRefreshCmd": "print(var_dic_list())"
    },
    "r": {
     "delete_cmd_postfix": ") ",
     "delete_cmd_prefix": "rm(",
     "library": "var_list.r",
     "varRefreshCmd": "cat(var_dic_list()) "
    }
   },
   "types_to_exclude": [
    "module",
    "function",
    "builtin_function_or_method",
    "instance",
    "_Feature"
   ],
   "window_display": false
  }
 },
 "nbformat": 4,
 "nbformat_minor": 5
}
