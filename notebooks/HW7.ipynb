{
 "cells": [
  {
   "cell_type": "code",
   "execution_count": 1,
   "id": "8bd80e76",
   "metadata": {
    "ExecuteTime": {
     "end_time": "2021-06-24T01:37:08.632979Z",
     "start_time": "2021-06-24T01:37:08.625990Z"
    }
   },
   "outputs": [],
   "source": [
    "import pandas as pd\n",
    "import numpy as np\n",
    "import statsmodels.api as sm\n",
    "from statsmodels.graphics.tsaplots import plot_acf\n",
    "import matplotlib.pyplot as plt\n",
    "from matplotlib.pyplot import figure\n",
    "import seaborn as sns\n",
    "sns.set()"
   ]
  },
  {
   "cell_type": "code",
   "execution_count": 2,
   "id": "0b185191",
   "metadata": {
    "ExecuteTime": {
     "end_time": "2021-06-24T01:37:08.687141Z",
     "start_time": "2021-06-24T01:37:08.635377Z"
    }
   },
   "outputs": [
    {
     "data": {
      "text/html": [
       "<div>\n",
       "<style scoped>\n",
       "    .dataframe tbody tr th:only-of-type {\n",
       "        vertical-align: middle;\n",
       "    }\n",
       "\n",
       "    .dataframe tbody tr th {\n",
       "        vertical-align: top;\n",
       "    }\n",
       "\n",
       "    .dataframe thead th {\n",
       "        text-align: right;\n",
       "    }\n",
       "</style>\n",
       "<table border=\"1\" class=\"dataframe\">\n",
       "  <thead>\n",
       "    <tr style=\"text-align: right;\">\n",
       "      <th></th>\n",
       "      <th>SPY US Equity</th>\n",
       "      <th>AAPL US Equity</th>\n",
       "      <th>CL1 Comdty</th>\n",
       "      <th>DXY Curncy</th>\n",
       "      <th>HFRIMTI Index</th>\n",
       "      <th>Rate Convexity</th>\n",
       "      <th>Portfolio</th>\n",
       "      <th>10-yr Yields</th>\n",
       "      <th>Dvd-Price Ratio</th>\n",
       "    </tr>\n",
       "    <tr>\n",
       "      <th>Date</th>\n",
       "      <th></th>\n",
       "      <th></th>\n",
       "      <th></th>\n",
       "      <th></th>\n",
       "      <th></th>\n",
       "      <th></th>\n",
       "      <th></th>\n",
       "      <th></th>\n",
       "      <th></th>\n",
       "    </tr>\n",
       "  </thead>\n",
       "  <tbody>\n",
       "    <tr>\n",
       "      <th>1999-10-31</th>\n",
       "      <td>0.064078</td>\n",
       "      <td>0.265523</td>\n",
       "      <td>-0.112607</td>\n",
       "      <td>0.005277</td>\n",
       "      <td>0.0235</td>\n",
       "      <td>0.025013</td>\n",
       "      <td>0.000072</td>\n",
       "      <td>0.06024</td>\n",
       "      <td>0.010868</td>\n",
       "    </tr>\n",
       "    <tr>\n",
       "      <th>1999-11-30</th>\n",
       "      <td>0.016651</td>\n",
       "      <td>0.221519</td>\n",
       "      <td>0.130575</td>\n",
       "      <td>0.029578</td>\n",
       "      <td>0.0250</td>\n",
       "      <td>0.027722</td>\n",
       "      <td>0.105636</td>\n",
       "      <td>0.06191</td>\n",
       "      <td>0.010690</td>\n",
       "    </tr>\n",
       "    <tr>\n",
       "      <th>1999-12-31</th>\n",
       "      <td>0.057089</td>\n",
       "      <td>0.050465</td>\n",
       "      <td>0.041074</td>\n",
       "      <td>-0.001177</td>\n",
       "      <td>0.0509</td>\n",
       "      <td>0.040543</td>\n",
       "      <td>0.042261</td>\n",
       "      <td>0.06442</td>\n",
       "      <td>0.009465</td>\n",
       "    </tr>\n",
       "    <tr>\n",
       "      <th>2000-01-31</th>\n",
       "      <td>-0.049787</td>\n",
       "      <td>0.009123</td>\n",
       "      <td>0.079687</td>\n",
       "      <td>0.032002</td>\n",
       "      <td>0.0155</td>\n",
       "      <td>0.034617</td>\n",
       "      <td>0.031966</td>\n",
       "      <td>0.06665</td>\n",
       "      <td>0.009961</td>\n",
       "    </tr>\n",
       "    <tr>\n",
       "      <th>2000-02-29</th>\n",
       "      <td>-0.015226</td>\n",
       "      <td>0.104820</td>\n",
       "      <td>0.100941</td>\n",
       "      <td>0.007515</td>\n",
       "      <td>0.0596</td>\n",
       "      <td>-0.038410</td>\n",
       "      <td>0.063138</td>\n",
       "      <td>0.06409</td>\n",
       "      <td>0.010792</td>\n",
       "    </tr>\n",
       "  </tbody>\n",
       "</table>\n",
       "</div>"
      ],
      "text/plain": [
       "            SPY US Equity  AAPL US Equity  CL1 Comdty  DXY Curncy  \\\n",
       "Date                                                                \n",
       "1999-10-31       0.064078        0.265523   -0.112607    0.005277   \n",
       "1999-11-30       0.016651        0.221519    0.130575    0.029578   \n",
       "1999-12-31       0.057089        0.050465    0.041074   -0.001177   \n",
       "2000-01-31      -0.049787        0.009123    0.079687    0.032002   \n",
       "2000-02-29      -0.015226        0.104820    0.100941    0.007515   \n",
       "\n",
       "            HFRIMTI Index  Rate Convexity  Portfolio  10-yr Yields  \\\n",
       "Date                                                                 \n",
       "1999-10-31         0.0235        0.025013   0.000072       0.06024   \n",
       "1999-11-30         0.0250        0.027722   0.105636       0.06191   \n",
       "1999-12-31         0.0509        0.040543   0.042261       0.06442   \n",
       "2000-01-31         0.0155        0.034617   0.031966       0.06665   \n",
       "2000-02-29         0.0596       -0.038410   0.063138       0.06409   \n",
       "\n",
       "            Dvd-Price Ratio  \n",
       "Date                         \n",
       "1999-10-31         0.010868  \n",
       "1999-11-30         0.010690  \n",
       "1999-12-31         0.009465  \n",
       "2000-01-31         0.009961  \n",
       "2000-02-29         0.010792  "
      ]
     },
     "execution_count": 2,
     "metadata": {},
     "output_type": "execute_result"
    }
   ],
   "source": [
    "data = pd.read_excel(\"hw_7_data.xlsx\").rename(columns={\"Unnamed: 0\": \"Date\"}).set_index(\"Date\")\n",
    "data.head(5)"
   ]
  },
  {
   "cell_type": "code",
   "execution_count": 3,
   "id": "df5c320d",
   "metadata": {
    "ExecuteTime": {
     "end_time": "2021-06-24T01:37:08.696249Z",
     "start_time": "2021-06-24T01:37:08.689632Z"
    }
   },
   "outputs": [
    {
     "data": {
      "text/html": [
       "<div>\n",
       "<style scoped>\n",
       "    .dataframe tbody tr th:only-of-type {\n",
       "        vertical-align: middle;\n",
       "    }\n",
       "\n",
       "    .dataframe tbody tr th {\n",
       "        vertical-align: top;\n",
       "    }\n",
       "\n",
       "    .dataframe thead th {\n",
       "        text-align: right;\n",
       "    }\n",
       "</style>\n",
       "<table border=\"1\" class=\"dataframe\">\n",
       "  <thead>\n",
       "    <tr style=\"text-align: right;\">\n",
       "      <th></th>\n",
       "      <th>SPY US Equity</th>\n",
       "      <th>AAPL US Equity</th>\n",
       "      <th>CL1 Comdty</th>\n",
       "      <th>DXY Curncy</th>\n",
       "      <th>HFRIMTI Index</th>\n",
       "      <th>Rate Convexity</th>\n",
       "    </tr>\n",
       "    <tr>\n",
       "      <th>Date</th>\n",
       "      <th></th>\n",
       "      <th></th>\n",
       "      <th></th>\n",
       "      <th></th>\n",
       "      <th></th>\n",
       "      <th></th>\n",
       "    </tr>\n",
       "  </thead>\n",
       "  <tbody>\n",
       "    <tr>\n",
       "      <th>1999-10-31</th>\n",
       "      <td>0.064078</td>\n",
       "      <td>0.265523</td>\n",
       "      <td>-0.112607</td>\n",
       "      <td>0.005277</td>\n",
       "      <td>0.0235</td>\n",
       "      <td>0.025013</td>\n",
       "    </tr>\n",
       "    <tr>\n",
       "      <th>1999-11-30</th>\n",
       "      <td>0.016651</td>\n",
       "      <td>0.221519</td>\n",
       "      <td>0.130575</td>\n",
       "      <td>0.029578</td>\n",
       "      <td>0.0250</td>\n",
       "      <td>0.027722</td>\n",
       "    </tr>\n",
       "    <tr>\n",
       "      <th>1999-12-31</th>\n",
       "      <td>0.057089</td>\n",
       "      <td>0.050465</td>\n",
       "      <td>0.041074</td>\n",
       "      <td>-0.001177</td>\n",
       "      <td>0.0509</td>\n",
       "      <td>0.040543</td>\n",
       "    </tr>\n",
       "    <tr>\n",
       "      <th>2000-01-31</th>\n",
       "      <td>-0.049787</td>\n",
       "      <td>0.009123</td>\n",
       "      <td>0.079687</td>\n",
       "      <td>0.032002</td>\n",
       "      <td>0.0155</td>\n",
       "      <td>0.034617</td>\n",
       "    </tr>\n",
       "    <tr>\n",
       "      <th>2000-02-29</th>\n",
       "      <td>-0.015226</td>\n",
       "      <td>0.104820</td>\n",
       "      <td>0.100941</td>\n",
       "      <td>0.007515</td>\n",
       "      <td>0.0596</td>\n",
       "      <td>-0.038410</td>\n",
       "    </tr>\n",
       "  </tbody>\n",
       "</table>\n",
       "</div>"
      ],
      "text/plain": [
       "            SPY US Equity  AAPL US Equity  CL1 Comdty  DXY Curncy  \\\n",
       "Date                                                                \n",
       "1999-10-31       0.064078        0.265523   -0.112607    0.005277   \n",
       "1999-11-30       0.016651        0.221519    0.130575    0.029578   \n",
       "1999-12-31       0.057089        0.050465    0.041074   -0.001177   \n",
       "2000-01-31      -0.049787        0.009123    0.079687    0.032002   \n",
       "2000-02-29      -0.015226        0.104820    0.100941    0.007515   \n",
       "\n",
       "            HFRIMTI Index  Rate Convexity  \n",
       "Date                                       \n",
       "1999-10-31         0.0235        0.025013  \n",
       "1999-11-30         0.0250        0.027722  \n",
       "1999-12-31         0.0509        0.040543  \n",
       "2000-01-31         0.0155        0.034617  \n",
       "2000-02-29         0.0596       -0.038410  "
      ]
     },
     "execution_count": 3,
     "metadata": {},
     "output_type": "execute_result"
    }
   ],
   "source": [
    "returns = data.iloc[:,:6].copy()\n",
    "returns.head(5)"
   ]
  },
  {
   "cell_type": "markdown",
   "id": "30767105",
   "metadata": {},
   "source": [
    "# 1. Summary Statistics"
   ]
  },
  {
   "cell_type": "markdown",
   "id": "fca2ea5f",
   "metadata": {},
   "source": [
    "## 1.1 & 1.2"
   ]
  },
  {
   "cell_type": "code",
   "execution_count": 4,
   "id": "466d8a94",
   "metadata": {
    "ExecuteTime": {
     "end_time": "2021-06-24T01:37:08.707514Z",
     "start_time": "2021-06-24T01:37:08.697804Z"
    }
   },
   "outputs": [
    {
     "data": {
      "text/html": [
       "<div>\n",
       "<style scoped>\n",
       "    .dataframe tbody tr th:only-of-type {\n",
       "        vertical-align: middle;\n",
       "    }\n",
       "\n",
       "    .dataframe tbody tr th {\n",
       "        vertical-align: top;\n",
       "    }\n",
       "\n",
       "    .dataframe thead th {\n",
       "        text-align: right;\n",
       "    }\n",
       "</style>\n",
       "<table border=\"1\" class=\"dataframe\">\n",
       "  <thead>\n",
       "    <tr style=\"text-align: right;\">\n",
       "      <th></th>\n",
       "      <th>SPY US Equity</th>\n",
       "      <th>AAPL US Equity</th>\n",
       "      <th>CL1 Comdty</th>\n",
       "      <th>DXY Curncy</th>\n",
       "      <th>HFRIMTI Index</th>\n",
       "      <th>Rate Convexity</th>\n",
       "    </tr>\n",
       "  </thead>\n",
       "  <tbody>\n",
       "    <tr>\n",
       "      <th>Mean</th>\n",
       "      <td>0.005874</td>\n",
       "      <td>0.027127</td>\n",
       "      <td>0.007726</td>\n",
       "      <td>0.000280</td>\n",
       "      <td>0.004934</td>\n",
       "      <td>-0.002046</td>\n",
       "    </tr>\n",
       "    <tr>\n",
       "      <th>Std</th>\n",
       "      <td>0.041997</td>\n",
       "      <td>0.117972</td>\n",
       "      <td>0.092340</td>\n",
       "      <td>0.023040</td>\n",
       "      <td>0.022255</td>\n",
       "      <td>0.085533</td>\n",
       "    </tr>\n",
       "    <tr>\n",
       "      <th>Max</th>\n",
       "      <td>0.109147</td>\n",
       "      <td>0.453741</td>\n",
       "      <td>0.297144</td>\n",
       "      <td>0.077850</td>\n",
       "      <td>0.064902</td>\n",
       "      <td>0.304245</td>\n",
       "    </tr>\n",
       "    <tr>\n",
       "      <th>Min</th>\n",
       "      <td>-0.165186</td>\n",
       "      <td>-0.577435</td>\n",
       "      <td>-0.326212</td>\n",
       "      <td>-0.062236</td>\n",
       "      <td>-0.063616</td>\n",
       "      <td>-0.261321</td>\n",
       "    </tr>\n",
       "    <tr>\n",
       "      <th>Corr with Portfolio</th>\n",
       "      <td>0.550387</td>\n",
       "      <td>0.584935</td>\n",
       "      <td>0.910560</td>\n",
       "      <td>-0.288421</td>\n",
       "      <td>0.155916</td>\n",
       "      <td>0.310357</td>\n",
       "    </tr>\n",
       "  </tbody>\n",
       "</table>\n",
       "</div>"
      ],
      "text/plain": [
       "                     SPY US Equity  AAPL US Equity  CL1 Comdty  DXY Curncy  \\\n",
       "Mean                      0.005874        0.027127    0.007726    0.000280   \n",
       "Std                       0.041997        0.117972    0.092340    0.023040   \n",
       "Max                       0.109147        0.453741    0.297144    0.077850   \n",
       "Min                      -0.165186       -0.577435   -0.326212   -0.062236   \n",
       "Corr with Portfolio       0.550387        0.584935    0.910560   -0.288421   \n",
       "\n",
       "                     HFRIMTI Index  Rate Convexity  \n",
       "Mean                      0.004934       -0.002046  \n",
       "Std                       0.022255        0.085533  \n",
       "Max                       0.064902        0.304245  \n",
       "Min                      -0.063616       -0.261321  \n",
       "Corr with Portfolio       0.155916        0.310357  "
      ]
     },
     "execution_count": 4,
     "metadata": {},
     "output_type": "execute_result"
    }
   ],
   "source": [
    "stats_simple = pd.DataFrame(columns=returns.columns, index=[\"Mean\", \"Std\", \"Max\", \"Min\", \"Corr with Portfolio\"])\n",
    "for c in stats_simple.columns:\n",
    "    stats_simple[c] = [returns[c].mean(), returns[c].std(), returns[c].max(), returns[c].min(), returns[c].corr(data['Portfolio'])]\n",
    "stats_simple"
   ]
  },
  {
   "cell_type": "markdown",
   "id": "7e55c50f",
   "metadata": {},
   "source": [
    "## 1.3"
   ]
  },
  {
   "cell_type": "markdown",
   "id": "1ead4b64",
   "metadata": {},
   "source": [
    "Not necessarily. For a univariate regression, beta is proportional to pairwise correlation. But in a multivariate regression, the beta is not so closely connected to the pairwise correlation. This means that a regressor with a large positive correlation to \"y\" could actually have a small, or even negative beta."
   ]
  },
  {
   "cell_type": "markdown",
   "id": "aaaf69c8",
   "metadata": {},
   "source": [
    "## 1.4"
   ]
  },
  {
   "cell_type": "code",
   "execution_count": 5,
   "id": "098b3e78",
   "metadata": {
    "ExecuteTime": {
     "end_time": "2021-06-24T01:37:08.716622Z",
     "start_time": "2021-06-24T01:37:08.708361Z"
    }
   },
   "outputs": [
    {
     "data": {
      "text/html": [
       "<div>\n",
       "<style scoped>\n",
       "    .dataframe tbody tr th:only-of-type {\n",
       "        vertical-align: middle;\n",
       "    }\n",
       "\n",
       "    .dataframe tbody tr th {\n",
       "        vertical-align: top;\n",
       "    }\n",
       "\n",
       "    .dataframe thead th {\n",
       "        text-align: right;\n",
       "    }\n",
       "</style>\n",
       "<table border=\"1\" class=\"dataframe\">\n",
       "  <thead>\n",
       "    <tr style=\"text-align: right;\">\n",
       "      <th></th>\n",
       "      <th>SPY US Equity</th>\n",
       "      <th>AAPL US Equity</th>\n",
       "      <th>CL1 Comdty</th>\n",
       "      <th>DXY Curncy</th>\n",
       "      <th>HFRIMTI Index</th>\n",
       "      <th>Rate Convexity</th>\n",
       "    </tr>\n",
       "  </thead>\n",
       "  <tbody>\n",
       "    <tr>\n",
       "      <th>Mean</th>\n",
       "      <td>0.004972</td>\n",
       "      <td>0.019504</td>\n",
       "      <td>0.003389</td>\n",
       "      <td>0.000016</td>\n",
       "      <td>0.004679</td>\n",
       "      <td>-0.005725</td>\n",
       "    </tr>\n",
       "    <tr>\n",
       "      <th>Std</th>\n",
       "      <td>0.042372</td>\n",
       "      <td>0.124917</td>\n",
       "      <td>0.093840</td>\n",
       "      <td>0.023011</td>\n",
       "      <td>0.022119</td>\n",
       "      <td>0.086208</td>\n",
       "    </tr>\n",
       "    <tr>\n",
       "      <th>Max</th>\n",
       "      <td>0.103591</td>\n",
       "      <td>0.374140</td>\n",
       "      <td>0.260165</td>\n",
       "      <td>0.074968</td>\n",
       "      <td>0.062883</td>\n",
       "      <td>0.265625</td>\n",
       "    </tr>\n",
       "    <tr>\n",
       "      <th>Min</th>\n",
       "      <td>-0.180547</td>\n",
       "      <td>-0.861411</td>\n",
       "      <td>-0.394840</td>\n",
       "      <td>-0.064256</td>\n",
       "      <td>-0.065729</td>\n",
       "      <td>-0.302891</td>\n",
       "    </tr>\n",
       "    <tr>\n",
       "      <th>Corr with Portfolio</th>\n",
       "      <td>0.552450</td>\n",
       "      <td>0.571211</td>\n",
       "      <td>0.910968</td>\n",
       "      <td>-0.286503</td>\n",
       "      <td>0.156504</td>\n",
       "      <td>0.323450</td>\n",
       "    </tr>\n",
       "  </tbody>\n",
       "</table>\n",
       "</div>"
      ],
      "text/plain": [
       "                     SPY US Equity  AAPL US Equity  CL1 Comdty  DXY Curncy  \\\n",
       "Mean                      0.004972        0.019504    0.003389    0.000016   \n",
       "Std                       0.042372        0.124917    0.093840    0.023011   \n",
       "Max                       0.103591        0.374140    0.260165    0.074968   \n",
       "Min                      -0.180547       -0.861411   -0.394840   -0.064256   \n",
       "Corr with Portfolio       0.552450        0.571211    0.910968   -0.286503   \n",
       "\n",
       "                     HFRIMTI Index  Rate Convexity  \n",
       "Mean                      0.004679       -0.005725  \n",
       "Std                       0.022119        0.086208  \n",
       "Max                       0.062883        0.265625  \n",
       "Min                      -0.065729       -0.302891  \n",
       "Corr with Portfolio       0.156504        0.323450  "
      ]
     },
     "execution_count": 5,
     "metadata": {},
     "output_type": "execute_result"
    }
   ],
   "source": [
    "returns_log = np.log(1 + returns)\n",
    "stats_log = pd.DataFrame(columns=returns_log.columns, index=[\"Mean\", \"Std\", \"Max\", \"Min\", \"Corr with Portfolio\"])\n",
    "for c in stats_log.columns:\n",
    "    stats_log[c] = [returns_log[c].mean(), returns_log[c].std(), returns_log[c].max(), returns_log[c].min(), returns_log[c].corr(data['Portfolio'])]\n",
    "stats_log"
   ]
  },
  {
   "cell_type": "markdown",
   "id": "41197e15",
   "metadata": {},
   "source": [
    "Means of log returns are smaller than the means of simple (arithmetic) returns. This is because of Jensen's inequality--also known as a convexity adjustment."
   ]
  },
  {
   "cell_type": "markdown",
   "id": "8e45cb6c",
   "metadata": {},
   "source": [
    "## 1.5 "
   ]
  },
  {
   "cell_type": "code",
   "execution_count": 6,
   "id": "b895ff00",
   "metadata": {
    "ExecuteTime": {
     "end_time": "2021-06-24T01:37:08.744464Z",
     "start_time": "2021-06-24T01:37:08.717312Z"
    }
   },
   "outputs": [
    {
     "data": {
      "text/html": [
       "<div>\n",
       "<style scoped>\n",
       "    .dataframe tbody tr th:only-of-type {\n",
       "        vertical-align: middle;\n",
       "    }\n",
       "\n",
       "    .dataframe tbody tr th {\n",
       "        vertical-align: top;\n",
       "    }\n",
       "\n",
       "    .dataframe thead th {\n",
       "        text-align: right;\n",
       "    }\n",
       "</style>\n",
       "<table border=\"1\" class=\"dataframe\">\n",
       "  <thead>\n",
       "    <tr style=\"text-align: right;\">\n",
       "      <th></th>\n",
       "      <th>SPY US Equity</th>\n",
       "      <th>AAPL US Equity</th>\n",
       "      <th>CL1 Comdty</th>\n",
       "      <th>DXY Curncy</th>\n",
       "      <th>HFRIMTI Index</th>\n",
       "      <th>Rate Convexity</th>\n",
       "    </tr>\n",
       "  </thead>\n",
       "  <tbody>\n",
       "    <tr>\n",
       "      <th>Mean</th>\n",
       "      <td>0.072733</td>\n",
       "      <td>0.412179</td>\n",
       "      <td>0.095922</td>\n",
       "      <td>0.003285</td>\n",
       "      <td>0.057467</td>\n",
       "      <td>-0.020214</td>\n",
       "    </tr>\n",
       "    <tr>\n",
       "      <th>Std</th>\n",
       "      <td>0.169250</td>\n",
       "      <td>0.662357</td>\n",
       "      <td>0.344594</td>\n",
       "      <td>0.080064</td>\n",
       "      <td>0.078448</td>\n",
       "      <td>0.309443</td>\n",
       "    </tr>\n",
       "  </tbody>\n",
       "</table>\n",
       "</div>"
      ],
      "text/plain": [
       "      SPY US Equity  AAPL US Equity  CL1 Comdty  DXY Curncy  HFRIMTI Index  \\\n",
       "Mean       0.072733        0.412179    0.095922    0.003285       0.057467   \n",
       "Std        0.169250        0.662357    0.344594    0.080064       0.078448   \n",
       "\n",
       "      Rate Convexity  \n",
       "Mean       -0.020214  \n",
       "Std         0.309443  "
      ]
     },
     "execution_count": 6,
     "metadata": {},
     "output_type": "execute_result"
    }
   ],
   "source": [
    "returns_annu = returns.resample(\"Y\").apply(lambda x: ((1+x).cumprod() - 1).iat[-1])\n",
    "stats_acutal_annu = pd.DataFrame(columns=returns_annu.columns, index=[\"Mean\", \"Std\"])\n",
    "for c in stats_acutal_annu.columns:\n",
    "    stats_acutal_annu[c] = [returns_annu[c].mean(), returns_annu[c].std()]\n",
    "stats_acutal_annu"
   ]
  },
  {
   "cell_type": "code",
   "execution_count": 7,
   "id": "33e4b260",
   "metadata": {
    "ExecuteTime": {
     "end_time": "2021-06-24T01:37:08.751803Z",
     "start_time": "2021-06-24T01:37:08.745336Z"
    }
   },
   "outputs": [
    {
     "data": {
      "text/html": [
       "<div>\n",
       "<style scoped>\n",
       "    .dataframe tbody tr th:only-of-type {\n",
       "        vertical-align: middle;\n",
       "    }\n",
       "\n",
       "    .dataframe tbody tr th {\n",
       "        vertical-align: top;\n",
       "    }\n",
       "\n",
       "    .dataframe thead th {\n",
       "        text-align: right;\n",
       "    }\n",
       "</style>\n",
       "<table border=\"1\" class=\"dataframe\">\n",
       "  <thead>\n",
       "    <tr style=\"text-align: right;\">\n",
       "      <th></th>\n",
       "      <th>SPY US Equity</th>\n",
       "      <th>AAPL US Equity</th>\n",
       "      <th>CL1 Comdty</th>\n",
       "      <th>DXY Curncy</th>\n",
       "      <th>HFRIMTI Index</th>\n",
       "      <th>Rate Convexity</th>\n",
       "    </tr>\n",
       "  </thead>\n",
       "  <tbody>\n",
       "    <tr>\n",
       "      <th>Mean</th>\n",
       "      <td>0.070489</td>\n",
       "      <td>0.325522</td>\n",
       "      <td>0.092711</td>\n",
       "      <td>0.003357</td>\n",
       "      <td>0.059213</td>\n",
       "      <td>-0.024558</td>\n",
       "    </tr>\n",
       "    <tr>\n",
       "      <th>Std</th>\n",
       "      <td>0.145482</td>\n",
       "      <td>0.408666</td>\n",
       "      <td>0.319874</td>\n",
       "      <td>0.079813</td>\n",
       "      <td>0.077093</td>\n",
       "      <td>0.296297</td>\n",
       "    </tr>\n",
       "  </tbody>\n",
       "</table>\n",
       "</div>"
      ],
      "text/plain": [
       "      SPY US Equity  AAPL US Equity  CL1 Comdty  DXY Curncy  HFRIMTI Index  \\\n",
       "Mean       0.070489        0.325522    0.092711    0.003357       0.059213   \n",
       "Std        0.145482        0.408666    0.319874    0.079813       0.077093   \n",
       "\n",
       "      Rate Convexity  \n",
       "Mean       -0.024558  \n",
       "Std         0.296297  "
      ]
     },
     "execution_count": 7,
     "metadata": {},
     "output_type": "execute_result"
    }
   ],
   "source": [
    "stats_scaled_annu = stats_simple.iloc[:2, :].copy()\n",
    "stats_scaled_annu.loc[\"Mean\",:] = stats_scaled_annu.loc[\"Mean\",:] * 12\n",
    "stats_scaled_annu.loc[\"Std\",:] = stats_scaled_annu.loc[\"Std\",:] * np.sqrt(12)\n",
    "stats_scaled_annu"
   ]
  },
  {
   "cell_type": "markdown",
   "id": "71cceac9",
   "metadata": {},
   "source": [
    "The annualized statistics of monthly returns are close to the statistics of annual returns. However, they are not exact because the annualizing factors (12 and sqrt(12)) are approximations, so in any given sample there will be some difference between compounding stats or annualizing returns and then taking the stats."
   ]
  },
  {
   "cell_type": "markdown",
   "id": "9bf1254d",
   "metadata": {},
   "source": [
    "## 1.6 "
   ]
  },
  {
   "cell_type": "markdown",
   "id": "87ae6dfa",
   "metadata": {},
   "source": [
    "<!-- <font color='red'>  -->\n",
    "All comparing to the result of using simple return:\n",
    "- return factors: this will change the intercept, but keep the same beta, since we are simply shifting the levels of the variables, not the covariations.\n",
    "- log returns: again, the level will be slightly different, (as seen above in the slighly smaller means,) which will change the intercept. The betas will change only slightly, as the log adjustment has very small impact on the returns, and thus their covariations.\n",
    "- annual returns: this will change the intercept substantially because the scale of the data is different. It will also change the betas--and it may change them substantially--since the compound returns can differ substantially from the original returns.\n",
    "<!-- </font> -->"
   ]
  },
  {
   "cell_type": "markdown",
   "id": "d6b72931",
   "metadata": {},
   "source": [
    "# 2. Regression"
   ]
  },
  {
   "cell_type": "markdown",
   "id": "ce1f85c1",
   "metadata": {},
   "source": [
    "## 2.1"
   ]
  },
  {
   "cell_type": "code",
   "execution_count": 8,
   "id": "f622a42f",
   "metadata": {
    "ExecuteTime": {
     "end_time": "2021-06-24T01:37:08.773349Z",
     "start_time": "2021-06-24T01:37:08.764291Z"
    }
   },
   "outputs": [
    {
     "data": {
      "text/html": [
       "<table class=\"simpletable\">\n",
       "<caption>OLS Regression Results</caption>\n",
       "<tr>\n",
       "  <th>Dep. Variable:</th>        <td>Portfolio</td>    <th>  R-squared:         </th> <td>   0.303</td>\n",
       "</tr>\n",
       "<tr>\n",
       "  <th>Model:</th>                   <td>OLS</td>       <th>  Adj. R-squared:    </th> <td>   0.300</td>\n",
       "</tr>\n",
       "<tr>\n",
       "  <th>Method:</th>             <td>Least Squares</td>  <th>  F-statistic:       </th> <td>   103.0</td>\n",
       "</tr>\n",
       "<tr>\n",
       "  <th>Date:</th>             <td>Tue, 13 Jul 2021</td> <th>  Prob (F-statistic):</th> <td>2.50e-20</td>\n",
       "</tr>\n",
       "<tr>\n",
       "  <th>Time:</th>                 <td>00:16:01</td>     <th>  Log-Likelihood:    </th> <td>  387.05</td>\n",
       "</tr>\n",
       "<tr>\n",
       "  <th>No. Observations:</th>      <td>   239</td>      <th>  AIC:               </th> <td>  -770.1</td>\n",
       "</tr>\n",
       "<tr>\n",
       "  <th>Df Residuals:</th>          <td>   237</td>      <th>  BIC:               </th> <td>  -763.2</td>\n",
       "</tr>\n",
       "<tr>\n",
       "  <th>Df Model:</th>              <td>     1</td>      <th>                     </th>     <td> </td>   \n",
       "</tr>\n",
       "<tr>\n",
       "  <th>Covariance Type:</th>      <td>nonrobust</td>    <th>                     </th>     <td> </td>   \n",
       "</tr>\n",
       "</table>\n",
       "<table class=\"simpletable\">\n",
       "<tr>\n",
       "        <td></td>           <th>coef</th>     <th>std err</th>      <th>t</th>      <th>P>|t|</th>  <th>[0.025</th>    <th>0.975]</th>  \n",
       "</tr>\n",
       "<tr>\n",
       "  <th>const</th>         <td>    0.0050</td> <td>    0.003</td> <td>    1.592</td> <td> 0.113</td> <td>   -0.001</td> <td>    0.011</td>\n",
       "</tr>\n",
       "<tr>\n",
       "  <th>SPY US Equity</th> <td>    0.7536</td> <td>    0.074</td> <td>   10.149</td> <td> 0.000</td> <td>    0.607</td> <td>    0.900</td>\n",
       "</tr>\n",
       "</table>\n",
       "<table class=\"simpletable\">\n",
       "<tr>\n",
       "  <th>Omnibus:</th>       <td> 3.225</td> <th>  Durbin-Watson:     </th> <td>   1.894</td>\n",
       "</tr>\n",
       "<tr>\n",
       "  <th>Prob(Omnibus):</th> <td> 0.199</td> <th>  Jarque-Bera (JB):  </th> <td>   2.854</td>\n",
       "</tr>\n",
       "<tr>\n",
       "  <th>Skew:</th>          <td>-0.231</td> <th>  Prob(JB):          </th> <td>   0.240</td>\n",
       "</tr>\n",
       "<tr>\n",
       "  <th>Kurtosis:</th>      <td> 3.272</td> <th>  Cond. No.          </th> <td>    23.9</td>\n",
       "</tr>\n",
       "</table><br/><br/>Notes:<br/>[1] Standard Errors assume that the covariance matrix of the errors is correctly specified."
      ],
      "text/plain": [
       "<class 'statsmodels.iolib.summary.Summary'>\n",
       "\"\"\"\n",
       "                            OLS Regression Results                            \n",
       "==============================================================================\n",
       "Dep. Variable:              Portfolio   R-squared:                       0.303\n",
       "Model:                            OLS   Adj. R-squared:                  0.300\n",
       "Method:                 Least Squares   F-statistic:                     103.0\n",
       "Date:                Tue, 13 Jul 2021   Prob (F-statistic):           2.50e-20\n",
       "Time:                        00:16:01   Log-Likelihood:                 387.05\n",
       "No. Observations:                 239   AIC:                            -770.1\n",
       "Df Residuals:                     237   BIC:                            -763.2\n",
       "Df Model:                           1                                         \n",
       "Covariance Type:            nonrobust                                         \n",
       "=================================================================================\n",
       "                    coef    std err          t      P>|t|      [0.025      0.975]\n",
       "---------------------------------------------------------------------------------\n",
       "const             0.0050      0.003      1.592      0.113      -0.001       0.011\n",
       "SPY US Equity     0.7536      0.074     10.149      0.000       0.607       0.900\n",
       "==============================================================================\n",
       "Omnibus:                        3.225   Durbin-Watson:                   1.894\n",
       "Prob(Omnibus):                  0.199   Jarque-Bera (JB):                2.854\n",
       "Skew:                          -0.231   Prob(JB):                        0.240\n",
       "Kurtosis:                       3.272   Cond. No.                         23.9\n",
       "==============================================================================\n",
       "\n",
       "Notes:\n",
       "[1] Standard Errors assume that the covariance matrix of the errors is correctly specified.\n",
       "\"\"\""
      ]
     },
     "execution_count": 8,
     "metadata": {},
     "output_type": "execute_result"
    }
   ],
   "source": [
    "X = sm.add_constant(returns['SPY US Equity'])\n",
    "y = data['Portfolio']\n",
    "model1 = sm.OLS(y, X).fit()\n",
    "model1.summary()"
   ]
  },
  {
   "cell_type": "markdown",
   "id": "6c34bfd6",
   "metadata": {},
   "source": [
    "## 2.2"
   ]
  },
  {
   "cell_type": "code",
   "execution_count": 9,
   "id": "252b791b",
   "metadata": {
    "ExecuteTime": {
     "end_time": "2021-06-24T01:37:08.784226Z",
     "start_time": "2021-06-24T01:37:08.775144Z"
    }
   },
   "outputs": [
    {
     "data": {
      "text/html": [
       "<table class=\"simpletable\">\n",
       "<caption>OLS Regression Results</caption>\n",
       "<tr>\n",
       "  <th>Dep. Variable:</th>        <td>Portfolio</td>    <th>  R-squared:         </th> <td>   0.926</td> \n",
       "</tr>\n",
       "<tr>\n",
       "  <th>Model:</th>                   <td>OLS</td>       <th>  Adj. R-squared:    </th> <td>   0.926</td> \n",
       "</tr>\n",
       "<tr>\n",
       "  <th>Method:</th>             <td>Least Squares</td>  <th>  F-statistic:       </th> <td>   1482.</td> \n",
       "</tr>\n",
       "<tr>\n",
       "  <th>Date:</th>             <td>Tue, 13 Jul 2021</td> <th>  Prob (F-statistic):</th> <td>2.55e-134</td>\n",
       "</tr>\n",
       "<tr>\n",
       "  <th>Time:</th>                 <td>00:16:01</td>     <th>  Log-Likelihood:    </th> <td>  655.45</td> \n",
       "</tr>\n",
       "<tr>\n",
       "  <th>No. Observations:</th>      <td>   239</td>      <th>  AIC:               </th> <td>  -1305.</td> \n",
       "</tr>\n",
       "<tr>\n",
       "  <th>Df Residuals:</th>          <td>   236</td>      <th>  BIC:               </th> <td>  -1294.</td> \n",
       "</tr>\n",
       "<tr>\n",
       "  <th>Df Model:</th>              <td>     2</td>      <th>                     </th>     <td> </td>    \n",
       "</tr>\n",
       "<tr>\n",
       "  <th>Covariance Type:</th>      <td>nonrobust</td>    <th>                     </th>     <td> </td>    \n",
       "</tr>\n",
       "</table>\n",
       "<table class=\"simpletable\">\n",
       "<tr>\n",
       "        <td></td>           <th>coef</th>     <th>std err</th>      <th>t</th>      <th>P>|t|</th>  <th>[0.025</th>    <th>0.975]</th>  \n",
       "</tr>\n",
       "<tr>\n",
       "  <th>const</th>         <td>    0.0029</td> <td>    0.001</td> <td>    2.798</td> <td> 0.006</td> <td>    0.001</td> <td>    0.005</td>\n",
       "</tr>\n",
       "<tr>\n",
       "  <th>SPY US Equity</th> <td>    0.4439</td> <td>    0.025</td> <td>   17.627</td> <td> 0.000</td> <td>    0.394</td> <td>    0.493</td>\n",
       "</tr>\n",
       "<tr>\n",
       "  <th>CL1 Comdty</th>    <td>    0.5115</td> <td>    0.011</td> <td>   44.656</td> <td> 0.000</td> <td>    0.489</td> <td>    0.534</td>\n",
       "</tr>\n",
       "</table>\n",
       "<table class=\"simpletable\">\n",
       "<tr>\n",
       "  <th>Omnibus:</th>       <td>27.735</td> <th>  Durbin-Watson:     </th> <td>   2.039</td>\n",
       "</tr>\n",
       "<tr>\n",
       "  <th>Prob(Omnibus):</th> <td> 0.000</td> <th>  Jarque-Bera (JB):  </th> <td>  98.835</td>\n",
       "</tr>\n",
       "<tr>\n",
       "  <th>Skew:</th>          <td>-0.365</td> <th>  Prob(JB):          </th> <td>3.45e-22</td>\n",
       "</tr>\n",
       "<tr>\n",
       "  <th>Kurtosis:</th>      <td> 6.064</td> <th>  Cond. No.          </th> <td>    25.1</td>\n",
       "</tr>\n",
       "</table><br/><br/>Notes:<br/>[1] Standard Errors assume that the covariance matrix of the errors is correctly specified."
      ],
      "text/plain": [
       "<class 'statsmodels.iolib.summary.Summary'>\n",
       "\"\"\"\n",
       "                            OLS Regression Results                            \n",
       "==============================================================================\n",
       "Dep. Variable:              Portfolio   R-squared:                       0.926\n",
       "Model:                            OLS   Adj. R-squared:                  0.926\n",
       "Method:                 Least Squares   F-statistic:                     1482.\n",
       "Date:                Tue, 13 Jul 2021   Prob (F-statistic):          2.55e-134\n",
       "Time:                        00:16:01   Log-Likelihood:                 655.45\n",
       "No. Observations:                 239   AIC:                            -1305.\n",
       "Df Residuals:                     236   BIC:                            -1294.\n",
       "Df Model:                           2                                         \n",
       "Covariance Type:            nonrobust                                         \n",
       "=================================================================================\n",
       "                    coef    std err          t      P>|t|      [0.025      0.975]\n",
       "---------------------------------------------------------------------------------\n",
       "const             0.0029      0.001      2.798      0.006       0.001       0.005\n",
       "SPY US Equity     0.4439      0.025     17.627      0.000       0.394       0.493\n",
       "CL1 Comdty        0.5115      0.011     44.656      0.000       0.489       0.534\n",
       "==============================================================================\n",
       "Omnibus:                       27.735   Durbin-Watson:                   2.039\n",
       "Prob(Omnibus):                  0.000   Jarque-Bera (JB):               98.835\n",
       "Skew:                          -0.365   Prob(JB):                     3.45e-22\n",
       "Kurtosis:                       6.064   Cond. No.                         25.1\n",
       "==============================================================================\n",
       "\n",
       "Notes:\n",
       "[1] Standard Errors assume that the covariance matrix of the errors is correctly specified.\n",
       "\"\"\""
      ]
     },
     "execution_count": 9,
     "metadata": {},
     "output_type": "execute_result"
    }
   ],
   "source": [
    "X = sm.add_constant(returns[['SPY US Equity', 'CL1 Comdty']])\n",
    "y = data['Portfolio']\n",
    "model2 = sm.OLS(y, X).fit()\n",
    "model2.summary()"
   ]
  },
  {
   "cell_type": "markdown",
   "id": "854561b6",
   "metadata": {},
   "source": [
    "Notice that the beta on SPY is much lower now that we include CL1. Also note that the R-squared is much higher."
   ]
  },
  {
   "cell_type": "markdown",
   "id": "67c497e1",
   "metadata": {},
   "source": [
    "## 2.3"
   ]
  },
  {
   "cell_type": "code",
   "execution_count": 10,
   "id": "7a85e3c8",
   "metadata": {
    "ExecuteTime": {
     "end_time": "2021-06-24T01:37:08.788236Z",
     "start_time": "2021-06-24T01:37:08.784889Z"
    }
   },
   "outputs": [
    {
     "data": {
      "text/plain": [
       "(0.9624107616253494, 0.9262344740922852)"
      ]
     },
     "execution_count": 10,
     "metadata": {},
     "output_type": "execute_result"
    }
   ],
   "source": [
    "fitted_ts = model2.params[0] + model2.params[1] * returns['SPY US Equity'] + model2.params[2] * returns['CL1 Comdty']\n",
    "corr = fitted_ts.corr(data['Portfolio'])\n",
    "corr, corr**2"
   ]
  },
  {
   "cell_type": "markdown",
   "id": "b3466d23",
   "metadata": {},
   "source": [
    "The squared correlation is exactly the R^2, as R^2 captures the correlation of Portfolio's return and the combined space spanned by both regressors."
   ]
  },
  {
   "cell_type": "markdown",
   "id": "5e48b19f",
   "metadata": {},
   "source": [
    "## 2.4"
   ]
  },
  {
   "cell_type": "code",
   "execution_count": 11,
   "id": "e362b40b",
   "metadata": {
    "ExecuteTime": {
     "end_time": "2021-06-24T01:37:08.791609Z",
     "start_time": "2021-06-24T01:37:08.789012Z"
    }
   },
   "outputs": [
    {
     "data": {
      "text/plain": [
       "0.2754456042254609"
      ]
     },
     "execution_count": 11,
     "metadata": {},
     "output_type": "execute_result"
    }
   ],
   "source": [
    "corr = returns['CL1 Comdty'].corr(returns['SPY US Equity'])\n",
    "corr"
   ]
  },
  {
   "cell_type": "markdown",
   "id": "36661f63",
   "metadata": {},
   "source": [
    "The beta in (2) is much smaller than in (1). This is because Oil and SPY is significantly correlated, therefore a large proportion of the variation in the Portfolio return which was being attributed to SPY (in eq 1) was actually better explained by Oil. Thus, in eq (2) this gets attributed more directly to Oil, and less is attributed to SPY."
   ]
  },
  {
   "cell_type": "markdown",
   "id": "61f577aa",
   "metadata": {},
   "source": [
    "## 2.5"
   ]
  },
  {
   "cell_type": "markdown",
   "id": "c3ab71cf",
   "metadata": {},
   "source": [
    "Without doing calculation, the intuition is the residual in model 1 would be highly correlated with the Oil return. This is because in model 2, we see that the Oil beta is significant (t ratio equals to 44.656), which means Oil returns can explain a big portion of the Portfolio return. In other words, the residual in model 1 containes the information which should be explained by the Oil returns, and therefore has a higher correlation."
   ]
  },
  {
   "cell_type": "code",
   "execution_count": 12,
   "id": "7e2a3982",
   "metadata": {
    "ExecuteTime": {
     "end_time": "2021-06-24T01:37:08.794778Z",
     "start_time": "2021-06-24T01:37:08.792287Z"
    }
   },
   "outputs": [
    {
     "data": {
      "text/plain": [
       "0.9090306838982621"
      ]
     },
     "execution_count": 12,
     "metadata": {},
     "output_type": "execute_result"
    }
   ],
   "source": [
    "returns['CL1 Comdty'].corr(model1.resid)"
   ]
  },
  {
   "cell_type": "code",
   "execution_count": 13,
   "id": "f206e4ba",
   "metadata": {
    "ExecuteTime": {
     "end_time": "2021-06-24T01:37:08.799376Z",
     "start_time": "2021-06-24T01:37:08.795572Z"
    }
   },
   "outputs": [
    {
     "data": {
      "text/plain": [
       "-6.846186638780074e-16"
      ]
     },
     "execution_count": 13,
     "metadata": {},
     "output_type": "execute_result"
    }
   ],
   "source": [
    "returns['CL1 Comdty'].corr(model2.resid)"
   ]
  },
  {
   "cell_type": "markdown",
   "id": "693fc955",
   "metadata": {},
   "source": [
    "# 3. Decomposing and Replicating"
   ]
  },
  {
   "cell_type": "markdown",
   "id": "9f7bf944",
   "metadata": {},
   "source": [
    "## 3.1"
   ]
  },
  {
   "cell_type": "code",
   "execution_count": 14,
   "id": "20ed45fc",
   "metadata": {
    "ExecuteTime": {
     "end_time": "2021-06-24T01:37:08.805042Z",
     "start_time": "2021-06-24T01:37:08.800384Z"
    }
   },
   "outputs": [
    {
     "data": {
      "text/plain": [
       "SPY US Equity     2.500000e-01\n",
       "AAPL US Equity    1.500000e-01\n",
       "CL1 Comdty        5.000000e-01\n",
       "DXY Curncy        1.000000e-01\n",
       "HFRIMTI Index    -2.827599e-16\n",
       "Rate Convexity   -4.857226e-17\n",
       "dtype: float64"
      ]
     },
     "execution_count": 14,
     "metadata": {},
     "output_type": "execute_result"
    }
   ],
   "source": [
    "X = returns.copy()\n",
    "y = data['Portfolio']\n",
    "model3 = sm.OLS(y, X).fit()\n",
    "weights = model3.params\n",
    "weights"
   ]
  },
  {
   "cell_type": "markdown",
   "id": "2d29ddc9",
   "metadata": {},
   "source": [
    "## 3.2"
   ]
  },
  {
   "cell_type": "code",
   "execution_count": 15,
   "id": "418f2e44",
   "metadata": {
    "ExecuteTime": {
     "end_time": "2021-06-24T01:37:08.812093Z",
     "start_time": "2021-06-24T01:37:08.806286Z"
    }
   },
   "outputs": [
    {
     "data": {
      "text/html": [
       "<div>\n",
       "<style scoped>\n",
       "    .dataframe tbody tr th:only-of-type {\n",
       "        vertical-align: middle;\n",
       "    }\n",
       "\n",
       "    .dataframe tbody tr th {\n",
       "        vertical-align: top;\n",
       "    }\n",
       "\n",
       "    .dataframe thead th {\n",
       "        text-align: right;\n",
       "    }\n",
       "</style>\n",
       "<table border=\"1\" class=\"dataframe\">\n",
       "  <thead>\n",
       "    <tr style=\"text-align: right;\">\n",
       "      <th></th>\n",
       "      <th>SPY US Equity</th>\n",
       "      <th>CL1 Comdty</th>\n",
       "      <th>DXY Curncy</th>\n",
       "      <th>HFRIMTI Index</th>\n",
       "      <th>Rate Convexity</th>\n",
       "    </tr>\n",
       "    <tr>\n",
       "      <th>Date</th>\n",
       "      <th></th>\n",
       "      <th></th>\n",
       "      <th></th>\n",
       "      <th></th>\n",
       "      <th></th>\n",
       "    </tr>\n",
       "  </thead>\n",
       "  <tbody>\n",
       "    <tr>\n",
       "      <th>1999-10-31</th>\n",
       "      <td>0.064078</td>\n",
       "      <td>-0.112607</td>\n",
       "      <td>0.005277</td>\n",
       "      <td>0.0235</td>\n",
       "      <td>0.025013</td>\n",
       "    </tr>\n",
       "    <tr>\n",
       "      <th>1999-11-30</th>\n",
       "      <td>0.016651</td>\n",
       "      <td>0.130575</td>\n",
       "      <td>0.029578</td>\n",
       "      <td>0.0250</td>\n",
       "      <td>0.027722</td>\n",
       "    </tr>\n",
       "    <tr>\n",
       "      <th>1999-12-31</th>\n",
       "      <td>0.057089</td>\n",
       "      <td>0.041074</td>\n",
       "      <td>-0.001177</td>\n",
       "      <td>0.0509</td>\n",
       "      <td>0.040543</td>\n",
       "    </tr>\n",
       "    <tr>\n",
       "      <th>2000-01-31</th>\n",
       "      <td>-0.049787</td>\n",
       "      <td>0.079687</td>\n",
       "      <td>0.032002</td>\n",
       "      <td>0.0155</td>\n",
       "      <td>0.034617</td>\n",
       "    </tr>\n",
       "    <tr>\n",
       "      <th>2000-02-29</th>\n",
       "      <td>-0.015226</td>\n",
       "      <td>0.100941</td>\n",
       "      <td>0.007515</td>\n",
       "      <td>0.0596</td>\n",
       "      <td>-0.038410</td>\n",
       "    </tr>\n",
       "  </tbody>\n",
       "</table>\n",
       "</div>"
      ],
      "text/plain": [
       "            SPY US Equity  CL1 Comdty  DXY Curncy  HFRIMTI Index  \\\n",
       "Date                                                               \n",
       "1999-10-31       0.064078   -0.112607    0.005277         0.0235   \n",
       "1999-11-30       0.016651    0.130575    0.029578         0.0250   \n",
       "1999-12-31       0.057089    0.041074   -0.001177         0.0509   \n",
       "2000-01-31      -0.049787    0.079687    0.032002         0.0155   \n",
       "2000-02-29      -0.015226    0.100941    0.007515         0.0596   \n",
       "\n",
       "            Rate Convexity  \n",
       "Date                        \n",
       "1999-10-31        0.025013  \n",
       "1999-11-30        0.027722  \n",
       "1999-12-31        0.040543  \n",
       "2000-01-31        0.034617  \n",
       "2000-02-29       -0.038410  "
      ]
     },
     "execution_count": 15,
     "metadata": {},
     "output_type": "execute_result"
    }
   ],
   "source": [
    "subset = data.loc[:\"2018\"].copy()\n",
    "returns_subset = subset.iloc[:,[0,2,3,4,5]].copy()\n",
    "returns_subset.head(5)"
   ]
  },
  {
   "cell_type": "code",
   "execution_count": 16,
   "id": "77f7dcbb",
   "metadata": {
    "ExecuteTime": {
     "end_time": "2021-06-24T01:37:08.821632Z",
     "start_time": "2021-06-24T01:37:08.812850Z"
    }
   },
   "outputs": [
    {
     "data": {
      "text/html": [
       "<table class=\"simpletable\">\n",
       "<caption>OLS Regression Results</caption>\n",
       "<tr>\n",
       "  <th>Dep. Variable:</th>     <td>AAPL US Equity</td>  <th>  R-squared (uncentered):</th>      <td>   0.343</td>\n",
       "</tr>\n",
       "<tr>\n",
       "  <th>Model:</th>                   <td>OLS</td>       <th>  Adj. R-squared (uncentered):</th> <td>   0.329</td>\n",
       "</tr>\n",
       "<tr>\n",
       "  <th>Method:</th>             <td>Least Squares</td>  <th>  F-statistic:       </th>          <td>   23.63</td>\n",
       "</tr>\n",
       "<tr>\n",
       "  <th>Date:</th>             <td>Tue, 13 Jul 2021</td> <th>  Prob (F-statistic):</th>          <td>4.37e-19</td>\n",
       "</tr>\n",
       "<tr>\n",
       "  <th>Time:</th>                 <td>00:16:02</td>     <th>  Log-Likelihood:    </th>          <td>  206.97</td>\n",
       "</tr>\n",
       "<tr>\n",
       "  <th>No. Observations:</th>      <td>   231</td>      <th>  AIC:               </th>          <td>  -403.9</td>\n",
       "</tr>\n",
       "<tr>\n",
       "  <th>Df Residuals:</th>          <td>   226</td>      <th>  BIC:               </th>          <td>  -386.7</td>\n",
       "</tr>\n",
       "<tr>\n",
       "  <th>Df Model:</th>              <td>     5</td>      <th>                     </th>              <td> </td>   \n",
       "</tr>\n",
       "<tr>\n",
       "  <th>Covariance Type:</th>      <td>nonrobust</td>    <th>                     </th>              <td> </td>   \n",
       "</tr>\n",
       "</table>\n",
       "<table class=\"simpletable\">\n",
       "<tr>\n",
       "         <td></td>           <th>coef</th>     <th>std err</th>      <th>t</th>      <th>P>|t|</th>  <th>[0.025</th>    <th>0.975]</th>  \n",
       "</tr>\n",
       "<tr>\n",
       "  <th>SPY US Equity</th>  <td>    1.5349</td> <td>    0.185</td> <td>    8.285</td> <td> 0.000</td> <td>    1.170</td> <td>    1.900</td>\n",
       "</tr>\n",
       "<tr>\n",
       "  <th>CL1 Comdty</th>     <td>    0.2297</td> <td>    0.079</td> <td>    2.892</td> <td> 0.004</td> <td>    0.073</td> <td>    0.386</td>\n",
       "</tr>\n",
       "<tr>\n",
       "  <th>DXY Curncy</th>     <td>    1.1449</td> <td>    0.320</td> <td>    3.576</td> <td> 0.000</td> <td>    0.514</td> <td>    1.776</td>\n",
       "</tr>\n",
       "<tr>\n",
       "  <th>HFRIMTI Index</th>  <td>    0.7743</td> <td>    0.311</td> <td>    2.487</td> <td> 0.014</td> <td>    0.161</td> <td>    1.388</td>\n",
       "</tr>\n",
       "<tr>\n",
       "  <th>Rate Convexity</th> <td>   -0.0979</td> <td>    0.089</td> <td>   -1.096</td> <td> 0.274</td> <td>   -0.274</td> <td>    0.078</td>\n",
       "</tr>\n",
       "</table>\n",
       "<table class=\"simpletable\">\n",
       "<tr>\n",
       "  <th>Omnibus:</th>       <td>32.610</td> <th>  Durbin-Watson:     </th> <td>   1.848</td>\n",
       "</tr>\n",
       "<tr>\n",
       "  <th>Prob(Omnibus):</th> <td> 0.000</td> <th>  Jarque-Bera (JB):  </th> <td> 130.489</td>\n",
       "</tr>\n",
       "<tr>\n",
       "  <th>Skew:</th>          <td>-0.446</td> <th>  Prob(JB):          </th> <td>4.62e-29</td>\n",
       "</tr>\n",
       "<tr>\n",
       "  <th>Kurtosis:</th>      <td> 6.572</td> <th>  Cond. No.          </th> <td>    5.20</td>\n",
       "</tr>\n",
       "</table><br/><br/>Notes:<br/>[1] R² is computed without centering (uncentered) since the model does not contain a constant.<br/>[2] Standard Errors assume that the covariance matrix of the errors is correctly specified."
      ],
      "text/plain": [
       "<class 'statsmodels.iolib.summary.Summary'>\n",
       "\"\"\"\n",
       "                                 OLS Regression Results                                \n",
       "=======================================================================================\n",
       "Dep. Variable:         AAPL US Equity   R-squared (uncentered):                   0.343\n",
       "Model:                            OLS   Adj. R-squared (uncentered):              0.329\n",
       "Method:                 Least Squares   F-statistic:                              23.63\n",
       "Date:                Tue, 13 Jul 2021   Prob (F-statistic):                    4.37e-19\n",
       "Time:                        00:16:02   Log-Likelihood:                          206.97\n",
       "No. Observations:                 231   AIC:                                     -403.9\n",
       "Df Residuals:                     226   BIC:                                     -386.7\n",
       "Df Model:                           5                                                  \n",
       "Covariance Type:            nonrobust                                                  \n",
       "==================================================================================\n",
       "                     coef    std err          t      P>|t|      [0.025      0.975]\n",
       "----------------------------------------------------------------------------------\n",
       "SPY US Equity      1.5349      0.185      8.285      0.000       1.170       1.900\n",
       "CL1 Comdty         0.2297      0.079      2.892      0.004       0.073       0.386\n",
       "DXY Curncy         1.1449      0.320      3.576      0.000       0.514       1.776\n",
       "HFRIMTI Index      0.7743      0.311      2.487      0.014       0.161       1.388\n",
       "Rate Convexity    -0.0979      0.089     -1.096      0.274      -0.274       0.078\n",
       "==============================================================================\n",
       "Omnibus:                       32.610   Durbin-Watson:                   1.848\n",
       "Prob(Omnibus):                  0.000   Jarque-Bera (JB):              130.489\n",
       "Skew:                          -0.446   Prob(JB):                     4.62e-29\n",
       "Kurtosis:                       6.572   Cond. No.                         5.20\n",
       "==============================================================================\n",
       "\n",
       "Notes:\n",
       "[1] R² is computed without centering (uncentered) since the model does not contain a constant.\n",
       "[2] Standard Errors assume that the covariance matrix of the errors is correctly specified.\n",
       "\"\"\""
      ]
     },
     "execution_count": 16,
     "metadata": {},
     "output_type": "execute_result"
    }
   ],
   "source": [
    "X = returns_subset\n",
    "y = subset['AAPL US Equity']\n",
    "model4 = sm.OLS(y, X).fit()\n",
    "model4.summary()"
   ]
  },
  {
   "cell_type": "markdown",
   "id": "cb241253",
   "metadata": {},
   "source": [
    "All returns except \"Rate Convexity\" has absolute t-ratio greater than 2.\n",
    "\n",
    "Note that while we can estimate an R-squared, it doesn't make much sense in a regression without an intercept. (It does not need to be between 0 and 1.) This Python package does a good job reminding users of that fact."
   ]
  },
  {
   "cell_type": "markdown",
   "id": "4a6a6403",
   "metadata": {},
   "source": [
    "## 3.3"
   ]
  },
  {
   "cell_type": "code",
   "execution_count": 17,
   "id": "b4d76a13",
   "metadata": {
    "ExecuteTime": {
     "end_time": "2021-06-24T01:37:08.826712Z",
     "start_time": "2021-06-24T01:37:08.822348Z"
    }
   },
   "outputs": [
    {
     "data": {
      "text/plain": [
       "0.9133321873785296"
      ]
     },
     "execution_count": 17,
     "metadata": {},
     "output_type": "execute_result"
    }
   ],
   "source": [
    "fitted_ts = (model4.params * returns.loc[\"2019\", [\"SPY US Equity\", \"CL1 Comdty\", \"DXY Curncy\", \"HFRIMTI Index\", \"Rate Convexity\"]]).sum(axis=1)\n",
    "fitted_ts.corr(returns.loc[\"2019\",\"AAPL US Equity\"])"
   ]
  },
  {
   "cell_type": "markdown",
   "id": "098067bd",
   "metadata": {},
   "source": [
    "This is much higher than the in-sample R^2 above.\n",
    "\n",
    "This is likely due to luck in small samples. Typically we expect to see much lower fit out-of-sample."
   ]
  },
  {
   "cell_type": "markdown",
   "id": "44e403d4",
   "metadata": {},
   "source": [
    "# 4. Heteroskedasticity & Serial Correlation"
   ]
  },
  {
   "cell_type": "markdown",
   "id": "416f1674",
   "metadata": {},
   "source": [
    "## 4.1"
   ]
  },
  {
   "cell_type": "code",
   "execution_count": 18,
   "id": "e3451e29",
   "metadata": {
    "ExecuteTime": {
     "end_time": "2021-06-24T01:37:08.839179Z",
     "start_time": "2021-06-24T01:37:08.828711Z"
    }
   },
   "outputs": [
    {
     "data": {
      "text/html": [
       "<table class=\"simpletable\">\n",
       "<caption>OLS Regression Results</caption>\n",
       "<tr>\n",
       "  <th>Dep. Variable:</th>      <td>SPY US Equity</td>  <th>  R-squared:         </th> <td>   0.036</td>\n",
       "</tr>\n",
       "<tr>\n",
       "  <th>Model:</th>                   <td>OLS</td>       <th>  Adj. R-squared:    </th> <td>   0.028</td>\n",
       "</tr>\n",
       "<tr>\n",
       "  <th>Method:</th>             <td>Least Squares</td>  <th>  F-statistic:       </th> <td>   4.465</td>\n",
       "</tr>\n",
       "<tr>\n",
       "  <th>Date:</th>             <td>Tue, 13 Jul 2021</td> <th>  Prob (F-statistic):</th>  <td>0.0125</td> \n",
       "</tr>\n",
       "<tr>\n",
       "  <th>Time:</th>                 <td>00:16:02</td>     <th>  Log-Likelihood:    </th> <td>  423.48</td>\n",
       "</tr>\n",
       "<tr>\n",
       "  <th>No. Observations:</th>      <td>   239</td>      <th>  AIC:               </th> <td>  -841.0</td>\n",
       "</tr>\n",
       "<tr>\n",
       "  <th>Df Residuals:</th>          <td>   236</td>      <th>  BIC:               </th> <td>  -830.5</td>\n",
       "</tr>\n",
       "<tr>\n",
       "  <th>Df Model:</th>              <td>     2</td>      <th>                     </th>     <td> </td>   \n",
       "</tr>\n",
       "<tr>\n",
       "  <th>Covariance Type:</th>      <td>nonrobust</td>    <th>                     </th>     <td> </td>   \n",
       "</tr>\n",
       "</table>\n",
       "<table class=\"simpletable\">\n",
       "<tr>\n",
       "         <td></td>            <th>coef</th>     <th>std err</th>      <th>t</th>      <th>P>|t|</th>  <th>[0.025</th>    <th>0.975]</th>  \n",
       "</tr>\n",
       "<tr>\n",
       "  <th>const</th>           <td>    0.0741</td> <td>    0.023</td> <td>    3.191</td> <td> 0.002</td> <td>    0.028</td> <td>    0.120</td>\n",
       "</tr>\n",
       "<tr>\n",
       "  <th>10-yr Yields</th>    <td>   -0.7707</td> <td>    0.280</td> <td>   -2.754</td> <td> 0.006</td> <td>   -1.322</td> <td>   -0.219</td>\n",
       "</tr>\n",
       "<tr>\n",
       "  <th>Dvd-Price Ratio</th> <td>   -2.2646</td> <td>    0.849</td> <td>   -2.669</td> <td> 0.008</td> <td>   -3.936</td> <td>   -0.593</td>\n",
       "</tr>\n",
       "</table>\n",
       "<table class=\"simpletable\">\n",
       "<tr>\n",
       "  <th>Omnibus:</th>       <td> 6.566</td> <th>  Durbin-Watson:     </th> <td>   1.887</td>\n",
       "</tr>\n",
       "<tr>\n",
       "  <th>Prob(Omnibus):</th> <td> 0.038</td> <th>  Jarque-Bera (JB):  </th> <td>   6.427</td>\n",
       "</tr>\n",
       "<tr>\n",
       "  <th>Skew:</th>          <td>-0.333</td> <th>  Prob(JB):          </th> <td>  0.0402</td>\n",
       "</tr>\n",
       "<tr>\n",
       "  <th>Kurtosis:</th>      <td> 3.448</td> <th>  Cond. No.          </th> <td>    325.</td>\n",
       "</tr>\n",
       "</table><br/><br/>Notes:<br/>[1] Standard Errors assume that the covariance matrix of the errors is correctly specified."
      ],
      "text/plain": [
       "<class 'statsmodels.iolib.summary.Summary'>\n",
       "\"\"\"\n",
       "                            OLS Regression Results                            \n",
       "==============================================================================\n",
       "Dep. Variable:          SPY US Equity   R-squared:                       0.036\n",
       "Model:                            OLS   Adj. R-squared:                  0.028\n",
       "Method:                 Least Squares   F-statistic:                     4.465\n",
       "Date:                Tue, 13 Jul 2021   Prob (F-statistic):             0.0125\n",
       "Time:                        00:16:02   Log-Likelihood:                 423.48\n",
       "No. Observations:                 239   AIC:                            -841.0\n",
       "Df Residuals:                     236   BIC:                            -830.5\n",
       "Df Model:                           2                                         \n",
       "Covariance Type:            nonrobust                                         \n",
       "===================================================================================\n",
       "                      coef    std err          t      P>|t|      [0.025      0.975]\n",
       "-----------------------------------------------------------------------------------\n",
       "const               0.0741      0.023      3.191      0.002       0.028       0.120\n",
       "10-yr Yields       -0.7707      0.280     -2.754      0.006      -1.322      -0.219\n",
       "Dvd-Price Ratio    -2.2646      0.849     -2.669      0.008      -3.936      -0.593\n",
       "==============================================================================\n",
       "Omnibus:                        6.566   Durbin-Watson:                   1.887\n",
       "Prob(Omnibus):                  0.038   Jarque-Bera (JB):                6.427\n",
       "Skew:                          -0.333   Prob(JB):                       0.0402\n",
       "Kurtosis:                       3.448   Cond. No.                         325.\n",
       "==============================================================================\n",
       "\n",
       "Notes:\n",
       "[1] Standard Errors assume that the covariance matrix of the errors is correctly specified.\n",
       "\"\"\""
      ]
     },
     "execution_count": 18,
     "metadata": {},
     "output_type": "execute_result"
    }
   ],
   "source": [
    "X = sm.add_constant(data[[\"10-yr Yields\", \"Dvd-Price Ratio\"]])\n",
    "y = data[\"SPY US Equity\"]\n",
    "model5 = sm.OLS(y, X).fit()\n",
    "model5.summary()"
   ]
  },
  {
   "cell_type": "markdown",
   "id": "16fb879f",
   "metadata": {},
   "source": [
    "With t-ratios of -2.754 and -2.669, both regressors are statistically significant."
   ]
  },
  {
   "cell_type": "markdown",
   "id": "fb1a888b",
   "metadata": {},
   "source": [
    "## 4.2"
   ]
  },
  {
   "cell_type": "code",
   "execution_count": 19,
   "id": "bbb9ee68",
   "metadata": {
    "ExecuteTime": {
     "end_time": "2021-06-24T01:37:08.842633Z",
     "start_time": "2021-06-24T01:37:08.839914Z"
    }
   },
   "outputs": [
    {
     "data": {
      "text/plain": [
       "0.05089259162593064"
      ]
     },
     "execution_count": 19,
     "metadata": {},
     "output_type": "execute_result"
    }
   ],
   "source": [
    "model5.resid.corr(model5.resid.shift(1))"
   ]
  },
  {
   "cell_type": "markdown",
   "id": "66df994b",
   "metadata": {},
   "source": [
    "The correlation is roughly 5%, which is not a large correlation."
   ]
  },
  {
   "cell_type": "markdown",
   "id": "76fe594c",
   "metadata": {},
   "source": [
    "## 4.3"
   ]
  },
  {
   "cell_type": "code",
   "execution_count": 20,
   "id": "259d205f",
   "metadata": {
    "ExecuteTime": {
     "end_time": "2021-06-24T01:37:08.852753Z",
     "start_time": "2021-06-24T01:37:08.843387Z"
    }
   },
   "outputs": [
    {
     "data": {
      "text/html": [
       "<table class=\"simpletable\">\n",
       "<caption>OLS Regression Results</caption>\n",
       "<tr>\n",
       "  <th>Dep. Variable:</th>            <td>y</td>        <th>  R-squared:         </th> <td>   0.065</td>\n",
       "</tr>\n",
       "<tr>\n",
       "  <th>Model:</th>                   <td>OLS</td>       <th>  Adj. R-squared:    </th> <td>   0.057</td>\n",
       "</tr>\n",
       "<tr>\n",
       "  <th>Method:</th>             <td>Least Squares</td>  <th>  F-statistic:       </th> <td>   8.172</td>\n",
       "</tr>\n",
       "<tr>\n",
       "  <th>Date:</th>             <td>Tue, 13 Jul 2021</td> <th>  Prob (F-statistic):</th> <td>0.000370</td>\n",
       "</tr>\n",
       "<tr>\n",
       "  <th>Time:</th>                 <td>00:16:02</td>     <th>  Log-Likelihood:    </th> <td>  1087.1</td>\n",
       "</tr>\n",
       "<tr>\n",
       "  <th>No. Observations:</th>      <td>   239</td>      <th>  AIC:               </th> <td>  -2168.</td>\n",
       "</tr>\n",
       "<tr>\n",
       "  <th>Df Residuals:</th>          <td>   236</td>      <th>  BIC:               </th> <td>  -2158.</td>\n",
       "</tr>\n",
       "<tr>\n",
       "  <th>Df Model:</th>              <td>     2</td>      <th>                     </th>     <td> </td>   \n",
       "</tr>\n",
       "<tr>\n",
       "  <th>Covariance Type:</th>      <td>nonrobust</td>    <th>                     </th>     <td> </td>   \n",
       "</tr>\n",
       "</table>\n",
       "<table class=\"simpletable\">\n",
       "<tr>\n",
       "         <td></td>            <th>coef</th>     <th>std err</th>      <th>t</th>      <th>P>|t|</th>  <th>[0.025</th>    <th>0.975]</th>  \n",
       "</tr>\n",
       "<tr>\n",
       "  <th>const</th>           <td>   -0.0041</td> <td>    0.001</td> <td>   -2.840</td> <td> 0.005</td> <td>   -0.007</td> <td>   -0.001</td>\n",
       "</tr>\n",
       "<tr>\n",
       "  <th>10-yr Yields</th>    <td>    0.0586</td> <td>    0.017</td> <td>    3.367</td> <td> 0.001</td> <td>    0.024</td> <td>    0.093</td>\n",
       "</tr>\n",
       "<tr>\n",
       "  <th>Dvd-Price Ratio</th> <td>    0.2053</td> <td>    0.053</td> <td>    3.887</td> <td> 0.000</td> <td>    0.101</td> <td>    0.309</td>\n",
       "</tr>\n",
       "</table>\n",
       "<table class=\"simpletable\">\n",
       "<tr>\n",
       "  <th>Omnibus:</th>       <td>150.121</td> <th>  Durbin-Watson:     </th> <td>   1.572</td> \n",
       "</tr>\n",
       "<tr>\n",
       "  <th>Prob(Omnibus):</th> <td> 0.000</td>  <th>  Jarque-Bera (JB):  </th> <td>1029.503</td> \n",
       "</tr>\n",
       "<tr>\n",
       "  <th>Skew:</th>          <td> 2.511</td>  <th>  Prob(JB):          </th> <td>2.79e-224</td>\n",
       "</tr>\n",
       "<tr>\n",
       "  <th>Kurtosis:</th>      <td>11.841</td>  <th>  Cond. No.          </th> <td>    325.</td> \n",
       "</tr>\n",
       "</table><br/><br/>Notes:<br/>[1] Standard Errors assume that the covariance matrix of the errors is correctly specified."
      ],
      "text/plain": [
       "<class 'statsmodels.iolib.summary.Summary'>\n",
       "\"\"\"\n",
       "                            OLS Regression Results                            \n",
       "==============================================================================\n",
       "Dep. Variable:                      y   R-squared:                       0.065\n",
       "Model:                            OLS   Adj. R-squared:                  0.057\n",
       "Method:                 Least Squares   F-statistic:                     8.172\n",
       "Date:                Tue, 13 Jul 2021   Prob (F-statistic):           0.000370\n",
       "Time:                        00:16:02   Log-Likelihood:                 1087.1\n",
       "No. Observations:                 239   AIC:                            -2168.\n",
       "Df Residuals:                     236   BIC:                            -2158.\n",
       "Df Model:                           2                                         \n",
       "Covariance Type:            nonrobust                                         \n",
       "===================================================================================\n",
       "                      coef    std err          t      P>|t|      [0.025      0.975]\n",
       "-----------------------------------------------------------------------------------\n",
       "const              -0.0041      0.001     -2.840      0.005      -0.007      -0.001\n",
       "10-yr Yields        0.0586      0.017      3.367      0.001       0.024       0.093\n",
       "Dvd-Price Ratio     0.2053      0.053      3.887      0.000       0.101       0.309\n",
       "==============================================================================\n",
       "Omnibus:                      150.121   Durbin-Watson:                   1.572\n",
       "Prob(Omnibus):                  0.000   Jarque-Bera (JB):             1029.503\n",
       "Skew:                           2.511   Prob(JB):                    2.79e-224\n",
       "Kurtosis:                      11.841   Cond. No.                         325.\n",
       "==============================================================================\n",
       "\n",
       "Notes:\n",
       "[1] Standard Errors assume that the covariance matrix of the errors is correctly specified.\n",
       "\"\"\""
      ]
     },
     "execution_count": 20,
     "metadata": {},
     "output_type": "execute_result"
    }
   ],
   "source": [
    "y = model5.resid\n",
    "model6 = sm.OLS(y**2, X).fit()\n",
    "model6.summary()"
   ]
  },
  {
   "cell_type": "code",
   "execution_count": 21,
   "id": "e80c7cb2",
   "metadata": {},
   "outputs": [
    {
     "name": "stdout",
     "output_type": "stream",
     "text": [
      "White-test for Heteroskedasticity p-value is 0.0003\n"
     ]
    }
   ],
   "source": [
    "lm, pval, _, _ = sm.stats.diagnostic.het_white(model5.resid,X)\n",
    "print(f'White-test for Heteroskedasticity p-value is {pval:.4f}')"
   ]
  },
  {
   "cell_type": "code",
   "execution_count": 22,
   "id": "a8ad0cdb",
   "metadata": {},
   "outputs": [
    {
     "data": {
      "text/html": [
       "<table class=\"simpletable\">\n",
       "<caption>OLS Regression Results</caption>\n",
       "<tr>\n",
       "  <th>Dep. Variable:</th>      <td>SPY US Equity</td>  <th>  R-squared:         </th> <td>   0.036</td>\n",
       "</tr>\n",
       "<tr>\n",
       "  <th>Model:</th>                   <td>OLS</td>       <th>  Adj. R-squared:    </th> <td>   0.028</td>\n",
       "</tr>\n",
       "<tr>\n",
       "  <th>Method:</th>             <td>Least Squares</td>  <th>  F-statistic:       </th> <td>   3.183</td>\n",
       "</tr>\n",
       "<tr>\n",
       "  <th>Date:</th>             <td>Tue, 13 Jul 2021</td> <th>  Prob (F-statistic):</th>  <td>0.0433</td> \n",
       "</tr>\n",
       "<tr>\n",
       "  <th>Time:</th>                 <td>00:16:02</td>     <th>  Log-Likelihood:    </th> <td>  423.48</td>\n",
       "</tr>\n",
       "<tr>\n",
       "  <th>No. Observations:</th>      <td>   239</td>      <th>  AIC:               </th> <td>  -841.0</td>\n",
       "</tr>\n",
       "<tr>\n",
       "  <th>Df Residuals:</th>          <td>   236</td>      <th>  BIC:               </th> <td>  -830.5</td>\n",
       "</tr>\n",
       "<tr>\n",
       "  <th>Df Model:</th>              <td>     2</td>      <th>                     </th>     <td> </td>   \n",
       "</tr>\n",
       "<tr>\n",
       "  <th>Covariance Type:</th>         <td>HC0</td>       <th>                     </th>     <td> </td>   \n",
       "</tr>\n",
       "</table>\n",
       "<table class=\"simpletable\">\n",
       "<tr>\n",
       "         <td></td>            <th>coef</th>     <th>std err</th>      <th>z</th>      <th>P>|z|</th>  <th>[0.025</th>    <th>0.975]</th>  \n",
       "</tr>\n",
       "<tr>\n",
       "  <th>const</th>           <td>    0.0741</td> <td>    0.030</td> <td>    2.461</td> <td> 0.014</td> <td>    0.015</td> <td>    0.133</td>\n",
       "</tr>\n",
       "<tr>\n",
       "  <th>10-yr Yields</th>    <td>   -0.7707</td> <td>    0.305</td> <td>   -2.523</td> <td> 0.012</td> <td>   -1.370</td> <td>   -0.172</td>\n",
       "</tr>\n",
       "<tr>\n",
       "  <th>Dvd-Price Ratio</th> <td>   -2.2646</td> <td>    1.202</td> <td>   -1.885</td> <td> 0.059</td> <td>   -4.620</td> <td>    0.090</td>\n",
       "</tr>\n",
       "</table>\n",
       "<table class=\"simpletable\">\n",
       "<tr>\n",
       "  <th>Omnibus:</th>       <td> 6.566</td> <th>  Durbin-Watson:     </th> <td>   1.887</td>\n",
       "</tr>\n",
       "<tr>\n",
       "  <th>Prob(Omnibus):</th> <td> 0.038</td> <th>  Jarque-Bera (JB):  </th> <td>   6.427</td>\n",
       "</tr>\n",
       "<tr>\n",
       "  <th>Skew:</th>          <td>-0.333</td> <th>  Prob(JB):          </th> <td>  0.0402</td>\n",
       "</tr>\n",
       "<tr>\n",
       "  <th>Kurtosis:</th>      <td> 3.448</td> <th>  Cond. No.          </th> <td>    325.</td>\n",
       "</tr>\n",
       "</table><br/><br/>Notes:<br/>[1] Standard Errors are heteroscedasticity robust (HC0)"
      ],
      "text/plain": [
       "<class 'statsmodels.iolib.summary.Summary'>\n",
       "\"\"\"\n",
       "                            OLS Regression Results                            \n",
       "==============================================================================\n",
       "Dep. Variable:          SPY US Equity   R-squared:                       0.036\n",
       "Model:                            OLS   Adj. R-squared:                  0.028\n",
       "Method:                 Least Squares   F-statistic:                     3.183\n",
       "Date:                Tue, 13 Jul 2021   Prob (F-statistic):             0.0433\n",
       "Time:                        00:16:02   Log-Likelihood:                 423.48\n",
       "No. Observations:                 239   AIC:                            -841.0\n",
       "Df Residuals:                     236   BIC:                            -830.5\n",
       "Df Model:                           2                                         \n",
       "Covariance Type:                  HC0                                         \n",
       "===================================================================================\n",
       "                      coef    std err          z      P>|z|      [0.025      0.975]\n",
       "-----------------------------------------------------------------------------------\n",
       "const               0.0741      0.030      2.461      0.014       0.015       0.133\n",
       "10-yr Yields       -0.7707      0.305     -2.523      0.012      -1.370      -0.172\n",
       "Dvd-Price Ratio    -2.2646      1.202     -1.885      0.059      -4.620       0.090\n",
       "==============================================================================\n",
       "Omnibus:                        6.566   Durbin-Watson:                   1.887\n",
       "Prob(Omnibus):                  0.038   Jarque-Bera (JB):                6.427\n",
       "Skew:                          -0.333   Prob(JB):                       0.0402\n",
       "Kurtosis:                       3.448   Cond. No.                         325.\n",
       "==============================================================================\n",
       "\n",
       "Notes:\n",
       "[1] Standard Errors are heteroscedasticity robust (HC0)\n",
       "\"\"\""
      ]
     },
     "execution_count": 22,
     "metadata": {},
     "output_type": "execute_result"
    }
   ],
   "source": [
    "X = sm.add_constant(data[[\"10-yr Yields\", \"Dvd-Price Ratio\"]])\n",
    "y = data[\"SPY US Equity\"]\n",
    "model_robust = sm.OLS(y, X).fit(cov_type = 'HC0')\n",
    "model_robust.summary()"
   ]
  },
  {
   "cell_type": "markdown",
   "id": "fe368a8c",
   "metadata": {},
   "source": [
    "## 4.4"
   ]
  },
  {
   "cell_type": "markdown",
   "id": "1ab9e5bf",
   "metadata": {},
   "source": [
    "- 4.2 checked the lag-1 autocorrelation, which indicates there is no significant serial correlation in the sample residuals. While that does not guarantee whether there is serial correlation in the population residuals, we take it as evidence that it is not a big concern.\n",
    "\n",
    "- 4.3 checked heteroskedasticity. If there were strong heteroskedasticity in the residuals, it means that the residuals vary over time, and potentially with variation in X. If the betas are significant, we have heteroskedasticity. If they are not significant, then we may still have heteroskedasticy, but not explained by the regressors squared. In the regression above, we see the sample residuals squared vary significantly with SPY, which is evidence that the residual variance changes, and thus evidence that the data is heteroskedastic."
   ]
  },
  {
   "cell_type": "markdown",
   "id": "ad499142",
   "metadata": {},
   "source": [
    "## 4.5\n",
    "\n",
    "Above, we see a Durbin-Watson statistic reported in the regression of eqution (5), in 4.1. The Durbin-Watson stat is telling us whether there is statistically significant serial correlation. The null hypothesis is that the DW stat = 2 if no serial correlation. Our DW stat is very near 2, and not statistically significant--meaning we do not have evidence to reject the null of NO serial correlation."
   ]
  },
  {
   "cell_type": "code",
   "execution_count": 23,
   "id": "7e5dbf08",
   "metadata": {
    "ExecuteTime": {
     "end_time": "2021-06-24T01:37:08.921807Z",
     "start_time": "2021-06-24T01:37:08.853560Z"
    }
   },
   "outputs": [
    {
     "data": {
      "image/png": "[encoded data removed]",
      "text/plain": [
       "<Figure size 432x288 with 1 Axes>"
      ]
     },
     "metadata": {},
     "output_type": "display_data"
    }
   ],
   "source": [
    "plot_acf(model5.resid, lags=15)\n",
    "plt.show()"
   ]
  },
  {
   "cell_type": "code",
   "execution_count": 24,
   "id": "ca3eae15",
   "metadata": {
    "ExecuteTime": {
     "end_time": "2021-06-24T01:37:09.068906Z",
     "start_time": "2021-06-24T01:37:08.925500Z"
    }
   },
   "outputs": [
    {
     "data": {
      "image/png": "[encoded data removed]",
      "text/plain": [
       "<Figure size 1080x576 with 1 Axes>"
      ]
     },
     "metadata": {},
     "output_type": "display_data"
    }
   ],
   "source": [
    "figure(figsize=(15, 8))\n",
    "plt.plot(model5.resid)\n",
    "plt.title(\"Residuals\")\n",
    "plt.show()"
   ]
  },
  {
   "cell_type": "markdown",
   "id": "760aa16f",
   "metadata": {},
   "source": [
    "The ACF plot confirms that there is no significant autocorrelation within 15 lags. The residuals plot shows the residual is reasonably homoskedastic."
   ]
  }
 ],
 "metadata": {
  "kernelspec": {
   "display_name": "Python 3",
   "language": "python",
   "name": "python3"
  },
  "language_info": {
   "codemirror_mode": {
    "name": "ipython",
    "version": 3
   },
   "file_extension": ".py",
   "mimetype": "text/x-python",
   "name": "python",
   "nbconvert_exporter": "python",
   "pygments_lexer": "ipython3",
   "version": "3.8.2"
  },
  "toc": {
   "base_numbering": 1,
   "nav_menu": {},
   "number_sections": true,
   "sideBar": true,
   "skip_h1_title": false,
   "title_cell": "Table of Contents",
   "title_sidebar": "Contents",
   "toc_cell": false,
   "toc_position": {},
   "toc_section_display": true,
   "toc_window_display": false
  },
  "varInspector": {
   "cols": {
    "lenName": 16,
    "lenType": 16,
    "lenVar": 40
   },
   "kernels_config": {
    "python": {
     "delete_cmd_postfix": "",
     "delete_cmd_prefix": "del ",
     "library": "var_list.py",
     "varRefreshCmd": "print(var_dic_list())"
    },
    "r": {
     "delete_cmd_postfix": ") ",
     "delete_cmd_prefix": "rm(",
     "library": "var_list.r",
     "varRefreshCmd": "cat(var_dic_list()) "
    }
   },
   "types_to_exclude": [
    "module",
    "function",
    "builtin_function_or_method",
    "instance",
    "_Feature"
   ],
   "window_display": false
  }
 },
 "nbformat": 4,
 "nbformat_minor": 5
}
