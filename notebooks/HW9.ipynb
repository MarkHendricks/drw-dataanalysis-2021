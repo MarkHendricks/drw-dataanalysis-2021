{
 "cells": [
  {
   "cell_type": "code",
   "execution_count": 1,
   "id": "34261b5c",
   "metadata": {
    "ExecuteTime": {
     "end_time": "2021-07-08T21:24:44.225606Z",
     "start_time": "2021-07-08T21:24:44.212514Z"
    }
   },
   "outputs": [],
   "source": [
    "import pandas as pd\n",
    "import numpy as np\n",
    "import statsmodels.api as sm\n",
    "from sklearn.linear_model import LinearRegression, Lasso, Ridge, LassoCV, RidgeCV\n",
    "from sklearn.cross_decomposition import PLSRegression\n",
    "from numpy.linalg import svd\n",
    "import matplotlib.pyplot as plt\n",
    "import seaborn as sns\n",
    "sns.set()"
   ]
  },
  {
   "cell_type": "code",
   "execution_count": 2,
   "id": "dbfa9b39",
   "metadata": {
    "ExecuteTime": {
     "end_time": "2021-07-08T21:24:44.293637Z",
     "start_time": "2021-07-08T21:24:44.228662Z"
    }
   },
   "outputs": [
    {
     "data": {
      "text/html": [
       "<div>\n",
       "<style scoped>\n",
       "    .dataframe tbody tr th:only-of-type {\n",
       "        vertical-align: middle;\n",
       "    }\n",
       "\n",
       "    .dataframe tbody tr th {\n",
       "        vertical-align: top;\n",
       "    }\n",
       "\n",
       "    .dataframe thead th {\n",
       "        text-align: right;\n",
       "    }\n",
       "</style>\n",
       "<table border=\"1\" class=\"dataframe\">\n",
       "  <thead>\n",
       "    <tr style=\"text-align: right;\">\n",
       "      <th></th>\n",
       "      <th>AAPL</th>\n",
       "      <th>AMZN</th>\n",
       "      <th>BA</th>\n",
       "      <th>BAC</th>\n",
       "      <th>C</th>\n",
       "      <th>CVX</th>\n",
       "      <th>DUK</th>\n",
       "      <th>EOG</th>\n",
       "      <th>FB</th>\n",
       "      <th>GS</th>\n",
       "      <th>...</th>\n",
       "      <th>MSFT</th>\n",
       "      <th>NEE</th>\n",
       "      <th>PFE</th>\n",
       "      <th>SHV</th>\n",
       "      <th>SPY</th>\n",
       "      <th>TMO</th>\n",
       "      <th>UNH</th>\n",
       "      <th>UPS</th>\n",
       "      <th>V</th>\n",
       "      <th>XOM</th>\n",
       "    </tr>\n",
       "    <tr>\n",
       "      <th>Date</th>\n",
       "      <th></th>\n",
       "      <th></th>\n",
       "      <th></th>\n",
       "      <th></th>\n",
       "      <th></th>\n",
       "      <th></th>\n",
       "      <th></th>\n",
       "      <th></th>\n",
       "      <th></th>\n",
       "      <th></th>\n",
       "      <th></th>\n",
       "      <th></th>\n",
       "      <th></th>\n",
       "      <th></th>\n",
       "      <th></th>\n",
       "      <th></th>\n",
       "      <th></th>\n",
       "      <th></th>\n",
       "      <th></th>\n",
       "      <th></th>\n",
       "      <th></th>\n",
       "    </tr>\n",
       "  </thead>\n",
       "  <tbody>\n",
       "    <tr>\n",
       "      <th>2012-07-31</th>\n",
       "      <td>0.045822</td>\n",
       "      <td>0.021677</td>\n",
       "      <td>-0.005249</td>\n",
       "      <td>-0.102690</td>\n",
       "      <td>-0.010215</td>\n",
       "      <td>0.038673</td>\n",
       "      <td>-0.020237</td>\n",
       "      <td>0.089705</td>\n",
       "      <td>-0.301929</td>\n",
       "      <td>0.052576</td>\n",
       "      <td>...</td>\n",
       "      <td>-0.036613</td>\n",
       "      <td>0.030373</td>\n",
       "      <td>0.045217</td>\n",
       "      <td>0.000000</td>\n",
       "      <td>0.011829</td>\n",
       "      <td>0.072433</td>\n",
       "      <td>-0.126667</td>\n",
       "      <td>-0.039995</td>\n",
       "      <td>0.044002</td>\n",
       "      <td>0.014959</td>\n",
       "    </tr>\n",
       "    <tr>\n",
       "      <th>2012-08-31</th>\n",
       "      <td>0.093877</td>\n",
       "      <td>0.064166</td>\n",
       "      <td>-0.028167</td>\n",
       "      <td>0.088556</td>\n",
       "      <td>0.095507</td>\n",
       "      <td>0.031739</td>\n",
       "      <td>-0.033419</td>\n",
       "      <td>0.104989</td>\n",
       "      <td>-0.168125</td>\n",
       "      <td>0.052375</td>\n",
       "      <td>...</td>\n",
       "      <td>0.052738</td>\n",
       "      <td>-0.042232</td>\n",
       "      <td>0.001679</td>\n",
       "      <td>0.000181</td>\n",
       "      <td>0.025053</td>\n",
       "      <td>0.030178</td>\n",
       "      <td>0.062831</td>\n",
       "      <td>-0.016486</td>\n",
       "      <td>-0.004667</td>\n",
       "      <td>0.011714</td>\n",
       "    </tr>\n",
       "    <tr>\n",
       "      <th>2012-09-30</th>\n",
       "      <td>0.002796</td>\n",
       "      <td>0.024369</td>\n",
       "      <td>-0.025210</td>\n",
       "      <td>0.106515</td>\n",
       "      <td>0.101313</td>\n",
       "      <td>0.039229</td>\n",
       "      <td>0.000154</td>\n",
       "      <td>0.034626</td>\n",
       "      <td>0.199336</td>\n",
       "      <td>0.075293</td>\n",
       "      <td>...</td>\n",
       "      <td>-0.034394</td>\n",
       "      <td>0.044867</td>\n",
       "      <td>0.041492</td>\n",
       "      <td>-0.000081</td>\n",
       "      <td>0.025351</td>\n",
       "      <td>0.028059</td>\n",
       "      <td>0.024575</td>\n",
       "      <td>-0.030348</td>\n",
       "      <td>0.047018</td>\n",
       "      <td>0.047537</td>\n",
       "    </tr>\n",
       "    <tr>\n",
       "      <th>2012-10-31</th>\n",
       "      <td>-0.107600</td>\n",
       "      <td>-0.084264</td>\n",
       "      <td>0.012069</td>\n",
       "      <td>0.055493</td>\n",
       "      <td>0.142726</td>\n",
       "      <td>-0.054221</td>\n",
       "      <td>0.013891</td>\n",
       "      <td>0.041252</td>\n",
       "      <td>-0.025392</td>\n",
       "      <td>0.076619</td>\n",
       "      <td>...</td>\n",
       "      <td>-0.040994</td>\n",
       "      <td>-0.003839</td>\n",
       "      <td>0.000805</td>\n",
       "      <td>-0.000073</td>\n",
       "      <td>-0.018199</td>\n",
       "      <td>0.037906</td>\n",
       "      <td>0.010648</td>\n",
       "      <td>0.023474</td>\n",
       "      <td>0.033363</td>\n",
       "      <td>-0.003062</td>\n",
       "    </tr>\n",
       "    <tr>\n",
       "      <th>2012-11-30</th>\n",
       "      <td>-0.012374</td>\n",
       "      <td>0.082271</td>\n",
       "      <td>0.060996</td>\n",
       "      <td>0.057940</td>\n",
       "      <td>-0.075174</td>\n",
       "      <td>-0.033007</td>\n",
       "      <td>-0.016332</td>\n",
       "      <td>0.009700</td>\n",
       "      <td>0.326386</td>\n",
       "      <td>-0.033504</td>\n",
       "      <td>...</td>\n",
       "      <td>-0.059609</td>\n",
       "      <td>-0.010515</td>\n",
       "      <td>0.015068</td>\n",
       "      <td>0.000091</td>\n",
       "      <td>0.005660</td>\n",
       "      <td>0.040780</td>\n",
       "      <td>-0.028750</td>\n",
       "      <td>0.006248</td>\n",
       "      <td>0.081419</td>\n",
       "      <td>-0.027182</td>\n",
       "    </tr>\n",
       "  </tbody>\n",
       "</table>\n",
       "<p>5 rows × 24 columns</p>\n",
       "</div>"
      ],
      "text/plain": [
       "                AAPL      AMZN        BA       BAC         C       CVX  \\\n",
       "Date                                                                     \n",
       "2012-07-31  0.045822  0.021677 -0.005249 -0.102690 -0.010215  0.038673   \n",
       "2012-08-31  0.093877  0.064166 -0.028167  0.088556  0.095507  0.031739   \n",
       "2012-09-30  0.002796  0.024369 -0.025210  0.106515  0.101313  0.039229   \n",
       "2012-10-31 -0.107600 -0.084264  0.012069  0.055493  0.142726 -0.054221   \n",
       "2012-11-30 -0.012374  0.082271  0.060996  0.057940 -0.075174 -0.033007   \n",
       "\n",
       "                 DUK       EOG        FB        GS  ...      MSFT       NEE  \\\n",
       "Date                                                ...                       \n",
       "2012-07-31 -0.020237  0.089705 -0.301929  0.052576  ... -0.036613  0.030373   \n",
       "2012-08-31 -0.033419  0.104989 -0.168125  0.052375  ...  0.052738 -0.042232   \n",
       "2012-09-30  0.000154  0.034626  0.199336  0.075293  ... -0.034394  0.044867   \n",
       "2012-10-31  0.013891  0.041252 -0.025392  0.076619  ... -0.040994 -0.003839   \n",
       "2012-11-30 -0.016332  0.009700  0.326386 -0.033504  ... -0.059609 -0.010515   \n",
       "\n",
       "                 PFE       SHV       SPY       TMO       UNH       UPS  \\\n",
       "Date                                                                     \n",
       "2012-07-31  0.045217  0.000000  0.011829  0.072433 -0.126667 -0.039995   \n",
       "2012-08-31  0.001679  0.000181  0.025053  0.030178  0.062831 -0.016486   \n",
       "2012-09-30  0.041492 -0.000081  0.025351  0.028059  0.024575 -0.030348   \n",
       "2012-10-31  0.000805 -0.000073 -0.018199  0.037906  0.010648  0.023474   \n",
       "2012-11-30  0.015068  0.000091  0.005660  0.040780 -0.028750  0.006248   \n",
       "\n",
       "                   V       XOM  \n",
       "Date                            \n",
       "2012-07-31  0.044002  0.014959  \n",
       "2012-08-31 -0.004667  0.011714  \n",
       "2012-09-30  0.047018  0.047537  \n",
       "2012-10-31  0.033363 -0.003062  \n",
       "2012-11-30  0.081419 -0.027182  \n",
       "\n",
       "[5 rows x 24 columns]"
      ]
     },
     "execution_count": 2,
     "metadata": {},
     "output_type": "execute_result"
    }
   ],
   "source": [
    "data = pd.read_excel(\"single_name_return_data.xlsx\", sheet_name=\"total returns\").set_index(\"Date\")\n",
    "data.head(5)"
   ]
  },
  {
   "cell_type": "markdown",
   "id": "9d7fb6eb",
   "metadata": {},
   "source": [
    "# 1 Penalized Regression"
   ]
  },
  {
   "cell_type": "markdown",
   "id": "d7a4d81e",
   "metadata": {},
   "source": [
    "## 1"
   ]
  },
  {
   "cell_type": "markdown",
   "id": "47c91ef2",
   "metadata": {},
   "source": [
    "### a)"
   ]
  },
  {
   "cell_type": "code",
   "execution_count": 3,
   "id": "1d42f120",
   "metadata": {
    "ExecuteTime": {
     "end_time": "2021-07-08T21:24:44.303899Z",
     "start_time": "2021-07-08T21:24:44.296020Z"
    }
   },
   "outputs": [],
   "source": [
    "y = data['PFE']\n",
    "X = data.drop(columns=['PFE'])\n",
    "model_ols = LinearRegression().fit(X,y)"
   ]
  },
  {
   "cell_type": "code",
   "execution_count": 4,
   "id": "c080a1ff",
   "metadata": {
    "ExecuteTime": {
     "end_time": "2021-07-08T21:24:44.311762Z",
     "start_time": "2021-07-08T21:24:44.305243Z"
    }
   },
   "outputs": [
    {
     "data": {
      "text/html": [
       "<div>\n",
       "<style scoped>\n",
       "    .dataframe tbody tr th:only-of-type {\n",
       "        vertical-align: middle;\n",
       "    }\n",
       "\n",
       "    .dataframe tbody tr th {\n",
       "        vertical-align: top;\n",
       "    }\n",
       "\n",
       "    .dataframe thead th {\n",
       "        text-align: right;\n",
       "    }\n",
       "</style>\n",
       "<table border=\"1\" class=\"dataframe\">\n",
       "  <thead>\n",
       "    <tr style=\"text-align: right;\">\n",
       "      <th></th>\n",
       "      <th>Intercept</th>\n",
       "      <th>Beta</th>\n",
       "    </tr>\n",
       "  </thead>\n",
       "  <tbody>\n",
       "    <tr>\n",
       "      <th>AAPL</th>\n",
       "      <td>0.001435</td>\n",
       "      <td>-0.090211</td>\n",
       "    </tr>\n",
       "    <tr>\n",
       "      <th>AMZN</th>\n",
       "      <td>0.001435</td>\n",
       "      <td>0.085638</td>\n",
       "    </tr>\n",
       "    <tr>\n",
       "      <th>BA</th>\n",
       "      <td>0.001435</td>\n",
       "      <td>-0.097980</td>\n",
       "    </tr>\n",
       "    <tr>\n",
       "      <th>BAC</th>\n",
       "      <td>0.001435</td>\n",
       "      <td>0.063022</td>\n",
       "    </tr>\n",
       "    <tr>\n",
       "      <th>C</th>\n",
       "      <td>0.001435</td>\n",
       "      <td>-0.013769</td>\n",
       "    </tr>\n",
       "    <tr>\n",
       "      <th>CVX</th>\n",
       "      <td>0.001435</td>\n",
       "      <td>0.275373</td>\n",
       "    </tr>\n",
       "    <tr>\n",
       "      <th>DUK</th>\n",
       "      <td>0.001435</td>\n",
       "      <td>-0.022501</td>\n",
       "    </tr>\n",
       "    <tr>\n",
       "      <th>EOG</th>\n",
       "      <td>0.001435</td>\n",
       "      <td>-0.055048</td>\n",
       "    </tr>\n",
       "    <tr>\n",
       "      <th>FB</th>\n",
       "      <td>0.001435</td>\n",
       "      <td>-0.058740</td>\n",
       "    </tr>\n",
       "    <tr>\n",
       "      <th>GS</th>\n",
       "      <td>0.001435</td>\n",
       "      <td>-0.169621</td>\n",
       "    </tr>\n",
       "    <tr>\n",
       "      <th>HON</th>\n",
       "      <td>0.001435</td>\n",
       "      <td>-0.003581</td>\n",
       "    </tr>\n",
       "    <tr>\n",
       "      <th>JNJ</th>\n",
       "      <td>0.001435</td>\n",
       "      <td>0.408252</td>\n",
       "    </tr>\n",
       "    <tr>\n",
       "      <th>JPM</th>\n",
       "      <td>0.001435</td>\n",
       "      <td>0.110372</td>\n",
       "    </tr>\n",
       "    <tr>\n",
       "      <th>MS</th>\n",
       "      <td>0.001435</td>\n",
       "      <td>-0.044108</td>\n",
       "    </tr>\n",
       "    <tr>\n",
       "      <th>MSFT</th>\n",
       "      <td>0.001435</td>\n",
       "      <td>-0.303362</td>\n",
       "    </tr>\n",
       "    <tr>\n",
       "      <th>NEE</th>\n",
       "      <td>0.001435</td>\n",
       "      <td>0.013163</td>\n",
       "    </tr>\n",
       "    <tr>\n",
       "      <th>SHV</th>\n",
       "      <td>0.001435</td>\n",
       "      <td>-5.954589</td>\n",
       "    </tr>\n",
       "    <tr>\n",
       "      <th>SPY</th>\n",
       "      <td>0.001435</td>\n",
       "      <td>0.869191</td>\n",
       "    </tr>\n",
       "    <tr>\n",
       "      <th>TMO</th>\n",
       "      <td>0.001435</td>\n",
       "      <td>0.133241</td>\n",
       "    </tr>\n",
       "    <tr>\n",
       "      <th>UNH</th>\n",
       "      <td>0.001435</td>\n",
       "      <td>0.085091</td>\n",
       "    </tr>\n",
       "    <tr>\n",
       "      <th>UPS</th>\n",
       "      <td>0.001435</td>\n",
       "      <td>-0.015655</td>\n",
       "    </tr>\n",
       "    <tr>\n",
       "      <th>V</th>\n",
       "      <td>0.001435</td>\n",
       "      <td>0.086229</td>\n",
       "    </tr>\n",
       "    <tr>\n",
       "      <th>XOM</th>\n",
       "      <td>0.001435</td>\n",
       "      <td>-0.236130</td>\n",
       "    </tr>\n",
       "  </tbody>\n",
       "</table>\n",
       "</div>"
      ],
      "text/plain": [
       "      Intercept      Beta\n",
       "AAPL   0.001435 -0.090211\n",
       "AMZN   0.001435  0.085638\n",
       "BA     0.001435 -0.097980\n",
       "BAC    0.001435  0.063022\n",
       "C      0.001435 -0.013769\n",
       "CVX    0.001435  0.275373\n",
       "DUK    0.001435 -0.022501\n",
       "EOG    0.001435 -0.055048\n",
       "FB     0.001435 -0.058740\n",
       "GS     0.001435 -0.169621\n",
       "HON    0.001435 -0.003581\n",
       "JNJ    0.001435  0.408252\n",
       "JPM    0.001435  0.110372\n",
       "MS     0.001435 -0.044108\n",
       "MSFT   0.001435 -0.303362\n",
       "NEE    0.001435  0.013163\n",
       "SHV    0.001435 -5.954589\n",
       "SPY    0.001435  0.869191\n",
       "TMO    0.001435  0.133241\n",
       "UNH    0.001435  0.085091\n",
       "UPS    0.001435 -0.015655\n",
       "V      0.001435  0.086229\n",
       "XOM    0.001435 -0.236130"
      ]
     },
     "execution_count": 4,
     "metadata": {},
     "output_type": "execute_result"
    }
   ],
   "source": [
    "params_ols = pd.DataFrame(index=X.columns, columns=['Intercept', 'Beta'])\n",
    "params_ols['Intercept'] = model_ols.intercept_\n",
    "params_ols['Beta'] = model_ols.coef_\n",
    "params_ols"
   ]
  },
  {
   "cell_type": "markdown",
   "id": "b10c2f09",
   "metadata": {},
   "source": [
    "### b)"
   ]
  },
  {
   "cell_type": "code",
   "execution_count": 5,
   "id": "504fb549",
   "metadata": {
    "ExecuteTime": {
     "end_time": "2021-07-08T21:24:44.319276Z",
     "start_time": "2021-07-08T21:24:44.314399Z"
    }
   },
   "outputs": [
    {
     "data": {
      "text/plain": [
       "0.5872971514338966"
      ]
     },
     "execution_count": 5,
     "metadata": {},
     "output_type": "execute_result"
    }
   ],
   "source": [
    "model_ols.score(X, y)"
   ]
  },
  {
   "cell_type": "markdown",
   "id": "095e6d40",
   "metadata": {},
   "source": [
    "### c)"
   ]
  },
  {
   "cell_type": "code",
   "execution_count": 6,
   "id": "6f032fb7",
   "metadata": {
    "ExecuteTime": {
     "end_time": "2021-07-08T21:24:44.325362Z",
     "start_time": "2021-07-08T21:24:44.320264Z"
    }
   },
   "outputs": [
    {
     "data": {
      "text/plain": [
       "'SHV'"
      ]
     },
     "execution_count": 6,
     "metadata": {},
     "output_type": "execute_result"
    }
   ],
   "source": [
    "params_ols['Beta'].abs().idxmax()"
   ]
  },
  {
   "cell_type": "markdown",
   "id": "c9ae44ee",
   "metadata": {},
   "source": [
    "### d)"
   ]
  },
  {
   "cell_type": "code",
   "execution_count": 7,
   "id": "058e4058",
   "metadata": {
    "ExecuteTime": {
     "end_time": "2021-07-08T21:24:44.334294Z",
     "start_time": "2021-07-08T21:24:44.327414Z"
    }
   },
   "outputs": [
    {
     "data": {
      "text/html": [
       "<div>\n",
       "<style scoped>\n",
       "    .dataframe tbody tr th:only-of-type {\n",
       "        vertical-align: middle;\n",
       "    }\n",
       "\n",
       "    .dataframe tbody tr th {\n",
       "        vertical-align: top;\n",
       "    }\n",
       "\n",
       "    .dataframe thead th {\n",
       "        text-align: right;\n",
       "    }\n",
       "</style>\n",
       "<table border=\"1\" class=\"dataframe\">\n",
       "  <thead>\n",
       "    <tr style=\"text-align: right;\">\n",
       "      <th></th>\n",
       "      <th>Intercept</th>\n",
       "      <th>Beta</th>\n",
       "      <th>Beta*vol</th>\n",
       "    </tr>\n",
       "  </thead>\n",
       "  <tbody>\n",
       "    <tr>\n",
       "      <th>AAPL</th>\n",
       "      <td>0.001435</td>\n",
       "      <td>-0.090211</td>\n",
       "      <td>-0.007262</td>\n",
       "    </tr>\n",
       "    <tr>\n",
       "      <th>AMZN</th>\n",
       "      <td>0.001435</td>\n",
       "      <td>0.085638</td>\n",
       "      <td>0.006911</td>\n",
       "    </tr>\n",
       "    <tr>\n",
       "      <th>BA</th>\n",
       "      <td>0.001435</td>\n",
       "      <td>-0.097980</td>\n",
       "      <td>-0.009843</td>\n",
       "    </tr>\n",
       "    <tr>\n",
       "      <th>BAC</th>\n",
       "      <td>0.001435</td>\n",
       "      <td>0.063022</td>\n",
       "      <td>0.005161</td>\n",
       "    </tr>\n",
       "    <tr>\n",
       "      <th>C</th>\n",
       "      <td>0.001435</td>\n",
       "      <td>-0.013769</td>\n",
       "      <td>-0.001236</td>\n",
       "    </tr>\n",
       "    <tr>\n",
       "      <th>CVX</th>\n",
       "      <td>0.001435</td>\n",
       "      <td>0.275373</td>\n",
       "      <td>0.019337</td>\n",
       "    </tr>\n",
       "    <tr>\n",
       "      <th>DUK</th>\n",
       "      <td>0.001435</td>\n",
       "      <td>-0.022501</td>\n",
       "      <td>-0.001038</td>\n",
       "    </tr>\n",
       "    <tr>\n",
       "      <th>EOG</th>\n",
       "      <td>0.001435</td>\n",
       "      <td>-0.055048</td>\n",
       "      <td>-0.005808</td>\n",
       "    </tr>\n",
       "    <tr>\n",
       "      <th>FB</th>\n",
       "      <td>0.001435</td>\n",
       "      <td>-0.058740</td>\n",
       "      <td>-0.006040</td>\n",
       "    </tr>\n",
       "    <tr>\n",
       "      <th>GS</th>\n",
       "      <td>0.001435</td>\n",
       "      <td>-0.169621</td>\n",
       "      <td>-0.013066</td>\n",
       "    </tr>\n",
       "    <tr>\n",
       "      <th>HON</th>\n",
       "      <td>0.001435</td>\n",
       "      <td>-0.003581</td>\n",
       "      <td>-0.000181</td>\n",
       "    </tr>\n",
       "    <tr>\n",
       "      <th>JNJ</th>\n",
       "      <td>0.001435</td>\n",
       "      <td>0.408252</td>\n",
       "      <td>0.017627</td>\n",
       "    </tr>\n",
       "    <tr>\n",
       "      <th>JPM</th>\n",
       "      <td>0.001435</td>\n",
       "      <td>0.110372</td>\n",
       "      <td>0.007127</td>\n",
       "    </tr>\n",
       "    <tr>\n",
       "      <th>MS</th>\n",
       "      <td>0.001435</td>\n",
       "      <td>-0.044108</td>\n",
       "      <td>-0.003600</td>\n",
       "    </tr>\n",
       "    <tr>\n",
       "      <th>MSFT</th>\n",
       "      <td>0.001435</td>\n",
       "      <td>-0.303362</td>\n",
       "      <td>-0.017434</td>\n",
       "    </tr>\n",
       "    <tr>\n",
       "      <th>NEE</th>\n",
       "      <td>0.001435</td>\n",
       "      <td>0.013163</td>\n",
       "      <td>0.000605</td>\n",
       "    </tr>\n",
       "    <tr>\n",
       "      <th>SHV</th>\n",
       "      <td>0.001435</td>\n",
       "      <td>-5.954589</td>\n",
       "      <td>-0.005072</td>\n",
       "    </tr>\n",
       "    <tr>\n",
       "      <th>SPY</th>\n",
       "      <td>0.001435</td>\n",
       "      <td>0.869191</td>\n",
       "      <td>0.032663</td>\n",
       "    </tr>\n",
       "    <tr>\n",
       "      <th>TMO</th>\n",
       "      <td>0.001435</td>\n",
       "      <td>0.133241</td>\n",
       "      <td>0.007459</td>\n",
       "    </tr>\n",
       "    <tr>\n",
       "      <th>UNH</th>\n",
       "      <td>0.001435</td>\n",
       "      <td>0.085091</td>\n",
       "      <td>0.004788</td>\n",
       "    </tr>\n",
       "    <tr>\n",
       "      <th>UPS</th>\n",
       "      <td>0.001435</td>\n",
       "      <td>-0.015655</td>\n",
       "      <td>-0.001059</td>\n",
       "    </tr>\n",
       "    <tr>\n",
       "      <th>V</th>\n",
       "      <td>0.001435</td>\n",
       "      <td>0.086229</td>\n",
       "      <td>0.004615</td>\n",
       "    </tr>\n",
       "    <tr>\n",
       "      <th>XOM</th>\n",
       "      <td>0.001435</td>\n",
       "      <td>-0.236130</td>\n",
       "      <td>-0.016014</td>\n",
       "    </tr>\n",
       "  </tbody>\n",
       "</table>\n",
       "</div>"
      ],
      "text/plain": [
       "      Intercept      Beta  Beta*vol\n",
       "AAPL   0.001435 -0.090211 -0.007262\n",
       "AMZN   0.001435  0.085638  0.006911\n",
       "BA     0.001435 -0.097980 -0.009843\n",
       "BAC    0.001435  0.063022  0.005161\n",
       "C      0.001435 -0.013769 -0.001236\n",
       "CVX    0.001435  0.275373  0.019337\n",
       "DUK    0.001435 -0.022501 -0.001038\n",
       "EOG    0.001435 -0.055048 -0.005808\n",
       "FB     0.001435 -0.058740 -0.006040\n",
       "GS     0.001435 -0.169621 -0.013066\n",
       "HON    0.001435 -0.003581 -0.000181\n",
       "JNJ    0.001435  0.408252  0.017627\n",
       "JPM    0.001435  0.110372  0.007127\n",
       "MS     0.001435 -0.044108 -0.003600\n",
       "MSFT   0.001435 -0.303362 -0.017434\n",
       "NEE    0.001435  0.013163  0.000605\n",
       "SHV    0.001435 -5.954589 -0.005072\n",
       "SPY    0.001435  0.869191  0.032663\n",
       "TMO    0.001435  0.133241  0.007459\n",
       "UNH    0.001435  0.085091  0.004788\n",
       "UPS    0.001435 -0.015655 -0.001059\n",
       "V      0.001435  0.086229  0.004615\n",
       "XOM    0.001435 -0.236130 -0.016014"
      ]
     },
     "execution_count": 7,
     "metadata": {},
     "output_type": "execute_result"
    }
   ],
   "source": [
    "params_ols['Beta*vol'] = params_ols['Beta'] * X.std()\n",
    "params_ols"
   ]
  },
  {
   "cell_type": "code",
   "execution_count": 8,
   "id": "d09fa40f",
   "metadata": {
    "ExecuteTime": {
     "end_time": "2021-07-08T21:24:44.337859Z",
     "start_time": "2021-07-08T21:24:44.334992Z"
    }
   },
   "outputs": [
    {
     "data": {
      "text/plain": [
       "'SPY'"
      ]
     },
     "execution_count": 8,
     "metadata": {},
     "output_type": "execute_result"
    }
   ],
   "source": [
    "params_ols['Beta*vol'].abs().idxmax()"
   ]
  },
  {
   "cell_type": "markdown",
   "id": "cc982415",
   "metadata": {},
   "source": [
    "## 2"
   ]
  },
  {
   "cell_type": "markdown",
   "id": "0363cf7e",
   "metadata": {
    "ExecuteTime": {
     "end_time": "2021-07-06T00:36:25.277759Z",
     "start_time": "2021-07-06T00:36:25.274844Z"
    }
   },
   "source": [
    "### a)"
   ]
  },
  {
   "cell_type": "code",
   "execution_count": 9,
   "id": "eb4d140a",
   "metadata": {
    "ExecuteTime": {
     "end_time": "2021-07-08T21:24:44.341835Z",
     "start_time": "2021-07-08T21:24:44.338475Z"
    }
   },
   "outputs": [],
   "source": [
    "model_ridge = Ridge(alpha=0.5).fit(X,y)"
   ]
  },
  {
   "cell_type": "code",
   "execution_count": 10,
   "id": "0e3ab470",
   "metadata": {
    "ExecuteTime": {
     "end_time": "2021-07-08T21:24:44.348590Z",
     "start_time": "2021-07-08T21:24:44.342712Z"
    }
   },
   "outputs": [
    {
     "data": {
      "text/html": [
       "<div>\n",
       "<style scoped>\n",
       "    .dataframe tbody tr th:only-of-type {\n",
       "        vertical-align: middle;\n",
       "    }\n",
       "\n",
       "    .dataframe tbody tr th {\n",
       "        vertical-align: top;\n",
       "    }\n",
       "\n",
       "    .dataframe thead th {\n",
       "        text-align: right;\n",
       "    }\n",
       "</style>\n",
       "<table border=\"1\" class=\"dataframe\">\n",
       "  <thead>\n",
       "    <tr style=\"text-align: right;\">\n",
       "      <th></th>\n",
       "      <th>Intercept</th>\n",
       "      <th>Beta</th>\n",
       "    </tr>\n",
       "  </thead>\n",
       "  <tbody>\n",
       "    <tr>\n",
       "      <th>AAPL</th>\n",
       "      <td>-0.001788</td>\n",
       "      <td>-0.015984</td>\n",
       "    </tr>\n",
       "    <tr>\n",
       "      <th>AMZN</th>\n",
       "      <td>-0.001788</td>\n",
       "      <td>0.078043</td>\n",
       "    </tr>\n",
       "    <tr>\n",
       "      <th>BA</th>\n",
       "      <td>-0.001788</td>\n",
       "      <td>-0.033985</td>\n",
       "    </tr>\n",
       "    <tr>\n",
       "      <th>BAC</th>\n",
       "      <td>-0.001788</td>\n",
       "      <td>0.024545</td>\n",
       "    </tr>\n",
       "    <tr>\n",
       "      <th>C</th>\n",
       "      <td>-0.001788</td>\n",
       "      <td>0.020820</td>\n",
       "    </tr>\n",
       "    <tr>\n",
       "      <th>CVX</th>\n",
       "      <td>-0.001788</td>\n",
       "      <td>0.059144</td>\n",
       "    </tr>\n",
       "    <tr>\n",
       "      <th>DUK</th>\n",
       "      <td>-0.001788</td>\n",
       "      <td>0.055371</td>\n",
       "    </tr>\n",
       "    <tr>\n",
       "      <th>EOG</th>\n",
       "      <td>-0.001788</td>\n",
       "      <td>0.011660</td>\n",
       "    </tr>\n",
       "    <tr>\n",
       "      <th>FB</th>\n",
       "      <td>-0.001788</td>\n",
       "      <td>-0.003222</td>\n",
       "    </tr>\n",
       "    <tr>\n",
       "      <th>GS</th>\n",
       "      <td>-0.001788</td>\n",
       "      <td>-0.009075</td>\n",
       "    </tr>\n",
       "    <tr>\n",
       "      <th>HON</th>\n",
       "      <td>-0.001788</td>\n",
       "      <td>0.059458</td>\n",
       "    </tr>\n",
       "    <tr>\n",
       "      <th>JNJ</th>\n",
       "      <td>-0.001788</td>\n",
       "      <td>0.107750</td>\n",
       "    </tr>\n",
       "    <tr>\n",
       "      <th>JPM</th>\n",
       "      <td>-0.001788</td>\n",
       "      <td>0.038267</td>\n",
       "    </tr>\n",
       "    <tr>\n",
       "      <th>MS</th>\n",
       "      <td>-0.001788</td>\n",
       "      <td>0.002904</td>\n",
       "    </tr>\n",
       "    <tr>\n",
       "      <th>MSFT</th>\n",
       "      <td>-0.001788</td>\n",
       "      <td>-0.040859</td>\n",
       "    </tr>\n",
       "    <tr>\n",
       "      <th>NEE</th>\n",
       "      <td>-0.001788</td>\n",
       "      <td>0.058714</td>\n",
       "    </tr>\n",
       "    <tr>\n",
       "      <th>SHV</th>\n",
       "      <td>-0.001788</td>\n",
       "      <td>-0.000390</td>\n",
       "    </tr>\n",
       "    <tr>\n",
       "      <th>SPY</th>\n",
       "      <td>-0.001788</td>\n",
       "      <td>0.043878</td>\n",
       "    </tr>\n",
       "    <tr>\n",
       "      <th>TMO</th>\n",
       "      <td>-0.001788</td>\n",
       "      <td>0.098968</td>\n",
       "    </tr>\n",
       "    <tr>\n",
       "      <th>UNH</th>\n",
       "      <td>-0.001788</td>\n",
       "      <td>0.085974</td>\n",
       "    </tr>\n",
       "    <tr>\n",
       "      <th>UPS</th>\n",
       "      <td>-0.001788</td>\n",
       "      <td>0.042997</td>\n",
       "    </tr>\n",
       "    <tr>\n",
       "      <th>V</th>\n",
       "      <td>-0.001788</td>\n",
       "      <td>0.032910</td>\n",
       "    </tr>\n",
       "    <tr>\n",
       "      <th>XOM</th>\n",
       "      <td>-0.001788</td>\n",
       "      <td>0.012382</td>\n",
       "    </tr>\n",
       "  </tbody>\n",
       "</table>\n",
       "</div>"
      ],
      "text/plain": [
       "      Intercept      Beta\n",
       "AAPL  -0.001788 -0.015984\n",
       "AMZN  -0.001788  0.078043\n",
       "BA    -0.001788 -0.033985\n",
       "BAC   -0.001788  0.024545\n",
       "C     -0.001788  0.020820\n",
       "CVX   -0.001788  0.059144\n",
       "DUK   -0.001788  0.055371\n",
       "EOG   -0.001788  0.011660\n",
       "FB    -0.001788 -0.003222\n",
       "GS    -0.001788 -0.009075\n",
       "HON   -0.001788  0.059458\n",
       "JNJ   -0.001788  0.107750\n",
       "JPM   -0.001788  0.038267\n",
       "MS    -0.001788  0.002904\n",
       "MSFT  -0.001788 -0.040859\n",
       "NEE   -0.001788  0.058714\n",
       "SHV   -0.001788 -0.000390\n",
       "SPY   -0.001788  0.043878\n",
       "TMO   -0.001788  0.098968\n",
       "UNH   -0.001788  0.085974\n",
       "UPS   -0.001788  0.042997\n",
       "V     -0.001788  0.032910\n",
       "XOM   -0.001788  0.012382"
      ]
     },
     "execution_count": 10,
     "metadata": {},
     "output_type": "execute_result"
    }
   ],
   "source": [
    "params_ridge = pd.DataFrame(index=X.columns, columns=['Intercept', 'Beta'])\n",
    "params_ridge['Intercept'] = model_ridge.intercept_\n",
    "params_ridge['Beta'] = model_ridge.coef_\n",
    "params_ridge"
   ]
  },
  {
   "cell_type": "markdown",
   "id": "085e8e9c",
   "metadata": {},
   "source": [
    "### b)"
   ]
  },
  {
   "cell_type": "code",
   "execution_count": 11,
   "id": "9d637d92",
   "metadata": {
    "ExecuteTime": {
     "end_time": "2021-07-08T21:24:44.353054Z",
     "start_time": "2021-07-08T21:24:44.349708Z"
    }
   },
   "outputs": [
    {
     "data": {
      "text/plain": [
       "0.4425757625898634"
      ]
     },
     "execution_count": 11,
     "metadata": {},
     "output_type": "execute_result"
    }
   ],
   "source": [
    "model_ridge.score(X, y)"
   ]
  },
  {
   "cell_type": "markdown",
   "id": "b22c076f",
   "metadata": {},
   "source": [
    "### c)"
   ]
  },
  {
   "cell_type": "code",
   "execution_count": 12,
   "id": "fae89e70",
   "metadata": {
    "ExecuteTime": {
     "end_time": "2021-07-08T21:24:44.360259Z",
     "start_time": "2021-07-08T21:24:44.354001Z"
    }
   },
   "outputs": [
    {
     "data": {
      "text/html": [
       "<div>\n",
       "<style scoped>\n",
       "    .dataframe tbody tr th:only-of-type {\n",
       "        vertical-align: middle;\n",
       "    }\n",
       "\n",
       "    .dataframe tbody tr th {\n",
       "        vertical-align: top;\n",
       "    }\n",
       "\n",
       "    .dataframe thead th {\n",
       "        text-align: right;\n",
       "    }\n",
       "</style>\n",
       "<table border=\"1\" class=\"dataframe\">\n",
       "  <thead>\n",
       "    <tr style=\"text-align: right;\">\n",
       "      <th></th>\n",
       "      <th>Intercept</th>\n",
       "      <th>Beta</th>\n",
       "      <th>Beta*vol</th>\n",
       "    </tr>\n",
       "  </thead>\n",
       "  <tbody>\n",
       "    <tr>\n",
       "      <th>AAPL</th>\n",
       "      <td>-0.001788</td>\n",
       "      <td>-0.015984</td>\n",
       "      <td>-1.286743e-03</td>\n",
       "    </tr>\n",
       "    <tr>\n",
       "      <th>AMZN</th>\n",
       "      <td>-0.001788</td>\n",
       "      <td>0.078043</td>\n",
       "      <td>6.297950e-03</td>\n",
       "    </tr>\n",
       "    <tr>\n",
       "      <th>BA</th>\n",
       "      <td>-0.001788</td>\n",
       "      <td>-0.033985</td>\n",
       "      <td>-3.414080e-03</td>\n",
       "    </tr>\n",
       "    <tr>\n",
       "      <th>BAC</th>\n",
       "      <td>-0.001788</td>\n",
       "      <td>0.024545</td>\n",
       "      <td>2.009953e-03</td>\n",
       "    </tr>\n",
       "    <tr>\n",
       "      <th>C</th>\n",
       "      <td>-0.001788</td>\n",
       "      <td>0.020820</td>\n",
       "      <td>1.869089e-03</td>\n",
       "    </tr>\n",
       "    <tr>\n",
       "      <th>CVX</th>\n",
       "      <td>-0.001788</td>\n",
       "      <td>0.059144</td>\n",
       "      <td>4.153252e-03</td>\n",
       "    </tr>\n",
       "    <tr>\n",
       "      <th>DUK</th>\n",
       "      <td>-0.001788</td>\n",
       "      <td>0.055371</td>\n",
       "      <td>2.554746e-03</td>\n",
       "    </tr>\n",
       "    <tr>\n",
       "      <th>EOG</th>\n",
       "      <td>-0.001788</td>\n",
       "      <td>0.011660</td>\n",
       "      <td>1.230251e-03</td>\n",
       "    </tr>\n",
       "    <tr>\n",
       "      <th>FB</th>\n",
       "      <td>-0.001788</td>\n",
       "      <td>-0.003222</td>\n",
       "      <td>-3.312971e-04</td>\n",
       "    </tr>\n",
       "    <tr>\n",
       "      <th>GS</th>\n",
       "      <td>-0.001788</td>\n",
       "      <td>-0.009075</td>\n",
       "      <td>-6.990443e-04</td>\n",
       "    </tr>\n",
       "    <tr>\n",
       "      <th>HON</th>\n",
       "      <td>-0.001788</td>\n",
       "      <td>0.059458</td>\n",
       "      <td>3.007047e-03</td>\n",
       "    </tr>\n",
       "    <tr>\n",
       "      <th>JNJ</th>\n",
       "      <td>-0.001788</td>\n",
       "      <td>0.107750</td>\n",
       "      <td>4.652405e-03</td>\n",
       "    </tr>\n",
       "    <tr>\n",
       "      <th>JPM</th>\n",
       "      <td>-0.001788</td>\n",
       "      <td>0.038267</td>\n",
       "      <td>2.471033e-03</td>\n",
       "    </tr>\n",
       "    <tr>\n",
       "      <th>MS</th>\n",
       "      <td>-0.001788</td>\n",
       "      <td>0.002904</td>\n",
       "      <td>2.370546e-04</td>\n",
       "    </tr>\n",
       "    <tr>\n",
       "      <th>MSFT</th>\n",
       "      <td>-0.001788</td>\n",
       "      <td>-0.040859</td>\n",
       "      <td>-2.348122e-03</td>\n",
       "    </tr>\n",
       "    <tr>\n",
       "      <th>NEE</th>\n",
       "      <td>-0.001788</td>\n",
       "      <td>0.058714</td>\n",
       "      <td>2.696700e-03</td>\n",
       "    </tr>\n",
       "    <tr>\n",
       "      <th>SHV</th>\n",
       "      <td>-0.001788</td>\n",
       "      <td>-0.000390</td>\n",
       "      <td>-3.325884e-07</td>\n",
       "    </tr>\n",
       "    <tr>\n",
       "      <th>SPY</th>\n",
       "      <td>-0.001788</td>\n",
       "      <td>0.043878</td>\n",
       "      <td>1.648867e-03</td>\n",
       "    </tr>\n",
       "    <tr>\n",
       "      <th>TMO</th>\n",
       "      <td>-0.001788</td>\n",
       "      <td>0.098968</td>\n",
       "      <td>5.540257e-03</td>\n",
       "    </tr>\n",
       "    <tr>\n",
       "      <th>UNH</th>\n",
       "      <td>-0.001788</td>\n",
       "      <td>0.085974</td>\n",
       "      <td>4.837355e-03</td>\n",
       "    </tr>\n",
       "    <tr>\n",
       "      <th>UPS</th>\n",
       "      <td>-0.001788</td>\n",
       "      <td>0.042997</td>\n",
       "      <td>2.907510e-03</td>\n",
       "    </tr>\n",
       "    <tr>\n",
       "      <th>V</th>\n",
       "      <td>-0.001788</td>\n",
       "      <td>0.032910</td>\n",
       "      <td>1.761367e-03</td>\n",
       "    </tr>\n",
       "    <tr>\n",
       "      <th>XOM</th>\n",
       "      <td>-0.001788</td>\n",
       "      <td>0.012382</td>\n",
       "      <td>8.397128e-04</td>\n",
       "    </tr>\n",
       "  </tbody>\n",
       "</table>\n",
       "</div>"
      ],
      "text/plain": [
       "      Intercept      Beta      Beta*vol\n",
       "AAPL  -0.001788 -0.015984 -1.286743e-03\n",
       "AMZN  -0.001788  0.078043  6.297950e-03\n",
       "BA    -0.001788 -0.033985 -3.414080e-03\n",
       "BAC   -0.001788  0.024545  2.009953e-03\n",
       "C     -0.001788  0.020820  1.869089e-03\n",
       "CVX   -0.001788  0.059144  4.153252e-03\n",
       "DUK   -0.001788  0.055371  2.554746e-03\n",
       "EOG   -0.001788  0.011660  1.230251e-03\n",
       "FB    -0.001788 -0.003222 -3.312971e-04\n",
       "GS    -0.001788 -0.009075 -6.990443e-04\n",
       "HON   -0.001788  0.059458  3.007047e-03\n",
       "JNJ   -0.001788  0.107750  4.652405e-03\n",
       "JPM   -0.001788  0.038267  2.471033e-03\n",
       "MS    -0.001788  0.002904  2.370546e-04\n",
       "MSFT  -0.001788 -0.040859 -2.348122e-03\n",
       "NEE   -0.001788  0.058714  2.696700e-03\n",
       "SHV   -0.001788 -0.000390 -3.325884e-07\n",
       "SPY   -0.001788  0.043878  1.648867e-03\n",
       "TMO   -0.001788  0.098968  5.540257e-03\n",
       "UNH   -0.001788  0.085974  4.837355e-03\n",
       "UPS   -0.001788  0.042997  2.907510e-03\n",
       "V     -0.001788  0.032910  1.761367e-03\n",
       "XOM   -0.001788  0.012382  8.397128e-04"
      ]
     },
     "execution_count": 12,
     "metadata": {},
     "output_type": "execute_result"
    }
   ],
   "source": [
    "params_ridge['Beta*vol'] = params_ridge['Beta'] * X.std()\n",
    "params_ridge"
   ]
  },
  {
   "cell_type": "code",
   "execution_count": 13,
   "id": "087d9a5d",
   "metadata": {
    "ExecuteTime": {
     "end_time": "2021-07-08T21:24:44.365127Z",
     "start_time": "2021-07-08T21:24:44.361298Z"
    }
   },
   "outputs": [
    {
     "data": {
      "text/plain": [
       "'AMZN'"
      ]
     },
     "execution_count": 13,
     "metadata": {},
     "output_type": "execute_result"
    }
   ],
   "source": [
    "params_ridge['Beta*vol'].abs().idxmax()"
   ]
  },
  {
   "cell_type": "markdown",
   "id": "22278934",
   "metadata": {
    "ExecuteTime": {
     "end_time": "2021-07-06T00:40:23.401711Z",
     "start_time": "2021-07-06T00:40:23.399020Z"
    }
   },
   "source": [
    "## 3"
   ]
  },
  {
   "cell_type": "markdown",
   "id": "ec195437",
   "metadata": {
    "ExecuteTime": {
     "end_time": "2021-07-06T00:41:07.033938Z",
     "start_time": "2021-07-06T00:41:07.031726Z"
    }
   },
   "source": [
    "### a)"
   ]
  },
  {
   "cell_type": "code",
   "execution_count": 14,
   "id": "c78c35e5",
   "metadata": {
    "ExecuteTime": {
     "end_time": "2021-07-08T21:24:44.382316Z",
     "start_time": "2021-07-08T21:24:44.370727Z"
    }
   },
   "outputs": [],
   "source": [
    "model_lasso = Lasso(alpha=3e-4).fit(X,y)"
   ]
  },
  {
   "cell_type": "code",
   "execution_count": 15,
   "id": "5b9f04f7",
   "metadata": {
    "ExecuteTime": {
     "end_time": "2021-07-08T21:24:44.392581Z",
     "start_time": "2021-07-08T21:24:44.383826Z"
    }
   },
   "outputs": [
    {
     "data": {
      "text/html": [
       "<div>\n",
       "<style scoped>\n",
       "    .dataframe tbody tr th:only-of-type {\n",
       "        vertical-align: middle;\n",
       "    }\n",
       "\n",
       "    .dataframe tbody tr th {\n",
       "        vertical-align: top;\n",
       "    }\n",
       "\n",
       "    .dataframe thead th {\n",
       "        text-align: right;\n",
       "    }\n",
       "</style>\n",
       "<table border=\"1\" class=\"dataframe\">\n",
       "  <thead>\n",
       "    <tr style=\"text-align: right;\">\n",
       "      <th></th>\n",
       "      <th>Intercept</th>\n",
       "      <th>Beta</th>\n",
       "    </tr>\n",
       "  </thead>\n",
       "  <tbody>\n",
       "    <tr>\n",
       "      <th>AAPL</th>\n",
       "      <td>-0.002793</td>\n",
       "      <td>-0.000000</td>\n",
       "    </tr>\n",
       "    <tr>\n",
       "      <th>AMZN</th>\n",
       "      <td>-0.002793</td>\n",
       "      <td>0.052032</td>\n",
       "    </tr>\n",
       "    <tr>\n",
       "      <th>BA</th>\n",
       "      <td>-0.002793</td>\n",
       "      <td>-0.000000</td>\n",
       "    </tr>\n",
       "    <tr>\n",
       "      <th>BAC</th>\n",
       "      <td>-0.002793</td>\n",
       "      <td>0.000000</td>\n",
       "    </tr>\n",
       "    <tr>\n",
       "      <th>C</th>\n",
       "      <td>-0.002793</td>\n",
       "      <td>0.000000</td>\n",
       "    </tr>\n",
       "    <tr>\n",
       "      <th>CVX</th>\n",
       "      <td>-0.002793</td>\n",
       "      <td>0.064272</td>\n",
       "    </tr>\n",
       "    <tr>\n",
       "      <th>DUK</th>\n",
       "      <td>-0.002793</td>\n",
       "      <td>0.000000</td>\n",
       "    </tr>\n",
       "    <tr>\n",
       "      <th>EOG</th>\n",
       "      <td>-0.002793</td>\n",
       "      <td>0.000000</td>\n",
       "    </tr>\n",
       "    <tr>\n",
       "      <th>FB</th>\n",
       "      <td>-0.002793</td>\n",
       "      <td>-0.000000</td>\n",
       "    </tr>\n",
       "    <tr>\n",
       "      <th>GS</th>\n",
       "      <td>-0.002793</td>\n",
       "      <td>0.000000</td>\n",
       "    </tr>\n",
       "    <tr>\n",
       "      <th>HON</th>\n",
       "      <td>-0.002793</td>\n",
       "      <td>0.050111</td>\n",
       "    </tr>\n",
       "    <tr>\n",
       "      <th>JNJ</th>\n",
       "      <td>-0.002793</td>\n",
       "      <td>0.310078</td>\n",
       "    </tr>\n",
       "    <tr>\n",
       "      <th>JPM</th>\n",
       "      <td>-0.002793</td>\n",
       "      <td>0.000000</td>\n",
       "    </tr>\n",
       "    <tr>\n",
       "      <th>MS</th>\n",
       "      <td>-0.002793</td>\n",
       "      <td>0.000000</td>\n",
       "    </tr>\n",
       "    <tr>\n",
       "      <th>MSFT</th>\n",
       "      <td>-0.002793</td>\n",
       "      <td>-0.000000</td>\n",
       "    </tr>\n",
       "    <tr>\n",
       "      <th>NEE</th>\n",
       "      <td>-0.002793</td>\n",
       "      <td>0.000000</td>\n",
       "    </tr>\n",
       "    <tr>\n",
       "      <th>SHV</th>\n",
       "      <td>-0.002793</td>\n",
       "      <td>-0.000000</td>\n",
       "    </tr>\n",
       "    <tr>\n",
       "      <th>SPY</th>\n",
       "      <td>-0.002793</td>\n",
       "      <td>0.000000</td>\n",
       "    </tr>\n",
       "    <tr>\n",
       "      <th>TMO</th>\n",
       "      <td>-0.002793</td>\n",
       "      <td>0.162022</td>\n",
       "    </tr>\n",
       "    <tr>\n",
       "      <th>UNH</th>\n",
       "      <td>-0.002793</td>\n",
       "      <td>0.126808</td>\n",
       "    </tr>\n",
       "    <tr>\n",
       "      <th>UPS</th>\n",
       "      <td>-0.002793</td>\n",
       "      <td>0.003308</td>\n",
       "    </tr>\n",
       "    <tr>\n",
       "      <th>V</th>\n",
       "      <td>-0.002793</td>\n",
       "      <td>0.000000</td>\n",
       "    </tr>\n",
       "    <tr>\n",
       "      <th>XOM</th>\n",
       "      <td>-0.002793</td>\n",
       "      <td>0.000000</td>\n",
       "    </tr>\n",
       "  </tbody>\n",
       "</table>\n",
       "</div>"
      ],
      "text/plain": [
       "      Intercept      Beta\n",
       "AAPL  -0.002793 -0.000000\n",
       "AMZN  -0.002793  0.052032\n",
       "BA    -0.002793 -0.000000\n",
       "BAC   -0.002793  0.000000\n",
       "C     -0.002793  0.000000\n",
       "CVX   -0.002793  0.064272\n",
       "DUK   -0.002793  0.000000\n",
       "EOG   -0.002793  0.000000\n",
       "FB    -0.002793 -0.000000\n",
       "GS    -0.002793  0.000000\n",
       "HON   -0.002793  0.050111\n",
       "JNJ   -0.002793  0.310078\n",
       "JPM   -0.002793  0.000000\n",
       "MS    -0.002793  0.000000\n",
       "MSFT  -0.002793 -0.000000\n",
       "NEE   -0.002793  0.000000\n",
       "SHV   -0.002793 -0.000000\n",
       "SPY   -0.002793  0.000000\n",
       "TMO   -0.002793  0.162022\n",
       "UNH   -0.002793  0.126808\n",
       "UPS   -0.002793  0.003308\n",
       "V     -0.002793  0.000000\n",
       "XOM   -0.002793  0.000000"
      ]
     },
     "execution_count": 15,
     "metadata": {},
     "output_type": "execute_result"
    }
   ],
   "source": [
    "params_lasso = pd.DataFrame(index=X.columns, columns=['Intercept', 'Beta'])\n",
    "params_lasso['Intercept'] = model_lasso.intercept_\n",
    "params_lasso['Beta'] = model_lasso.coef_\n",
    "params_lasso"
   ]
  },
  {
   "cell_type": "markdown",
   "id": "0bca7731",
   "metadata": {
    "ExecuteTime": {
     "end_time": "2021-07-06T00:42:54.190447Z",
     "start_time": "2021-07-06T00:42:54.187805Z"
    }
   },
   "source": [
    "### b)"
   ]
  },
  {
   "cell_type": "code",
   "execution_count": 16,
   "id": "6e7183b1",
   "metadata": {
    "ExecuteTime": {
     "end_time": "2021-07-08T21:24:44.398029Z",
     "start_time": "2021-07-08T21:24:44.394065Z"
    }
   },
   "outputs": [
    {
     "data": {
      "text/plain": [
       "0.45491992422884997"
      ]
     },
     "execution_count": 16,
     "metadata": {},
     "output_type": "execute_result"
    }
   ],
   "source": [
    "model_lasso.score(X, y)"
   ]
  },
  {
   "cell_type": "markdown",
   "id": "5a84ec7f",
   "metadata": {},
   "source": [
    "### c)"
   ]
  },
  {
   "cell_type": "code",
   "execution_count": 17,
   "id": "bba4c5d3",
   "metadata": {
    "ExecuteTime": {
     "end_time": "2021-07-08T21:24:44.405283Z",
     "start_time": "2021-07-08T21:24:44.399105Z"
    }
   },
   "outputs": [
    {
     "data": {
      "text/html": [
       "<div>\n",
       "<style scoped>\n",
       "    .dataframe tbody tr th:only-of-type {\n",
       "        vertical-align: middle;\n",
       "    }\n",
       "\n",
       "    .dataframe tbody tr th {\n",
       "        vertical-align: top;\n",
       "    }\n",
       "\n",
       "    .dataframe thead th {\n",
       "        text-align: right;\n",
       "    }\n",
       "</style>\n",
       "<table border=\"1\" class=\"dataframe\">\n",
       "  <thead>\n",
       "    <tr style=\"text-align: right;\">\n",
       "      <th></th>\n",
       "      <th>Intercept</th>\n",
       "      <th>Beta</th>\n",
       "      <th>Beta*vol</th>\n",
       "    </tr>\n",
       "  </thead>\n",
       "  <tbody>\n",
       "    <tr>\n",
       "      <th>AAPL</th>\n",
       "      <td>-0.002793</td>\n",
       "      <td>-0.000000</td>\n",
       "      <td>-0.000000</td>\n",
       "    </tr>\n",
       "    <tr>\n",
       "      <th>AMZN</th>\n",
       "      <td>-0.002793</td>\n",
       "      <td>0.052032</td>\n",
       "      <td>0.004199</td>\n",
       "    </tr>\n",
       "    <tr>\n",
       "      <th>BA</th>\n",
       "      <td>-0.002793</td>\n",
       "      <td>-0.000000</td>\n",
       "      <td>-0.000000</td>\n",
       "    </tr>\n",
       "    <tr>\n",
       "      <th>BAC</th>\n",
       "      <td>-0.002793</td>\n",
       "      <td>0.000000</td>\n",
       "      <td>0.000000</td>\n",
       "    </tr>\n",
       "    <tr>\n",
       "      <th>C</th>\n",
       "      <td>-0.002793</td>\n",
       "      <td>0.000000</td>\n",
       "      <td>0.000000</td>\n",
       "    </tr>\n",
       "    <tr>\n",
       "      <th>CVX</th>\n",
       "      <td>-0.002793</td>\n",
       "      <td>0.064272</td>\n",
       "      <td>0.004513</td>\n",
       "    </tr>\n",
       "    <tr>\n",
       "      <th>DUK</th>\n",
       "      <td>-0.002793</td>\n",
       "      <td>0.000000</td>\n",
       "      <td>0.000000</td>\n",
       "    </tr>\n",
       "    <tr>\n",
       "      <th>EOG</th>\n",
       "      <td>-0.002793</td>\n",
       "      <td>0.000000</td>\n",
       "      <td>0.000000</td>\n",
       "    </tr>\n",
       "    <tr>\n",
       "      <th>FB</th>\n",
       "      <td>-0.002793</td>\n",
       "      <td>-0.000000</td>\n",
       "      <td>-0.000000</td>\n",
       "    </tr>\n",
       "    <tr>\n",
       "      <th>GS</th>\n",
       "      <td>-0.002793</td>\n",
       "      <td>0.000000</td>\n",
       "      <td>0.000000</td>\n",
       "    </tr>\n",
       "    <tr>\n",
       "      <th>HON</th>\n",
       "      <td>-0.002793</td>\n",
       "      <td>0.050111</td>\n",
       "      <td>0.002534</td>\n",
       "    </tr>\n",
       "    <tr>\n",
       "      <th>JNJ</th>\n",
       "      <td>-0.002793</td>\n",
       "      <td>0.310078</td>\n",
       "      <td>0.013388</td>\n",
       "    </tr>\n",
       "    <tr>\n",
       "      <th>JPM</th>\n",
       "      <td>-0.002793</td>\n",
       "      <td>0.000000</td>\n",
       "      <td>0.000000</td>\n",
       "    </tr>\n",
       "    <tr>\n",
       "      <th>MS</th>\n",
       "      <td>-0.002793</td>\n",
       "      <td>0.000000</td>\n",
       "      <td>0.000000</td>\n",
       "    </tr>\n",
       "    <tr>\n",
       "      <th>MSFT</th>\n",
       "      <td>-0.002793</td>\n",
       "      <td>-0.000000</td>\n",
       "      <td>-0.000000</td>\n",
       "    </tr>\n",
       "    <tr>\n",
       "      <th>NEE</th>\n",
       "      <td>-0.002793</td>\n",
       "      <td>0.000000</td>\n",
       "      <td>0.000000</td>\n",
       "    </tr>\n",
       "    <tr>\n",
       "      <th>SHV</th>\n",
       "      <td>-0.002793</td>\n",
       "      <td>-0.000000</td>\n",
       "      <td>-0.000000</td>\n",
       "    </tr>\n",
       "    <tr>\n",
       "      <th>SPY</th>\n",
       "      <td>-0.002793</td>\n",
       "      <td>0.000000</td>\n",
       "      <td>0.000000</td>\n",
       "    </tr>\n",
       "    <tr>\n",
       "      <th>TMO</th>\n",
       "      <td>-0.002793</td>\n",
       "      <td>0.162022</td>\n",
       "      <td>0.009070</td>\n",
       "    </tr>\n",
       "    <tr>\n",
       "      <th>UNH</th>\n",
       "      <td>-0.002793</td>\n",
       "      <td>0.126808</td>\n",
       "      <td>0.007135</td>\n",
       "    </tr>\n",
       "    <tr>\n",
       "      <th>UPS</th>\n",
       "      <td>-0.002793</td>\n",
       "      <td>0.003308</td>\n",
       "      <td>0.000224</td>\n",
       "    </tr>\n",
       "    <tr>\n",
       "      <th>V</th>\n",
       "      <td>-0.002793</td>\n",
       "      <td>0.000000</td>\n",
       "      <td>0.000000</td>\n",
       "    </tr>\n",
       "    <tr>\n",
       "      <th>XOM</th>\n",
       "      <td>-0.002793</td>\n",
       "      <td>0.000000</td>\n",
       "      <td>0.000000</td>\n",
       "    </tr>\n",
       "  </tbody>\n",
       "</table>\n",
       "</div>"
      ],
      "text/plain": [
       "      Intercept      Beta  Beta*vol\n",
       "AAPL  -0.002793 -0.000000 -0.000000\n",
       "AMZN  -0.002793  0.052032  0.004199\n",
       "BA    -0.002793 -0.000000 -0.000000\n",
       "BAC   -0.002793  0.000000  0.000000\n",
       "C     -0.002793  0.000000  0.000000\n",
       "CVX   -0.002793  0.064272  0.004513\n",
       "DUK   -0.002793  0.000000  0.000000\n",
       "EOG   -0.002793  0.000000  0.000000\n",
       "FB    -0.002793 -0.000000 -0.000000\n",
       "GS    -0.002793  0.000000  0.000000\n",
       "HON   -0.002793  0.050111  0.002534\n",
       "JNJ   -0.002793  0.310078  0.013388\n",
       "JPM   -0.002793  0.000000  0.000000\n",
       "MS    -0.002793  0.000000  0.000000\n",
       "MSFT  -0.002793 -0.000000 -0.000000\n",
       "NEE   -0.002793  0.000000  0.000000\n",
       "SHV   -0.002793 -0.000000 -0.000000\n",
       "SPY   -0.002793  0.000000  0.000000\n",
       "TMO   -0.002793  0.162022  0.009070\n",
       "UNH   -0.002793  0.126808  0.007135\n",
       "UPS   -0.002793  0.003308  0.000224\n",
       "V     -0.002793  0.000000  0.000000\n",
       "XOM   -0.002793  0.000000  0.000000"
      ]
     },
     "execution_count": 17,
     "metadata": {},
     "output_type": "execute_result"
    }
   ],
   "source": [
    "params_lasso['Beta*vol'] = params_lasso['Beta'] * X.std()\n",
    "params_lasso"
   ]
  },
  {
   "cell_type": "code",
   "execution_count": 18,
   "id": "6941a108",
   "metadata": {
    "ExecuteTime": {
     "end_time": "2021-07-08T21:24:44.410717Z",
     "start_time": "2021-07-08T21:24:44.406615Z"
    }
   },
   "outputs": [
    {
     "data": {
      "text/plain": [
       "'JNJ'"
      ]
     },
     "execution_count": 18,
     "metadata": {},
     "output_type": "execute_result"
    }
   ],
   "source": [
    "params_lasso['Beta*vol'].abs().idxmax()"
   ]
  },
  {
   "cell_type": "markdown",
   "id": "6f8fb8fb",
   "metadata": {
    "ExecuteTime": {
     "end_time": "2021-07-06T00:43:56.456553Z",
     "start_time": "2021-07-06T00:43:56.454208Z"
    }
   },
   "source": [
    "### d)"
   ]
  },
  {
   "cell_type": "code",
   "execution_count": 19,
   "id": "1f9f6800",
   "metadata": {
    "ExecuteTime": {
     "end_time": "2021-07-08T21:24:44.418890Z",
     "start_time": "2021-07-08T21:24:44.412526Z"
    }
   },
   "outputs": [
    {
     "data": {
      "text/plain": [
       "7"
      ]
     },
     "execution_count": 19,
     "metadata": {},
     "output_type": "execute_result"
    }
   ],
   "source": [
    "(params_lasso['Beta']!=0).sum()"
   ]
  },
  {
   "cell_type": "markdown",
   "id": "1644f401",
   "metadata": {},
   "source": [
    "### e)"
   ]
  },
  {
   "cell_type": "code",
   "execution_count": 20,
   "id": "bfbf9935",
   "metadata": {
    "ExecuteTime": {
     "end_time": "2021-07-08T21:24:44.570296Z",
     "start_time": "2021-07-08T21:24:44.420914Z"
    }
   },
   "outputs": [],
   "source": [
    "penalty = 1000\n",
    "while (Lasso(alpha=penalty*1e-6).fit(X,y).coef_ != 0).sum() != 3:\n",
    "    penalty += 1"
   ]
  },
  {
   "cell_type": "code",
   "execution_count": 21,
   "id": "6202627d",
   "metadata": {
    "ExecuteTime": {
     "end_time": "2021-07-08T21:24:44.573082Z",
     "start_time": "2021-07-08T21:24:44.571012Z"
    }
   },
   "outputs": [
    {
     "name": "stdout",
     "output_type": "stream",
     "text": [
      "The penalty is: 0.0012929999999999999\n"
     ]
    }
   ],
   "source": [
    "print(f'The penalty is: {penalty*1e-6}')"
   ]
  },
  {
   "cell_type": "markdown",
   "id": "5c04b6a9",
   "metadata": {},
   "source": [
    "## 4"
   ]
  },
  {
   "cell_type": "markdown",
   "id": "801afa73",
   "metadata": {},
   "source": [
    "### a)"
   ]
  },
  {
   "cell_type": "code",
   "execution_count": 22,
   "id": "0833e1f7",
   "metadata": {
    "ExecuteTime": {
     "end_time": "2021-07-08T21:24:44.586503Z",
     "start_time": "2021-07-08T21:24:44.574520Z"
    }
   },
   "outputs": [
    {
     "data": {
      "text/html": [
       "<div>\n",
       "<style scoped>\n",
       "    .dataframe tbody tr th:only-of-type {\n",
       "        vertical-align: middle;\n",
       "    }\n",
       "\n",
       "    .dataframe tbody tr th {\n",
       "        vertical-align: top;\n",
       "    }\n",
       "\n",
       "    .dataframe thead tr th {\n",
       "        text-align: left;\n",
       "    }\n",
       "</style>\n",
       "<table border=\"1\" class=\"dataframe\">\n",
       "  <thead>\n",
       "    <tr>\n",
       "      <th></th>\n",
       "      <th colspan=\"2\" halign=\"left\">OLS</th>\n",
       "      <th colspan=\"2\" halign=\"left\">Ridge</th>\n",
       "      <th colspan=\"2\" halign=\"left\">LASSO</th>\n",
       "    </tr>\n",
       "    <tr>\n",
       "      <th></th>\n",
       "      <th>Intercept</th>\n",
       "      <th>Beta</th>\n",
       "      <th>Intercept</th>\n",
       "      <th>Beta</th>\n",
       "      <th>Intercept</th>\n",
       "      <th>Beta</th>\n",
       "    </tr>\n",
       "  </thead>\n",
       "  <tbody>\n",
       "    <tr>\n",
       "      <th>AAPL</th>\n",
       "      <td>0.001435</td>\n",
       "      <td>-0.090211</td>\n",
       "      <td>-0.001788</td>\n",
       "      <td>-0.015984</td>\n",
       "      <td>-0.002793</td>\n",
       "      <td>-0.000000</td>\n",
       "    </tr>\n",
       "    <tr>\n",
       "      <th>AMZN</th>\n",
       "      <td>0.001435</td>\n",
       "      <td>0.085638</td>\n",
       "      <td>-0.001788</td>\n",
       "      <td>0.078043</td>\n",
       "      <td>-0.002793</td>\n",
       "      <td>0.052032</td>\n",
       "    </tr>\n",
       "    <tr>\n",
       "      <th>BA</th>\n",
       "      <td>0.001435</td>\n",
       "      <td>-0.097980</td>\n",
       "      <td>-0.001788</td>\n",
       "      <td>-0.033985</td>\n",
       "      <td>-0.002793</td>\n",
       "      <td>-0.000000</td>\n",
       "    </tr>\n",
       "    <tr>\n",
       "      <th>BAC</th>\n",
       "      <td>0.001435</td>\n",
       "      <td>0.063022</td>\n",
       "      <td>-0.001788</td>\n",
       "      <td>0.024545</td>\n",
       "      <td>-0.002793</td>\n",
       "      <td>0.000000</td>\n",
       "    </tr>\n",
       "    <tr>\n",
       "      <th>C</th>\n",
       "      <td>0.001435</td>\n",
       "      <td>-0.013769</td>\n",
       "      <td>-0.001788</td>\n",
       "      <td>0.020820</td>\n",
       "      <td>-0.002793</td>\n",
       "      <td>0.000000</td>\n",
       "    </tr>\n",
       "    <tr>\n",
       "      <th>CVX</th>\n",
       "      <td>0.001435</td>\n",
       "      <td>0.275373</td>\n",
       "      <td>-0.001788</td>\n",
       "      <td>0.059144</td>\n",
       "      <td>-0.002793</td>\n",
       "      <td>0.064272</td>\n",
       "    </tr>\n",
       "    <tr>\n",
       "      <th>DUK</th>\n",
       "      <td>0.001435</td>\n",
       "      <td>-0.022501</td>\n",
       "      <td>-0.001788</td>\n",
       "      <td>0.055371</td>\n",
       "      <td>-0.002793</td>\n",
       "      <td>0.000000</td>\n",
       "    </tr>\n",
       "    <tr>\n",
       "      <th>EOG</th>\n",
       "      <td>0.001435</td>\n",
       "      <td>-0.055048</td>\n",
       "      <td>-0.001788</td>\n",
       "      <td>0.011660</td>\n",
       "      <td>-0.002793</td>\n",
       "      <td>0.000000</td>\n",
       "    </tr>\n",
       "    <tr>\n",
       "      <th>FB</th>\n",
       "      <td>0.001435</td>\n",
       "      <td>-0.058740</td>\n",
       "      <td>-0.001788</td>\n",
       "      <td>-0.003222</td>\n",
       "      <td>-0.002793</td>\n",
       "      <td>-0.000000</td>\n",
       "    </tr>\n",
       "    <tr>\n",
       "      <th>GS</th>\n",
       "      <td>0.001435</td>\n",
       "      <td>-0.169621</td>\n",
       "      <td>-0.001788</td>\n",
       "      <td>-0.009075</td>\n",
       "      <td>-0.002793</td>\n",
       "      <td>0.000000</td>\n",
       "    </tr>\n",
       "    <tr>\n",
       "      <th>HON</th>\n",
       "      <td>0.001435</td>\n",
       "      <td>-0.003581</td>\n",
       "      <td>-0.001788</td>\n",
       "      <td>0.059458</td>\n",
       "      <td>-0.002793</td>\n",
       "      <td>0.050111</td>\n",
       "    </tr>\n",
       "    <tr>\n",
       "      <th>JNJ</th>\n",
       "      <td>0.001435</td>\n",
       "      <td>0.408252</td>\n",
       "      <td>-0.001788</td>\n",
       "      <td>0.107750</td>\n",
       "      <td>-0.002793</td>\n",
       "      <td>0.310078</td>\n",
       "    </tr>\n",
       "    <tr>\n",
       "      <th>JPM</th>\n",
       "      <td>0.001435</td>\n",
       "      <td>0.110372</td>\n",
       "      <td>-0.001788</td>\n",
       "      <td>0.038267</td>\n",
       "      <td>-0.002793</td>\n",
       "      <td>0.000000</td>\n",
       "    </tr>\n",
       "    <tr>\n",
       "      <th>MS</th>\n",
       "      <td>0.001435</td>\n",
       "      <td>-0.044108</td>\n",
       "      <td>-0.001788</td>\n",
       "      <td>0.002904</td>\n",
       "      <td>-0.002793</td>\n",
       "      <td>0.000000</td>\n",
       "    </tr>\n",
       "    <tr>\n",
       "      <th>MSFT</th>\n",
       "      <td>0.001435</td>\n",
       "      <td>-0.303362</td>\n",
       "      <td>-0.001788</td>\n",
       "      <td>-0.040859</td>\n",
       "      <td>-0.002793</td>\n",
       "      <td>-0.000000</td>\n",
       "    </tr>\n",
       "    <tr>\n",
       "      <th>NEE</th>\n",
       "      <td>0.001435</td>\n",
       "      <td>0.013163</td>\n",
       "      <td>-0.001788</td>\n",
       "      <td>0.058714</td>\n",
       "      <td>-0.002793</td>\n",
       "      <td>0.000000</td>\n",
       "    </tr>\n",
       "    <tr>\n",
       "      <th>SHV</th>\n",
       "      <td>0.001435</td>\n",
       "      <td>-5.954589</td>\n",
       "      <td>-0.001788</td>\n",
       "      <td>-0.000390</td>\n",
       "      <td>-0.002793</td>\n",
       "      <td>-0.000000</td>\n",
       "    </tr>\n",
       "    <tr>\n",
       "      <th>SPY</th>\n",
       "      <td>0.001435</td>\n",
       "      <td>0.869191</td>\n",
       "      <td>-0.001788</td>\n",
       "      <td>0.043878</td>\n",
       "      <td>-0.002793</td>\n",
       "      <td>0.000000</td>\n",
       "    </tr>\n",
       "    <tr>\n",
       "      <th>TMO</th>\n",
       "      <td>0.001435</td>\n",
       "      <td>0.133241</td>\n",
       "      <td>-0.001788</td>\n",
       "      <td>0.098968</td>\n",
       "      <td>-0.002793</td>\n",
       "      <td>0.162022</td>\n",
       "    </tr>\n",
       "    <tr>\n",
       "      <th>UNH</th>\n",
       "      <td>0.001435</td>\n",
       "      <td>0.085091</td>\n",
       "      <td>-0.001788</td>\n",
       "      <td>0.085974</td>\n",
       "      <td>-0.002793</td>\n",
       "      <td>0.126808</td>\n",
       "    </tr>\n",
       "    <tr>\n",
       "      <th>UPS</th>\n",
       "      <td>0.001435</td>\n",
       "      <td>-0.015655</td>\n",
       "      <td>-0.001788</td>\n",
       "      <td>0.042997</td>\n",
       "      <td>-0.002793</td>\n",
       "      <td>0.003308</td>\n",
       "    </tr>\n",
       "    <tr>\n",
       "      <th>V</th>\n",
       "      <td>0.001435</td>\n",
       "      <td>0.086229</td>\n",
       "      <td>-0.001788</td>\n",
       "      <td>0.032910</td>\n",
       "      <td>-0.002793</td>\n",
       "      <td>0.000000</td>\n",
       "    </tr>\n",
       "    <tr>\n",
       "      <th>XOM</th>\n",
       "      <td>0.001435</td>\n",
       "      <td>-0.236130</td>\n",
       "      <td>-0.001788</td>\n",
       "      <td>0.012382</td>\n",
       "      <td>-0.002793</td>\n",
       "      <td>0.000000</td>\n",
       "    </tr>\n",
       "  </tbody>\n",
       "</table>\n",
       "</div>"
      ],
      "text/plain": [
       "           OLS               Ridge               LASSO          \n",
       "     Intercept      Beta Intercept      Beta Intercept      Beta\n",
       "AAPL  0.001435 -0.090211 -0.001788 -0.015984 -0.002793 -0.000000\n",
       "AMZN  0.001435  0.085638 -0.001788  0.078043 -0.002793  0.052032\n",
       "BA    0.001435 -0.097980 -0.001788 -0.033985 -0.002793 -0.000000\n",
       "BAC   0.001435  0.063022 -0.001788  0.024545 -0.002793  0.000000\n",
       "C     0.001435 -0.013769 -0.001788  0.020820 -0.002793  0.000000\n",
       "CVX   0.001435  0.275373 -0.001788  0.059144 -0.002793  0.064272\n",
       "DUK   0.001435 -0.022501 -0.001788  0.055371 -0.002793  0.000000\n",
       "EOG   0.001435 -0.055048 -0.001788  0.011660 -0.002793  0.000000\n",
       "FB    0.001435 -0.058740 -0.001788 -0.003222 -0.002793 -0.000000\n",
       "GS    0.001435 -0.169621 -0.001788 -0.009075 -0.002793  0.000000\n",
       "HON   0.001435 -0.003581 -0.001788  0.059458 -0.002793  0.050111\n",
       "JNJ   0.001435  0.408252 -0.001788  0.107750 -0.002793  0.310078\n",
       "JPM   0.001435  0.110372 -0.001788  0.038267 -0.002793  0.000000\n",
       "MS    0.001435 -0.044108 -0.001788  0.002904 -0.002793  0.000000\n",
       "MSFT  0.001435 -0.303362 -0.001788 -0.040859 -0.002793 -0.000000\n",
       "NEE   0.001435  0.013163 -0.001788  0.058714 -0.002793  0.000000\n",
       "SHV   0.001435 -5.954589 -0.001788 -0.000390 -0.002793 -0.000000\n",
       "SPY   0.001435  0.869191 -0.001788  0.043878 -0.002793  0.000000\n",
       "TMO   0.001435  0.133241 -0.001788  0.098968 -0.002793  0.162022\n",
       "UNH   0.001435  0.085091 -0.001788  0.085974 -0.002793  0.126808\n",
       "UPS   0.001435 -0.015655 -0.001788  0.042997 -0.002793  0.003308\n",
       "V     0.001435  0.086229 -0.001788  0.032910 -0.002793  0.000000\n",
       "XOM   0.001435 -0.236130 -0.001788  0.012382 -0.002793  0.000000"
      ]
     },
     "execution_count": 22,
     "metadata": {},
     "output_type": "execute_result"
    }
   ],
   "source": [
    "iterables = [[\"OLS\", \"Ridge\", \"LASSO\"], [\"Intercept\", \"Beta\"]]\n",
    "params = pd.DataFrame(columns=pd.MultiIndex.from_product(iterables), index=X.columns)\n",
    "params['OLS'] = params_ols[['Intercept', 'Beta']]\n",
    "params['Ridge'] = params_ridge[['Intercept', 'Beta']]\n",
    "params['LASSO'] = params_lasso[['Intercept', 'Beta']]\n",
    "params"
   ]
  },
  {
   "cell_type": "code",
   "execution_count": 23,
   "id": "2313e94b",
   "metadata": {
    "ExecuteTime": {
     "end_time": "2021-07-08T21:24:44.711595Z",
     "start_time": "2021-07-08T21:24:44.587165Z"
    }
   },
   "outputs": [
    {
     "data": {
      "image/png": "[encoded data removed]",
      "text/plain": [
       "<Figure size 1440x576 with 1 Axes>"
      ]
     },
     "metadata": {},
     "output_type": "display_data"
    }
   ],
   "source": [
    "fig, ax = plt.subplots(figsize=(20,8))\n",
    "ax.plot(params[('OLS', 'Beta')])\n",
    "ax.plot(params[('Ridge', 'Beta')], color='darkorange')\n",
    "ax.plot(params[('LASSO', 'Beta')], color='darkgreen', alpha=0.7)\n",
    "ax.legend(['OLS', 'Ridge', 'LASSO'])\n",
    "ax.set_title(\"Beta Comparison\")\n",
    "plt.show()"
   ]
  },
  {
   "cell_type": "markdown",
   "id": "8c74a9e7",
   "metadata": {},
   "source": [
    "- Only LASSO gives us zero estimated betas \n",
    "- They all gives both positive and negative values\n",
    "- Ridge and LASSO yield smaller variation magnitude, comparing to OLS"
   ]
  },
  {
   "cell_type": "markdown",
   "id": "c1f417c2",
   "metadata": {
    "ExecuteTime": {
     "end_time": "2021-07-06T01:03:22.895492Z",
     "start_time": "2021-07-06T01:03:22.892993Z"
    }
   },
   "source": [
    "### b)"
   ]
  },
  {
   "cell_type": "markdown",
   "id": "0121c886",
   "metadata": {},
   "source": [
    "OLS gives the largest R-squared. This is not surprising since both Ridge and LASSO are penalizing the betas from being too influencial to the fitting. In other words, OLS is more prone to overfit the dataset, and therefore is reasonable to have a higher in-sample R-squared."
   ]
  },
  {
   "cell_type": "markdown",
   "id": "6bb3466b",
   "metadata": {},
   "source": [
    "## 5"
   ]
  },
  {
   "cell_type": "code",
   "execution_count": 24,
   "id": "fc244a9c",
   "metadata": {
    "ExecuteTime": {
     "end_time": "2021-07-08T21:24:44.723412Z",
     "start_time": "2021-07-08T21:24:44.712404Z"
    }
   },
   "outputs": [],
   "source": [
    "X_train = X[:\"2018\"].copy()\n",
    "y_train = y[:\"2018\"].copy()\n",
    "X_test = X[\"2019\":].copy()\n",
    "y_test = y[\"2019\":].copy()"
   ]
  },
  {
   "cell_type": "code",
   "execution_count": 25,
   "id": "a29ac61f",
   "metadata": {
    "ExecuteTime": {
     "end_time": "2021-07-08T21:24:44.727885Z",
     "start_time": "2021-07-08T21:24:44.724001Z"
    }
   },
   "outputs": [
    {
     "data": {
      "text/plain": [
       "0.3128123549915094"
      ]
     },
     "execution_count": 25,
     "metadata": {},
     "output_type": "execute_result"
    }
   ],
   "source": [
    "LinearRegression().fit(X_train,y_train).score(X_test,y_test)"
   ]
  },
  {
   "cell_type": "code",
   "execution_count": 26,
   "id": "3ca0c9c6",
   "metadata": {
    "ExecuteTime": {
     "end_time": "2021-07-08T21:24:44.732710Z",
     "start_time": "2021-07-08T21:24:44.728441Z"
    }
   },
   "outputs": [
    {
     "data": {
      "text/plain": [
       "0.2757460861931377"
      ]
     },
     "execution_count": 26,
     "metadata": {},
     "output_type": "execute_result"
    }
   ],
   "source": [
    "Ridge(alpha=0.5).fit(X_train,y_train).score(X_test,y_test)"
   ]
  },
  {
   "cell_type": "code",
   "execution_count": 27,
   "id": "881b46f0",
   "metadata": {
    "ExecuteTime": {
     "end_time": "2021-07-08T21:24:44.737498Z",
     "start_time": "2021-07-08T21:24:44.733488Z"
    }
   },
   "outputs": [
    {
     "data": {
      "text/plain": [
       "0.3120768602742625"
      ]
     },
     "execution_count": 27,
     "metadata": {},
     "output_type": "execute_result"
    }
   ],
   "source": [
    "Lasso(alpha=3e-4).fit(X_train,y_train).score(X_test,y_test)"
   ]
  },
  {
   "cell_type": "markdown",
   "id": "e6446df4",
   "metadata": {},
   "source": [
    "OLS appears to have the best OOS R-squared, but of course this greatly depends on what penalization parameter we choose. If we choose difference alphas, Ridge or LASSO may perform better in OOS estimations."
   ]
  },
  {
   "cell_type": "markdown",
   "id": "2c51c3f4",
   "metadata": {},
   "source": [
    "## 6"
   ]
  },
  {
   "cell_type": "code",
   "execution_count": 28,
   "id": "000a2874",
   "metadata": {
    "ExecuteTime": {
     "end_time": "2021-07-08T21:24:44.743708Z",
     "start_time": "2021-07-08T21:24:44.738223Z"
    }
   },
   "outputs": [
    {
     "data": {
      "text/plain": [
       "0.574914745699142"
      ]
     },
     "execution_count": 28,
     "metadata": {},
     "output_type": "execute_result"
    }
   ],
   "source": [
    "model_ridgeCV = RidgeCV().fit(X,y)\n",
    "model_ridgeCV.alpha_\n",
    "model_ridgeCV.score(X_test, y_test)"
   ]
  },
  {
   "cell_type": "code",
   "execution_count": 29,
   "id": "b6102be9",
   "metadata": {
    "ExecuteTime": {
     "end_time": "2021-07-08T21:24:44.776086Z",
     "start_time": "2021-07-08T21:24:44.745131Z"
    }
   },
   "outputs": [
    {
     "data": {
      "text/plain": [
       "0.5152205301955729"
      ]
     },
     "execution_count": 29,
     "metadata": {},
     "output_type": "execute_result"
    }
   ],
   "source": [
    "model_lassoCV = LassoCV().fit(X,y)\n",
    "model_lassoCV.alpha_\n",
    "model_lassoCV.score(X_test, y_test)"
   ]
  },
  {
   "cell_type": "markdown",
   "id": "649a60aa",
   "metadata": {
    "ExecuteTime": {
     "end_time": "2021-07-06T01:18:59.116359Z",
     "start_time": "2021-07-06T01:18:59.114037Z"
    }
   },
   "source": [
    "# 2 Principal Components"
   ]
  },
  {
   "cell_type": "code",
   "execution_count": 30,
   "id": "eb5eb3d6",
   "metadata": {
    "ExecuteTime": {
     "end_time": "2021-07-08T21:24:44.787910Z",
     "start_time": "2021-07-08T21:24:44.777075Z"
    }
   },
   "outputs": [
    {
     "data": {
      "text/html": [
       "<div>\n",
       "<style scoped>\n",
       "    .dataframe tbody tr th:only-of-type {\n",
       "        vertical-align: middle;\n",
       "    }\n",
       "\n",
       "    .dataframe tbody tr th {\n",
       "        vertical-align: top;\n",
       "    }\n",
       "\n",
       "    .dataframe thead th {\n",
       "        text-align: right;\n",
       "    }\n",
       "</style>\n",
       "<table border=\"1\" class=\"dataframe\">\n",
       "  <thead>\n",
       "    <tr style=\"text-align: right;\">\n",
       "      <th></th>\n",
       "      <th>AAPL</th>\n",
       "      <th>AMZN</th>\n",
       "      <th>BA</th>\n",
       "      <th>BAC</th>\n",
       "      <th>C</th>\n",
       "      <th>CVX</th>\n",
       "      <th>DUK</th>\n",
       "      <th>EOG</th>\n",
       "      <th>FB</th>\n",
       "      <th>GS</th>\n",
       "      <th>...</th>\n",
       "      <th>JPM</th>\n",
       "      <th>MS</th>\n",
       "      <th>MSFT</th>\n",
       "      <th>NEE</th>\n",
       "      <th>PFE</th>\n",
       "      <th>TMO</th>\n",
       "      <th>UNH</th>\n",
       "      <th>UPS</th>\n",
       "      <th>V</th>\n",
       "      <th>XOM</th>\n",
       "    </tr>\n",
       "    <tr>\n",
       "      <th>Date</th>\n",
       "      <th></th>\n",
       "      <th></th>\n",
       "      <th></th>\n",
       "      <th></th>\n",
       "      <th></th>\n",
       "      <th></th>\n",
       "      <th></th>\n",
       "      <th></th>\n",
       "      <th></th>\n",
       "      <th></th>\n",
       "      <th></th>\n",
       "      <th></th>\n",
       "      <th></th>\n",
       "      <th></th>\n",
       "      <th></th>\n",
       "      <th></th>\n",
       "      <th></th>\n",
       "      <th></th>\n",
       "      <th></th>\n",
       "      <th></th>\n",
       "      <th></th>\n",
       "    </tr>\n",
       "  </thead>\n",
       "  <tbody>\n",
       "    <tr>\n",
       "      <th>2012-07-31</th>\n",
       "      <td>0.045822</td>\n",
       "      <td>0.021677</td>\n",
       "      <td>-0.005249</td>\n",
       "      <td>-0.102690</td>\n",
       "      <td>-0.010215</td>\n",
       "      <td>0.038673</td>\n",
       "      <td>-0.020237</td>\n",
       "      <td>0.089705</td>\n",
       "      <td>-0.301929</td>\n",
       "      <td>0.052576</td>\n",
       "      <td>...</td>\n",
       "      <td>0.015958</td>\n",
       "      <td>-0.060127</td>\n",
       "      <td>-0.036613</td>\n",
       "      <td>0.030373</td>\n",
       "      <td>0.045217</td>\n",
       "      <td>0.072433</td>\n",
       "      <td>-0.126667</td>\n",
       "      <td>-0.039995</td>\n",
       "      <td>0.044002</td>\n",
       "      <td>0.014959</td>\n",
       "    </tr>\n",
       "    <tr>\n",
       "      <th>2012-08-31</th>\n",
       "      <td>0.093877</td>\n",
       "      <td>0.064166</td>\n",
       "      <td>-0.028167</td>\n",
       "      <td>0.088556</td>\n",
       "      <td>0.095507</td>\n",
       "      <td>0.031739</td>\n",
       "      <td>-0.033419</td>\n",
       "      <td>0.104989</td>\n",
       "      <td>-0.168125</td>\n",
       "      <td>0.052375</td>\n",
       "      <td>...</td>\n",
       "      <td>0.031666</td>\n",
       "      <td>0.098096</td>\n",
       "      <td>0.052738</td>\n",
       "      <td>-0.042232</td>\n",
       "      <td>0.001679</td>\n",
       "      <td>0.030178</td>\n",
       "      <td>0.062831</td>\n",
       "      <td>-0.016486</td>\n",
       "      <td>-0.004667</td>\n",
       "      <td>0.011714</td>\n",
       "    </tr>\n",
       "    <tr>\n",
       "      <th>2012-09-30</th>\n",
       "      <td>0.002796</td>\n",
       "      <td>0.024369</td>\n",
       "      <td>-0.025210</td>\n",
       "      <td>0.106515</td>\n",
       "      <td>0.101313</td>\n",
       "      <td>0.039229</td>\n",
       "      <td>0.000154</td>\n",
       "      <td>0.034626</td>\n",
       "      <td>0.199336</td>\n",
       "      <td>0.075293</td>\n",
       "      <td>...</td>\n",
       "      <td>0.089930</td>\n",
       "      <td>0.116000</td>\n",
       "      <td>-0.034394</td>\n",
       "      <td>0.044867</td>\n",
       "      <td>0.041492</td>\n",
       "      <td>0.028059</td>\n",
       "      <td>0.024575</td>\n",
       "      <td>-0.030348</td>\n",
       "      <td>0.047018</td>\n",
       "      <td>0.047537</td>\n",
       "    </tr>\n",
       "    <tr>\n",
       "      <th>2012-10-31</th>\n",
       "      <td>-0.107600</td>\n",
       "      <td>-0.084264</td>\n",
       "      <td>0.012069</td>\n",
       "      <td>0.055493</td>\n",
       "      <td>0.142726</td>\n",
       "      <td>-0.054221</td>\n",
       "      <td>0.013891</td>\n",
       "      <td>0.041252</td>\n",
       "      <td>-0.025392</td>\n",
       "      <td>0.076619</td>\n",
       "      <td>...</td>\n",
       "      <td>0.037249</td>\n",
       "      <td>0.041287</td>\n",
       "      <td>-0.040994</td>\n",
       "      <td>-0.003839</td>\n",
       "      <td>0.000805</td>\n",
       "      <td>0.037906</td>\n",
       "      <td>0.010648</td>\n",
       "      <td>0.023474</td>\n",
       "      <td>0.033363</td>\n",
       "      <td>-0.003062</td>\n",
       "    </tr>\n",
       "    <tr>\n",
       "      <th>2012-11-30</th>\n",
       "      <td>-0.012374</td>\n",
       "      <td>0.082271</td>\n",
       "      <td>0.060996</td>\n",
       "      <td>0.057940</td>\n",
       "      <td>-0.075174</td>\n",
       "      <td>-0.033007</td>\n",
       "      <td>-0.016332</td>\n",
       "      <td>0.009700</td>\n",
       "      <td>0.326386</td>\n",
       "      <td>-0.033504</td>\n",
       "      <td>...</td>\n",
       "      <td>-0.014395</td>\n",
       "      <td>-0.029344</td>\n",
       "      <td>-0.059609</td>\n",
       "      <td>-0.010515</td>\n",
       "      <td>0.015068</td>\n",
       "      <td>0.040780</td>\n",
       "      <td>-0.028750</td>\n",
       "      <td>0.006248</td>\n",
       "      <td>0.081419</td>\n",
       "      <td>-0.027182</td>\n",
       "    </tr>\n",
       "  </tbody>\n",
       "</table>\n",
       "<p>5 rows × 22 columns</p>\n",
       "</div>"
      ],
      "text/plain": [
       "                AAPL      AMZN        BA       BAC         C       CVX  \\\n",
       "Date                                                                     \n",
       "2012-07-31  0.045822  0.021677 -0.005249 -0.102690 -0.010215  0.038673   \n",
       "2012-08-31  0.093877  0.064166 -0.028167  0.088556  0.095507  0.031739   \n",
       "2012-09-30  0.002796  0.024369 -0.025210  0.106515  0.101313  0.039229   \n",
       "2012-10-31 -0.107600 -0.084264  0.012069  0.055493  0.142726 -0.054221   \n",
       "2012-11-30 -0.012374  0.082271  0.060996  0.057940 -0.075174 -0.033007   \n",
       "\n",
       "                 DUK       EOG        FB        GS  ...       JPM        MS  \\\n",
       "Date                                                ...                       \n",
       "2012-07-31 -0.020237  0.089705 -0.301929  0.052576  ...  0.015958 -0.060127   \n",
       "2012-08-31 -0.033419  0.104989 -0.168125  0.052375  ...  0.031666  0.098096   \n",
       "2012-09-30  0.000154  0.034626  0.199336  0.075293  ...  0.089930  0.116000   \n",
       "2012-10-31  0.013891  0.041252 -0.025392  0.076619  ...  0.037249  0.041287   \n",
       "2012-11-30 -0.016332  0.009700  0.326386 -0.033504  ... -0.014395 -0.029344   \n",
       "\n",
       "                MSFT       NEE       PFE       TMO       UNH       UPS  \\\n",
       "Date                                                                     \n",
       "2012-07-31 -0.036613  0.030373  0.045217  0.072433 -0.126667 -0.039995   \n",
       "2012-08-31  0.052738 -0.042232  0.001679  0.030178  0.062831 -0.016486   \n",
       "2012-09-30 -0.034394  0.044867  0.041492  0.028059  0.024575 -0.030348   \n",
       "2012-10-31 -0.040994 -0.003839  0.000805  0.037906  0.010648  0.023474   \n",
       "2012-11-30 -0.059609 -0.010515  0.015068  0.040780 -0.028750  0.006248   \n",
       "\n",
       "                   V       XOM  \n",
       "Date                            \n",
       "2012-07-31  0.044002  0.014959  \n",
       "2012-08-31 -0.004667  0.011714  \n",
       "2012-09-30  0.047018  0.047537  \n",
       "2012-10-31  0.033363 -0.003062  \n",
       "2012-11-30  0.081419 -0.027182  \n",
       "\n",
       "[5 rows x 22 columns]"
      ]
     },
     "execution_count": 30,
     "metadata": {},
     "output_type": "execute_result"
    }
   ],
   "source": [
    "equities = data.drop(columns=['SPY', 'SHV'])\n",
    "equities.head(5)"
   ]
  },
  {
   "cell_type": "markdown",
   "id": "84e734e9",
   "metadata": {},
   "source": [
    "## 1"
   ]
  },
  {
   "cell_type": "code",
   "execution_count": 31,
   "id": "66462cf2",
   "metadata": {
    "ExecuteTime": {
     "end_time": "2021-07-08T21:24:44.792746Z",
     "start_time": "2021-07-08T21:24:44.789831Z"
    }
   },
   "outputs": [],
   "source": [
    "clean = equities - equities.mean()"
   ]
  },
  {
   "cell_type": "code",
   "execution_count": 32,
   "id": "256ff827",
   "metadata": {
    "ExecuteTime": {
     "end_time": "2021-07-08T21:24:44.798750Z",
     "start_time": "2021-07-08T21:24:44.794141Z"
    }
   },
   "outputs": [],
   "source": [
    "u, s, vh = svd(clean)"
   ]
  },
  {
   "cell_type": "code",
   "execution_count": 33,
   "id": "f9305957",
   "metadata": {
    "ExecuteTime": {
     "end_time": "2021-07-08T21:24:44.810389Z",
     "start_time": "2021-07-08T21:24:44.799451Z"
    }
   },
   "outputs": [
    {
     "data": {
      "text/html": [
       "<div>\n",
       "<style scoped>\n",
       "    .dataframe tbody tr th:only-of-type {\n",
       "        vertical-align: middle;\n",
       "    }\n",
       "\n",
       "    .dataframe tbody tr th {\n",
       "        vertical-align: top;\n",
       "    }\n",
       "\n",
       "    .dataframe thead th {\n",
       "        text-align: right;\n",
       "    }\n",
       "</style>\n",
       "<table border=\"1\" class=\"dataframe\">\n",
       "  <thead>\n",
       "    <tr style=\"text-align: right;\">\n",
       "      <th></th>\n",
       "      <th>1</th>\n",
       "      <th>2</th>\n",
       "      <th>3</th>\n",
       "      <th>4</th>\n",
       "      <th>5</th>\n",
       "      <th>6</th>\n",
       "      <th>7</th>\n",
       "      <th>8</th>\n",
       "      <th>9</th>\n",
       "      <th>10</th>\n",
       "      <th>...</th>\n",
       "      <th>13</th>\n",
       "      <th>14</th>\n",
       "      <th>15</th>\n",
       "      <th>16</th>\n",
       "      <th>17</th>\n",
       "      <th>18</th>\n",
       "      <th>19</th>\n",
       "      <th>20</th>\n",
       "      <th>21</th>\n",
       "      <th>22</th>\n",
       "    </tr>\n",
       "    <tr>\n",
       "      <th>Date</th>\n",
       "      <th></th>\n",
       "      <th></th>\n",
       "      <th></th>\n",
       "      <th></th>\n",
       "      <th></th>\n",
       "      <th></th>\n",
       "      <th></th>\n",
       "      <th></th>\n",
       "      <th></th>\n",
       "      <th></th>\n",
       "      <th></th>\n",
       "      <th></th>\n",
       "      <th></th>\n",
       "      <th></th>\n",
       "      <th></th>\n",
       "      <th></th>\n",
       "      <th></th>\n",
       "      <th></th>\n",
       "      <th></th>\n",
       "      <th></th>\n",
       "      <th></th>\n",
       "    </tr>\n",
       "  </thead>\n",
       "  <tbody>\n",
       "    <tr>\n",
       "      <th>2012-07-31</th>\n",
       "      <td>0.100321</td>\n",
       "      <td>0.191194</td>\n",
       "      <td>-0.127657</td>\n",
       "      <td>0.224495</td>\n",
       "      <td>-0.107962</td>\n",
       "      <td>-0.055109</td>\n",
       "      <td>-0.017283</td>\n",
       "      <td>-0.088956</td>\n",
       "      <td>-0.027479</td>\n",
       "      <td>-0.166297</td>\n",
       "      <td>...</td>\n",
       "      <td>0.056321</td>\n",
       "      <td>0.005329</td>\n",
       "      <td>-0.024710</td>\n",
       "      <td>0.002121</td>\n",
       "      <td>-0.008429</td>\n",
       "      <td>0.025162</td>\n",
       "      <td>0.037482</td>\n",
       "      <td>0.047507</td>\n",
       "      <td>0.013577</td>\n",
       "      <td>0.013919</td>\n",
       "    </tr>\n",
       "    <tr>\n",
       "      <th>2012-08-31</th>\n",
       "      <td>-0.093152</td>\n",
       "      <td>0.140681</td>\n",
       "      <td>-0.141271</td>\n",
       "      <td>0.010891</td>\n",
       "      <td>-0.093285</td>\n",
       "      <td>-0.110789</td>\n",
       "      <td>-0.028318</td>\n",
       "      <td>-0.019877</td>\n",
       "      <td>0.083100</td>\n",
       "      <td>-0.010927</td>\n",
       "      <td>...</td>\n",
       "      <td>0.010125</td>\n",
       "      <td>0.039513</td>\n",
       "      <td>0.002229</td>\n",
       "      <td>0.011445</td>\n",
       "      <td>0.029783</td>\n",
       "      <td>0.020677</td>\n",
       "      <td>-0.026223</td>\n",
       "      <td>-0.017920</td>\n",
       "      <td>0.003575</td>\n",
       "      <td>-0.017197</td>\n",
       "    </tr>\n",
       "    <tr>\n",
       "      <th>2012-09-30</th>\n",
       "      <td>-0.159468</td>\n",
       "      <td>-0.029826</td>\n",
       "      <td>0.098390</td>\n",
       "      <td>-0.168551</td>\n",
       "      <td>-0.017551</td>\n",
       "      <td>0.030655</td>\n",
       "      <td>0.007980</td>\n",
       "      <td>-0.057431</td>\n",
       "      <td>-0.009034</td>\n",
       "      <td>-0.018465</td>\n",
       "      <td>...</td>\n",
       "      <td>0.004353</td>\n",
       "      <td>-0.030354</td>\n",
       "      <td>-0.022978</td>\n",
       "      <td>-0.022748</td>\n",
       "      <td>0.030354</td>\n",
       "      <td>-0.023352</td>\n",
       "      <td>-0.023956</td>\n",
       "      <td>-0.000859</td>\n",
       "      <td>0.015238</td>\n",
       "      <td>0.007404</td>\n",
       "    </tr>\n",
       "    <tr>\n",
       "      <th>2012-10-31</th>\n",
       "      <td>-0.028983</td>\n",
       "      <td>0.164929</td>\n",
       "      <td>0.012199</td>\n",
       "      <td>-0.080515</td>\n",
       "      <td>0.014877</td>\n",
       "      <td>0.097195</td>\n",
       "      <td>-0.018747</td>\n",
       "      <td>0.004250</td>\n",
       "      <td>-0.016261</td>\n",
       "      <td>-0.047642</td>\n",
       "      <td>...</td>\n",
       "      <td>0.037821</td>\n",
       "      <td>0.031651</td>\n",
       "      <td>-0.073847</td>\n",
       "      <td>0.062830</td>\n",
       "      <td>-0.048856</td>\n",
       "      <td>0.019210</td>\n",
       "      <td>-0.052455</td>\n",
       "      <td>0.009320</td>\n",
       "      <td>-0.000979</td>\n",
       "      <td>0.002572</td>\n",
       "    </tr>\n",
       "    <tr>\n",
       "      <th>2012-11-30</th>\n",
       "      <td>0.014028</td>\n",
       "      <td>-0.205469</td>\n",
       "      <td>0.217231</td>\n",
       "      <td>-0.084005</td>\n",
       "      <td>0.107154</td>\n",
       "      <td>0.000600</td>\n",
       "      <td>-0.069108</td>\n",
       "      <td>0.034436</td>\n",
       "      <td>-0.017693</td>\n",
       "      <td>-0.034530</td>\n",
       "      <td>...</td>\n",
       "      <td>0.057076</td>\n",
       "      <td>-0.027170</td>\n",
       "      <td>0.006416</td>\n",
       "      <td>-0.064056</td>\n",
       "      <td>-0.033502</td>\n",
       "      <td>-0.001101</td>\n",
       "      <td>0.026544</td>\n",
       "      <td>-0.027866</td>\n",
       "      <td>0.026400</td>\n",
       "      <td>0.020122</td>\n",
       "    </tr>\n",
       "    <tr>\n",
       "      <th>...</th>\n",
       "      <td>...</td>\n",
       "      <td>...</td>\n",
       "      <td>...</td>\n",
       "      <td>...</td>\n",
       "      <td>...</td>\n",
       "      <td>...</td>\n",
       "      <td>...</td>\n",
       "      <td>...</td>\n",
       "      <td>...</td>\n",
       "      <td>...</td>\n",
       "      <td>...</td>\n",
       "      <td>...</td>\n",
       "      <td>...</td>\n",
       "      <td>...</td>\n",
       "      <td>...</td>\n",
       "      <td>...</td>\n",
       "      <td>...</td>\n",
       "      <td>...</td>\n",
       "      <td>...</td>\n",
       "      <td>...</td>\n",
       "      <td>...</td>\n",
       "    </tr>\n",
       "    <tr>\n",
       "      <th>2021-02-28</th>\n",
       "      <td>-0.372838</td>\n",
       "      <td>0.335383</td>\n",
       "      <td>0.139549</td>\n",
       "      <td>-0.026264</td>\n",
       "      <td>-0.052281</td>\n",
       "      <td>-0.121068</td>\n",
       "      <td>-0.025709</td>\n",
       "      <td>0.086073</td>\n",
       "      <td>-0.055353</td>\n",
       "      <td>0.030766</td>\n",
       "      <td>...</td>\n",
       "      <td>-0.019088</td>\n",
       "      <td>-0.017686</td>\n",
       "      <td>-0.042579</td>\n",
       "      <td>-0.073524</td>\n",
       "      <td>-0.019790</td>\n",
       "      <td>-0.011698</td>\n",
       "      <td>0.009586</td>\n",
       "      <td>-0.016131</td>\n",
       "      <td>0.003191</td>\n",
       "      <td>0.004194</td>\n",
       "    </tr>\n",
       "    <tr>\n",
       "      <th>2021-03-31</th>\n",
       "      <td>-0.228194</td>\n",
       "      <td>-0.014366</td>\n",
       "      <td>0.116946</td>\n",
       "      <td>0.046203</td>\n",
       "      <td>0.081276</td>\n",
       "      <td>0.144510</td>\n",
       "      <td>0.044792</td>\n",
       "      <td>0.029363</td>\n",
       "      <td>0.072187</td>\n",
       "      <td>0.056817</td>\n",
       "      <td>...</td>\n",
       "      <td>0.026751</td>\n",
       "      <td>-0.015641</td>\n",
       "      <td>0.014089</td>\n",
       "      <td>0.013145</td>\n",
       "      <td>-0.025525</td>\n",
       "      <td>0.055686</td>\n",
       "      <td>0.001700</td>\n",
       "      <td>-0.012403</td>\n",
       "      <td>-0.035163</td>\n",
       "      <td>0.000218</td>\n",
       "    </tr>\n",
       "    <tr>\n",
       "      <th>2021-04-30</th>\n",
       "      <td>-0.093542</td>\n",
       "      <td>-0.162483</td>\n",
       "      <td>-0.066972</td>\n",
       "      <td>-0.046543</td>\n",
       "      <td>-0.099481</td>\n",
       "      <td>0.021565</td>\n",
       "      <td>0.008280</td>\n",
       "      <td>0.136889</td>\n",
       "      <td>-0.037869</td>\n",
       "      <td>-0.014937</td>\n",
       "      <td>...</td>\n",
       "      <td>-0.005659</td>\n",
       "      <td>0.025855</td>\n",
       "      <td>0.033333</td>\n",
       "      <td>-0.016342</td>\n",
       "      <td>-0.019541</td>\n",
       "      <td>0.024882</td>\n",
       "      <td>-0.021935</td>\n",
       "      <td>-0.013440</td>\n",
       "      <td>-0.042620</td>\n",
       "      <td>-0.003327</td>\n",
       "    </tr>\n",
       "    <tr>\n",
       "      <th>2021-05-31</th>\n",
       "      <td>-0.116208</td>\n",
       "      <td>0.160077</td>\n",
       "      <td>0.040744</td>\n",
       "      <td>-0.052939</td>\n",
       "      <td>0.001236</td>\n",
       "      <td>0.045846</td>\n",
       "      <td>0.016074</td>\n",
       "      <td>0.050314</td>\n",
       "      <td>0.004106</td>\n",
       "      <td>-0.027177</td>\n",
       "      <td>...</td>\n",
       "      <td>-0.012503</td>\n",
       "      <td>-0.014700</td>\n",
       "      <td>0.004411</td>\n",
       "      <td>0.069712</td>\n",
       "      <td>-0.028361</td>\n",
       "      <td>-0.014058</td>\n",
       "      <td>-0.005816</td>\n",
       "      <td>-0.028731</td>\n",
       "      <td>-0.010623</td>\n",
       "      <td>0.011653</td>\n",
       "    </tr>\n",
       "    <tr>\n",
       "      <th>2021-06-30</th>\n",
       "      <td>0.082415</td>\n",
       "      <td>-0.113706</td>\n",
       "      <td>0.034633</td>\n",
       "      <td>0.044084</td>\n",
       "      <td>-0.070439</td>\n",
       "      <td>-0.133124</td>\n",
       "      <td>0.001237</td>\n",
       "      <td>-0.023757</td>\n",
       "      <td>-0.051874</td>\n",
       "      <td>-0.011946</td>\n",
       "      <td>...</td>\n",
       "      <td>-0.020049</td>\n",
       "      <td>0.018929</td>\n",
       "      <td>0.040734</td>\n",
       "      <td>-0.084748</td>\n",
       "      <td>-0.024675</td>\n",
       "      <td>0.008677</td>\n",
       "      <td>-0.046277</td>\n",
       "      <td>-0.008667</td>\n",
       "      <td>-0.023707</td>\n",
       "      <td>-0.015877</td>\n",
       "    </tr>\n",
       "  </tbody>\n",
       "</table>\n",
       "<p>108 rows × 22 columns</p>\n",
       "</div>"
      ],
      "text/plain": [
       "                  1         2         3         4         5         6   \\\n",
       "Date                                                                     \n",
       "2012-07-31  0.100321  0.191194 -0.127657  0.224495 -0.107962 -0.055109   \n",
       "2012-08-31 -0.093152  0.140681 -0.141271  0.010891 -0.093285 -0.110789   \n",
       "2012-09-30 -0.159468 -0.029826  0.098390 -0.168551 -0.017551  0.030655   \n",
       "2012-10-31 -0.028983  0.164929  0.012199 -0.080515  0.014877  0.097195   \n",
       "2012-11-30  0.014028 -0.205469  0.217231 -0.084005  0.107154  0.000600   \n",
       "...              ...       ...       ...       ...       ...       ...   \n",
       "2021-02-28 -0.372838  0.335383  0.139549 -0.026264 -0.052281 -0.121068   \n",
       "2021-03-31 -0.228194 -0.014366  0.116946  0.046203  0.081276  0.144510   \n",
       "2021-04-30 -0.093542 -0.162483 -0.066972 -0.046543 -0.099481  0.021565   \n",
       "2021-05-31 -0.116208  0.160077  0.040744 -0.052939  0.001236  0.045846   \n",
       "2021-06-30  0.082415 -0.113706  0.034633  0.044084 -0.070439 -0.133124   \n",
       "\n",
       "                  7         8         9         10  ...        13        14  \\\n",
       "Date                                                ...                       \n",
       "2012-07-31 -0.017283 -0.088956 -0.027479 -0.166297  ...  0.056321  0.005329   \n",
       "2012-08-31 -0.028318 -0.019877  0.083100 -0.010927  ...  0.010125  0.039513   \n",
       "2012-09-30  0.007980 -0.057431 -0.009034 -0.018465  ...  0.004353 -0.030354   \n",
       "2012-10-31 -0.018747  0.004250 -0.016261 -0.047642  ...  0.037821  0.031651   \n",
       "2012-11-30 -0.069108  0.034436 -0.017693 -0.034530  ...  0.057076 -0.027170   \n",
       "...              ...       ...       ...       ...  ...       ...       ...   \n",
       "2021-02-28 -0.025709  0.086073 -0.055353  0.030766  ... -0.019088 -0.017686   \n",
       "2021-03-31  0.044792  0.029363  0.072187  0.056817  ...  0.026751 -0.015641   \n",
       "2021-04-30  0.008280  0.136889 -0.037869 -0.014937  ... -0.005659  0.025855   \n",
       "2021-05-31  0.016074  0.050314  0.004106 -0.027177  ... -0.012503 -0.014700   \n",
       "2021-06-30  0.001237 -0.023757 -0.051874 -0.011946  ... -0.020049  0.018929   \n",
       "\n",
       "                  15        16        17        18        19        20  \\\n",
       "Date                                                                     \n",
       "2012-07-31 -0.024710  0.002121 -0.008429  0.025162  0.037482  0.047507   \n",
       "2012-08-31  0.002229  0.011445  0.029783  0.020677 -0.026223 -0.017920   \n",
       "2012-09-30 -0.022978 -0.022748  0.030354 -0.023352 -0.023956 -0.000859   \n",
       "2012-10-31 -0.073847  0.062830 -0.048856  0.019210 -0.052455  0.009320   \n",
       "2012-11-30  0.006416 -0.064056 -0.033502 -0.001101  0.026544 -0.027866   \n",
       "...              ...       ...       ...       ...       ...       ...   \n",
       "2021-02-28 -0.042579 -0.073524 -0.019790 -0.011698  0.009586 -0.016131   \n",
       "2021-03-31  0.014089  0.013145 -0.025525  0.055686  0.001700 -0.012403   \n",
       "2021-04-30  0.033333 -0.016342 -0.019541  0.024882 -0.021935 -0.013440   \n",
       "2021-05-31  0.004411  0.069712 -0.028361 -0.014058 -0.005816 -0.028731   \n",
       "2021-06-30  0.040734 -0.084748 -0.024675  0.008677 -0.046277 -0.008667   \n",
       "\n",
       "                  21        22  \n",
       "Date                            \n",
       "2012-07-31  0.013577  0.013919  \n",
       "2012-08-31  0.003575 -0.017197  \n",
       "2012-09-30  0.015238  0.007404  \n",
       "2012-10-31 -0.000979  0.002572  \n",
       "2012-11-30  0.026400  0.020122  \n",
       "...              ...       ...  \n",
       "2021-02-28  0.003191  0.004194  \n",
       "2021-03-31 -0.035163  0.000218  \n",
       "2021-04-30 -0.042620 -0.003327  \n",
       "2021-05-31 -0.010623  0.011653  \n",
       "2021-06-30 -0.023707 -0.015877  \n",
       "\n",
       "[108 rows x 22 columns]"
      ]
     },
     "execution_count": 33,
     "metadata": {},
     "output_type": "execute_result"
    }
   ],
   "source": [
    "factors = clean @ vh.T\n",
    "factors.columns = np.arange(1,23)\n",
    "factors"
   ]
  },
  {
   "cell_type": "markdown",
   "id": "8216918a",
   "metadata": {},
   "source": [
    "## 2"
   ]
  },
  {
   "cell_type": "code",
   "execution_count": 34,
   "id": "785c0948",
   "metadata": {
    "ExecuteTime": {
     "end_time": "2021-07-08T21:24:44.817596Z",
     "start_time": "2021-07-08T21:24:44.811521Z"
    }
   },
   "outputs": [
    {
     "data": {
      "text/html": [
       "<div>\n",
       "<style scoped>\n",
       "    .dataframe tbody tr th:only-of-type {\n",
       "        vertical-align: middle;\n",
       "    }\n",
       "\n",
       "    .dataframe tbody tr th {\n",
       "        vertical-align: top;\n",
       "    }\n",
       "\n",
       "    .dataframe thead th {\n",
       "        text-align: right;\n",
       "    }\n",
       "</style>\n",
       "<table border=\"1\" class=\"dataframe\">\n",
       "  <thead>\n",
       "    <tr style=\"text-align: right;\">\n",
       "      <th></th>\n",
       "      <th>Eigen Value</th>\n",
       "      <th>Percentage Explained</th>\n",
       "    </tr>\n",
       "  </thead>\n",
       "  <tbody>\n",
       "    <tr>\n",
       "      <th>1</th>\n",
       "      <td>5.545562</td>\n",
       "      <td>0.452709</td>\n",
       "    </tr>\n",
       "    <tr>\n",
       "      <th>2</th>\n",
       "      <td>1.367997</td>\n",
       "      <td>0.111676</td>\n",
       "    </tr>\n",
       "    <tr>\n",
       "      <th>3</th>\n",
       "      <td>0.853784</td>\n",
       "      <td>0.069698</td>\n",
       "    </tr>\n",
       "    <tr>\n",
       "      <th>4</th>\n",
       "      <td>0.780846</td>\n",
       "      <td>0.063744</td>\n",
       "    </tr>\n",
       "    <tr>\n",
       "      <th>5</th>\n",
       "      <td>0.700834</td>\n",
       "      <td>0.057212</td>\n",
       "    </tr>\n",
       "    <tr>\n",
       "      <th>6</th>\n",
       "      <td>0.563281</td>\n",
       "      <td>0.045983</td>\n",
       "    </tr>\n",
       "    <tr>\n",
       "      <th>7</th>\n",
       "      <td>0.421317</td>\n",
       "      <td>0.034394</td>\n",
       "    </tr>\n",
       "    <tr>\n",
       "      <th>8</th>\n",
       "      <td>0.338913</td>\n",
       "      <td>0.027667</td>\n",
       "    </tr>\n",
       "    <tr>\n",
       "      <th>9</th>\n",
       "      <td>0.279501</td>\n",
       "      <td>0.022817</td>\n",
       "    </tr>\n",
       "    <tr>\n",
       "      <th>10</th>\n",
       "      <td>0.216742</td>\n",
       "      <td>0.017694</td>\n",
       "    </tr>\n",
       "    <tr>\n",
       "      <th>11</th>\n",
       "      <td>0.179368</td>\n",
       "      <td>0.014643</td>\n",
       "    </tr>\n",
       "    <tr>\n",
       "      <th>12</th>\n",
       "      <td>0.166899</td>\n",
       "      <td>0.013625</td>\n",
       "    </tr>\n",
       "    <tr>\n",
       "      <th>13</th>\n",
       "      <td>0.142251</td>\n",
       "      <td>0.011613</td>\n",
       "    </tr>\n",
       "    <tr>\n",
       "      <th>14</th>\n",
       "      <td>0.130127</td>\n",
       "      <td>0.010623</td>\n",
       "    </tr>\n",
       "    <tr>\n",
       "      <th>15</th>\n",
       "      <td>0.116784</td>\n",
       "      <td>0.009534</td>\n",
       "    </tr>\n",
       "    <tr>\n",
       "      <th>16</th>\n",
       "      <td>0.096848</td>\n",
       "      <td>0.007906</td>\n",
       "    </tr>\n",
       "    <tr>\n",
       "      <th>17</th>\n",
       "      <td>0.081014</td>\n",
       "      <td>0.006614</td>\n",
       "    </tr>\n",
       "    <tr>\n",
       "      <th>18</th>\n",
       "      <td>0.072049</td>\n",
       "      <td>0.005882</td>\n",
       "    </tr>\n",
       "    <tr>\n",
       "      <th>19</th>\n",
       "      <td>0.056609</td>\n",
       "      <td>0.004621</td>\n",
       "    </tr>\n",
       "    <tr>\n",
       "      <th>20</th>\n",
       "      <td>0.056329</td>\n",
       "      <td>0.004598</td>\n",
       "    </tr>\n",
       "    <tr>\n",
       "      <th>21</th>\n",
       "      <td>0.047263</td>\n",
       "      <td>0.003858</td>\n",
       "    </tr>\n",
       "    <tr>\n",
       "      <th>22</th>\n",
       "      <td>0.035405</td>\n",
       "      <td>0.002890</td>\n",
       "    </tr>\n",
       "  </tbody>\n",
       "</table>\n",
       "</div>"
      ],
      "text/plain": [
       "    Eigen Value  Percentage Explained\n",
       "1      5.545562              0.452709\n",
       "2      1.367997              0.111676\n",
       "3      0.853784              0.069698\n",
       "4      0.780846              0.063744\n",
       "5      0.700834              0.057212\n",
       "6      0.563281              0.045983\n",
       "7      0.421317              0.034394\n",
       "8      0.338913              0.027667\n",
       "9      0.279501              0.022817\n",
       "10     0.216742              0.017694\n",
       "11     0.179368              0.014643\n",
       "12     0.166899              0.013625\n",
       "13     0.142251              0.011613\n",
       "14     0.130127              0.010623\n",
       "15     0.116784              0.009534\n",
       "16     0.096848              0.007906\n",
       "17     0.081014              0.006614\n",
       "18     0.072049              0.005882\n",
       "19     0.056609              0.004621\n",
       "20     0.056329              0.004598\n",
       "21     0.047263              0.003858\n",
       "22     0.035405              0.002890"
      ]
     },
     "execution_count": 34,
     "metadata": {},
     "output_type": "execute_result"
    }
   ],
   "source": [
    "report = pd.DataFrame(index=factors.columns, columns=['Eigen Value', 'Percentage Explained'])\n",
    "report['Eigen Value'] = s**2\n",
    "report['Percentage Explained'] = s**2 / (s**2).sum()\n",
    "report"
   ]
  },
  {
   "cell_type": "markdown",
   "id": "47e7a6eb",
   "metadata": {},
   "source": [
    "## 3"
   ]
  },
  {
   "cell_type": "code",
   "execution_count": 35,
   "id": "ce08bc4b",
   "metadata": {
    "ExecuteTime": {
     "end_time": "2021-07-08T21:24:44.822503Z",
     "start_time": "2021-07-08T21:24:44.818648Z"
    }
   },
   "outputs": [
    {
     "data": {
      "text/plain": [
       "1     0.452709\n",
       "2     0.564385\n",
       "3     0.634083\n",
       "4     0.697827\n",
       "5     0.755039\n",
       "6     0.801022\n",
       "7     0.835416\n",
       "8     0.863083\n",
       "9     0.885900\n",
       "10    0.903594\n",
       "11    0.918237\n",
       "12    0.931861\n",
       "13    0.943474\n",
       "14    0.954097\n",
       "15    0.963630\n",
       "16    0.971536\n",
       "17    0.978150\n",
       "18    0.984032\n",
       "19    0.988653\n",
       "20    0.993251\n",
       "21    0.997110\n",
       "22    1.000000\n",
       "Name: Percentage Explained, dtype: float64"
      ]
     },
     "execution_count": 35,
     "metadata": {},
     "output_type": "execute_result"
    }
   ],
   "source": [
    "report['Percentage Explained'].cumsum()"
   ]
  },
  {
   "cell_type": "markdown",
   "id": "578951ea",
   "metadata": {},
   "source": [
    "We need the first 5 PCs to explain at least 75% of the variation"
   ]
  },
  {
   "cell_type": "markdown",
   "id": "890ac92b",
   "metadata": {},
   "source": [
    "## 4"
   ]
  },
  {
   "cell_type": "code",
   "execution_count": 36,
   "id": "15853351",
   "metadata": {
    "ExecuteTime": {
     "end_time": "2021-07-08T21:24:44.834153Z",
     "start_time": "2021-07-08T21:24:44.824129Z"
    }
   },
   "outputs": [
    {
     "data": {
      "text/plain": [
       "AAPL   -0.412203\n",
       "AMZN   -0.457428\n",
       "BA     -0.660608\n",
       "BAC    -0.826640\n",
       "C      -0.910205\n",
       "CVX    -0.788713\n",
       "DUK    -0.063091\n",
       "EOG    -0.798226\n",
       "FB     -0.403273\n",
       "GS     -0.842413\n",
       "HON    -0.807103\n",
       "JNJ    -0.529839\n",
       "JPM    -0.842166\n",
       "MS     -0.862395\n",
       "MSFT   -0.462682\n",
       "NEE     0.023435\n",
       "PFE    -0.464199\n",
       "TMO    -0.400638\n",
       "UNH    -0.478393\n",
       "UPS    -0.466159\n",
       "V      -0.626768\n",
       "XOM    -0.781979\n",
       "Name: 1, dtype: float64"
      ]
     },
     "execution_count": 36,
     "metadata": {},
     "output_type": "execute_result"
    }
   ],
   "source": [
    "correlations = factors[[1]].merge(equities, how='left', left_index=True, right_index=True).corr().iloc[0,1:]\n",
    "correlations"
   ]
  },
  {
   "cell_type": "code",
   "execution_count": 37,
   "id": "7ea22588",
   "metadata": {
    "ExecuteTime": {
     "end_time": "2021-07-08T21:24:44.838315Z",
     "start_time": "2021-07-08T21:24:44.834849Z"
    }
   },
   "outputs": [
    {
     "data": {
      "text/plain": [
       "'C'"
      ]
     },
     "execution_count": 37,
     "metadata": {},
     "output_type": "execute_result"
    }
   ],
   "source": [
    "correlations.abs().idxmax()"
   ]
  },
  {
   "cell_type": "markdown",
   "id": "068b4bb2",
   "metadata": {},
   "source": [
    "## 5"
   ]
  },
  {
   "cell_type": "code",
   "execution_count": 38,
   "id": "82ddfece",
   "metadata": {
    "ExecuteTime": {
     "end_time": "2021-07-08T21:24:44.847091Z",
     "start_time": "2021-07-08T21:24:44.840512Z"
    }
   },
   "outputs": [
    {
     "data": {
      "text/html": [
       "<div>\n",
       "<style scoped>\n",
       "    .dataframe tbody tr th:only-of-type {\n",
       "        vertical-align: middle;\n",
       "    }\n",
       "\n",
       "    .dataframe tbody tr th {\n",
       "        vertical-align: top;\n",
       "    }\n",
       "\n",
       "    .dataframe thead th {\n",
       "        text-align: right;\n",
       "    }\n",
       "</style>\n",
       "<table border=\"1\" class=\"dataframe\">\n",
       "  <thead>\n",
       "    <tr style=\"text-align: right;\">\n",
       "      <th></th>\n",
       "      <th>1</th>\n",
       "      <th>2</th>\n",
       "      <th>3</th>\n",
       "      <th>SPY</th>\n",
       "    </tr>\n",
       "  </thead>\n",
       "  <tbody>\n",
       "    <tr>\n",
       "      <th>1</th>\n",
       "      <td>1.000000e+00</td>\n",
       "      <td>-1.750893e-14</td>\n",
       "      <td>2.351828e-17</td>\n",
       "      <td>-0.910369</td>\n",
       "    </tr>\n",
       "    <tr>\n",
       "      <th>2</th>\n",
       "      <td>-1.750893e-14</td>\n",
       "      <td>1.000000e+00</td>\n",
       "      <td>-1.364372e-17</td>\n",
       "      <td>-0.272989</td>\n",
       "    </tr>\n",
       "    <tr>\n",
       "      <th>3</th>\n",
       "      <td>2.351828e-17</td>\n",
       "      <td>-1.364372e-17</td>\n",
       "      <td>1.000000e+00</td>\n",
       "      <td>-0.135476</td>\n",
       "    </tr>\n",
       "    <tr>\n",
       "      <th>SPY</th>\n",
       "      <td>-9.103693e-01</td>\n",
       "      <td>-2.729889e-01</td>\n",
       "      <td>-1.354763e-01</td>\n",
       "      <td>1.000000</td>\n",
       "    </tr>\n",
       "  </tbody>\n",
       "</table>\n",
       "</div>"
      ],
      "text/plain": [
       "                1             2             3       SPY\n",
       "1    1.000000e+00 -1.750893e-14  2.351828e-17 -0.910369\n",
       "2   -1.750893e-14  1.000000e+00 -1.364372e-17 -0.272989\n",
       "3    2.351828e-17 -1.364372e-17  1.000000e+00 -0.135476\n",
       "SPY -9.103693e-01 -2.729889e-01 -1.354763e-01  1.000000"
      ]
     },
     "execution_count": 38,
     "metadata": {},
     "output_type": "execute_result"
    }
   ],
   "source": [
    "factors[[1,2,3]].merge(data['SPY'], how='left', left_index=True, right_index=True).corr()"
   ]
  },
  {
   "cell_type": "markdown",
   "id": "ad82d1fe",
   "metadata": {},
   "source": [
    "# 3 Optional"
   ]
  },
  {
   "cell_type": "markdown",
   "id": "10b376e7",
   "metadata": {
    "ExecuteTime": {
     "end_time": "2021-07-06T01:53:56.367198Z",
     "start_time": "2021-07-06T01:53:56.364071Z"
    }
   },
   "source": [
    "## 1"
   ]
  },
  {
   "cell_type": "code",
   "execution_count": 39,
   "id": "c871cb2b",
   "metadata": {
    "ExecuteTime": {
     "end_time": "2021-07-08T21:24:44.849946Z",
     "start_time": "2021-07-08T21:24:44.847884Z"
    }
   },
   "outputs": [],
   "source": [
    "X = factors[[1,2,3]]\n",
    "y = data['SPY']"
   ]
  },
  {
   "cell_type": "code",
   "execution_count": 40,
   "id": "db24ca3a",
   "metadata": {
    "ExecuteTime": {
     "end_time": "2021-07-08T21:24:44.854809Z",
     "start_time": "2021-07-08T21:24:44.851161Z"
    }
   },
   "outputs": [
    {
     "data": {
      "text/plain": [
       "0.9216490387794138"
      ]
     },
     "execution_count": 40,
     "metadata": {},
     "output_type": "execute_result"
    }
   ],
   "source": [
    "model = LinearRegression().fit(X,y)\n",
    "model.score(X, y)"
   ]
  },
  {
   "cell_type": "markdown",
   "id": "b7432084",
   "metadata": {
    "ExecuteTime": {
     "end_time": "2021-07-06T01:58:22.285954Z",
     "start_time": "2021-07-06T01:58:22.279017Z"
    }
   },
   "source": [
    "## 2"
   ]
  },
  {
   "cell_type": "code",
   "execution_count": 41,
   "id": "ec4b0f3d",
   "metadata": {
    "ExecuteTime": {
     "end_time": "2021-07-08T21:24:45.074354Z",
     "start_time": "2021-07-08T21:24:44.861743Z"
    }
   },
   "outputs": [],
   "source": [
    "X = equities\n",
    "y = data['SPY']\n",
    "penalty = 1000\n",
    "while (Lasso(alpha=penalty*1e-6).fit(X,y).coef_ != 0).sum() != 3:\n",
    "    penalty += 1"
   ]
  },
  {
   "cell_type": "code",
   "execution_count": 42,
   "id": "e61d1cfc",
   "metadata": {
    "ExecuteTime": {
     "end_time": "2021-07-08T21:24:45.077025Z",
     "start_time": "2021-07-08T21:24:45.075126Z"
    }
   },
   "outputs": [
    {
     "name": "stdout",
     "output_type": "stream",
     "text": [
      "The penalty is: 0.0014579999999999999\n"
     ]
    }
   ],
   "source": [
    "print(f'The penalty is: {penalty*1e-6}')"
   ]
  },
  {
   "cell_type": "code",
   "execution_count": 43,
   "id": "92fc6c13",
   "metadata": {
    "ExecuteTime": {
     "end_time": "2021-07-08T21:24:45.081634Z",
     "start_time": "2021-07-08T21:24:45.077845Z"
    }
   },
   "outputs": [
    {
     "data": {
      "text/plain": [
       "0.41158606787026364"
      ]
     },
     "execution_count": 43,
     "metadata": {},
     "output_type": "execute_result"
    }
   ],
   "source": [
    "Lasso(alpha=penalty*1e-6).fit(X,y).score(X, y)"
   ]
  },
  {
   "cell_type": "markdown",
   "id": "aca61e3d",
   "metadata": {},
   "source": [
    "## 3"
   ]
  },
  {
   "cell_type": "code",
   "execution_count": 44,
   "id": "9e8d30dc",
   "metadata": {
    "ExecuteTime": {
     "end_time": "2021-07-08T21:24:45.087497Z",
     "start_time": "2021-07-08T21:24:45.082254Z"
    }
   },
   "outputs": [
    {
     "data": {
      "text/plain": [
       "0.9612209178196294"
      ]
     },
     "execution_count": 44,
     "metadata": {},
     "output_type": "execute_result"
    }
   ],
   "source": [
    "PLSRegression(n_components=3).fit(X, y).score(X, y)"
   ]
  },
  {
   "cell_type": "markdown",
   "id": "e87244c5",
   "metadata": {},
   "source": [
    "## 4"
   ]
  },
  {
   "cell_type": "markdown",
   "id": "366f5c8f",
   "metadata": {},
   "source": [
    "Yes, this result makes sense. OLS and PLS are both seeking to maximize the ability to explain the variation in y variable, and therefore we see they have high R-squared. When using LASSO to select only 3 regressors out of 22, we are making an extremely conservative selections. This makes in-sample R-squared lower, but may make more robust OOS predictions."
   ]
  }
 ],
 "metadata": {
  "kernelspec": {
   "display_name": "Python 3",
   "language": "python",
   "name": "python3"
  },
  "language_info": {
   "codemirror_mode": {
    "name": "ipython",
    "version": 3
   },
   "file_extension": ".py",
   "mimetype": "text/x-python",
   "name": "python",
   "nbconvert_exporter": "python",
   "pygments_lexer": "ipython3",
   "version": "3.8.2"
  },
  "toc": {
   "base_numbering": 1,
   "nav_menu": {},
   "number_sections": true,
   "sideBar": true,
   "skip_h1_title": false,
   "title_cell": "Table of Contents",
   "title_sidebar": "Contents",
   "toc_cell": false,
   "toc_position": {},
   "toc_section_display": true,
   "toc_window_display": true
  },
  "varInspector": {
   "cols": {
    "lenName": 16,
    "lenType": 16,
    "lenVar": 40
   },
   "kernels_config": {
    "python": {
     "delete_cmd_postfix": "",
     "delete_cmd_prefix": "del ",
     "library": "var_list.py",
     "varRefreshCmd": "print(var_dic_list())"
    },
    "r": {
     "delete_cmd_postfix": ") ",
     "delete_cmd_prefix": "rm(",
     "library": "var_list.r",
     "varRefreshCmd": "cat(var_dic_list()) "
    }
   },
   "types_to_exclude": [
    "module",
    "function",
    "builtin_function_or_method",
    "instance",
    "_Feature"
   ],
   "window_display": false
  }
 },
 "nbformat": 4,
 "nbformat_minor": 5
}
