{
 "cells": [
  {
   "cell_type": "markdown",
   "metadata": {},
   "source": [
    "## This notebook has no coding purpose.\n",
    "\n",
    "Rather, it is simply a file for demonstrating your usage of git.\n",
    "\n",
    "## Change the variable below to your name."
   ]
  },
  {
   "cell_type": "code",
   "execution_count": 1,
   "metadata": {},
   "outputs": [
    {
     "name": "stdout",
     "output_type": "stream",
     "text": [
      "My name is Daiwei Lang.\n"
     ]
    }
   ],
   "source": [
    "name = \"Daiwei Lang\"\n",
    "print(f'My name is {name}.')"
   ]
  },
  {
   "cell_type": "markdown",
   "metadata": {},
   "source": [
    "# 1. Create an account on GitHub.com\n",
    "\n",
    "The documentation there should make this very easy.\n",
    "\n",
    "# 2. Make sure you have git installed on your computer.\n",
    "See the resources on Canvas, in the \"Learning Git and Using GitHub\" page."
   ]
  },
  {
   "cell_type": "markdown",
   "metadata": {},
   "source": [
    "## *** In real situations, you'll likely be working on a repo where you have write access, and you will skip to step 4, and ignore the forking done here.\n",
    "\n",
    "## But for this demo/assignment, (as well as any 3rd-party repo on which you want to collaborate,) you do not have write access, so you need to fork.\n",
    "If you own the repo or are a collaborator, there is no need to \"fork\" the repo. You will make changes to your copy, and push them to the repo directly.\n",
    "\n",
    "# 3. Create a forked repository\n",
    "If you do not have write access to a repo, then you need to fork it. \n",
    "\n",
    "The class github [repo](https://github.com/MarkHendricks/drw-dataanalysis-2021) is public, so everyone has \"read\" access. But you do not own it, nor have you been specifically assigned collaborator status.\n",
    "\n",
    "Rather than making changes directly to this repository, you will create a \"fork\" on Github that creates a copy of the repo in your own account. To do this, go to the main repo page in Github [here](https://github.com/MarkHendricks/drw-dataanalysis-2021) and click the \"fork\" button in the upper right corner."
   ]
  },
  {
   "cell_type": "markdown",
   "metadata": {},
   "source": [
    "# 4. Get a local copy of the repo\n",
    "To make changes to your repo (whether you forked a 3rd-party repo or are working on one of your repos,) you will want a copy of the repository on your local machine. Downloading a repo is known as \"cloning\". On the command line, navigate to where you would like to download the repo, and execute `git clone REPO_ADDRESS`, where REPO_ADDRESS can be obtained by clicking the green \"Code\" button on the main page of your forked Github page and copying the address. It should look something like \"https://github.com/USERNAME/REPO_NAME.git\""
   ]
  },
  {
   "cell_type": "markdown",
   "metadata": {},
   "source": [
    "# 5. Make sure you updated this file with your own name.\n",
    "\n",
    "Now that you have both a forked copy of the repo on Github and a local copy, update the notebook with your saved change (your name).\n",
    "\n",
    "Go to the top, and replace the `name` variable with your name. Then run the cell and save it."
   ]
  },
  {
   "cell_type": "markdown",
   "metadata": {},
   "source": [
    "# 6. Create a Branch\n",
    "\n",
    "1. Navigate into the newly cloned directory.\n",
    "1. Create a new branch of the directory. Do so by entering the following command in the terminal (Mac) or command window (Windows): `git branch <branch_name>`. (Let's each name our branch our own name, so that in the command above, you will replace `<branch_name>` with your name--all one word!)\n",
    "1. Checkout the new branch `git checkout <branch_name>`. This points your git at the new branch, so that your coming changes will go there."
   ]
  },
  {
   "cell_type": "markdown",
   "metadata": {},
   "source": [
    "# 7. Commit the Change\n",
    "1. In the command line, enter `git status`. Notice what is listed as staged for the commit (possibly nothing yet,) and what is listed as unstaged.\n",
    "1. Stage the changes to \"GitTest.ipynb\" by entering (in the command line,) `git add notebooks/GitTest.ipynb`.\n",
    "1. If you enter `git status` again, you should see the change in that `GitTest.ipynb` is now staged.\n",
    "1. Commit the changes to the repo using `git commit -m \"Updating my name\"`.\n",
    "\n",
    "At this point you have modified your local git repository with the newly commited changes, but these changes do not exist in either of the original or forked repos on Github."
   ]
  },
  {
   "cell_type": "markdown",
   "metadata": {},
   "source": [
    "# 8. Push the changes to (your fork on) Github\n",
    "To sync the changes back to your fork on Github, you need to do a \"push\". This means pushes local changes back to a remote repo. You can do this by executing `git push -u origin YOUR_BRANCH_NAME`. After the first time you would only need `git push`, but because we have not pushed anything before, we need to tell git where to push it to. `origin` is the default name for the place you originally cloned from. You need to replace `YOUR_BRANCH_NAME` with the branch name you have chosen in order for the local and remote branch names to match.\n",
    "\n",
    "#### Note that this step is the same in a typical workflow, where you are not forking someone else's repo but working on a repo where you have access. But in that case, your push will update your branch on the repo directly."
   ]
  },
  {
   "cell_type": "markdown",
   "metadata": {},
   "source": [
    "# 9. Send the changes back to the original Github repo\n",
    "Now your changes are present locally and on your fork. You can then suggest your changes back to the original repo via a \"pull request\". If accepted by the owner, your changes would become part of the original repository. (I will not adopt the change, obviously, but I'll be able to see you made the change.)\n",
    "\n",
    "Note that because this is a public repo, **anyone** will be able to see the file you changed.\n",
    "\n",
    "To create the pull request, go the webpage for your fork and click \"Pull Request\" near the top of the page. Then select that you want to make a request from your new branch on your fork to the main branch on the original repo and create the request.\n",
    "\n",
    "#### In a typical work project where you did not need to fork, this step is similar. But rather than make the pull request at the third-party repo, you could make the pull request on your own repo. If you're working on a repo with a team, it would be common to make a pull request even if you have write access. This gives your team visibility and control on whether to accept the changes. "
   ]
  }
 ],
 "metadata": {
  "kernelspec": {
   "display_name": "Python 3",
   "language": "python",
   "name": "python3"
  },
  "language_info": {
   "codemirror_mode": {
    "name": "ipython",
    "version": 3
   },
   "file_extension": ".py",
   "mimetype": "text/x-python",
   "name": "python",
   "nbconvert_exporter": "python",
   "pygments_lexer": "ipython3",
   "version": "3.8.5"
  },
  "toc": {
   "base_numbering": 1,
   "nav_menu": {},
   "number_sections": true,
   "sideBar": true,
   "skip_h1_title": false,
   "title_cell": "Table of Contents",
   "title_sidebar": "Contents",
   "toc_cell": false,
   "toc_position": {},
   "toc_section_display": true,
   "toc_window_display": false
  }
 },
 "nbformat": 4,
 "nbformat_minor": 5
}
